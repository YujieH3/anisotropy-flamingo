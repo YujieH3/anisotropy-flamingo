{
 "cells": [
  {
   "cell_type": "code",
   "execution_count": 16,
   "metadata": {},
   "outputs": [
    {
     "name": "stdout",
     "output_type": "stream",
     "text": [
      "LX-T 313\n",
      "Best fit found:  {logA: 0.18354696139253074, B: 2.458, scat: 0.12000000000000001, chi2: 1.006157555290784}\n",
      "1.5259733933606656\n",
      "YSZ-T 260\n",
      "Best fit found:  {logA: 0.02908998699194361, B: 2.733, scat: 0.113, chi2: 0.9988467133608272}\n",
      "1.069276413237154\n"
     ]
    }
   ],
   "source": [
    "import sys\n",
    "sys.path.append('../tools/')\n",
    "import clusterfit as cf\n",
    "import numpy as np\n",
    "import pandas as pd\n",
    "\n",
    "file = '../data/samples_in_lightcone0_with_trees_duplicate_excision_outlier_excision.csv'\n",
    "cluster_data = pd.read_csv(file)\n",
    "\n",
    "for scaling_relation in ['LX-T', 'YSZ-T']:\n",
    "    n_clusters = cf.CONST[scaling_relation]['N']\n",
    "    print(scaling_relation, n_clusters)\n",
    "\n",
    "    _ = scaling_relation.find('-')\n",
    "    Y = cluster_data[cf.COLUMNS[scaling_relation[:_  ]]][:n_clusters]\n",
    "    X = cluster_data[cf.COLUMNS[scaling_relation[_+1:]]][:n_clusters]\n",
    "    z = cluster_data['ObservedRedshift'][:n_clusters]\n",
    "\n",
    "    Y = np.array(Y)\n",
    "    X = np.array(X)\n",
    "    z = np.array(z)\n",
    "\n",
    "    logY_ = cf.logY_(Y, z=z, relation=scaling_relation)\n",
    "    logX_ = cf.logX_(X, relation=scaling_relation)\n",
    "\n",
    "    FIT_RANGE = cf.FIVE_MAX_RANGE\n",
    "\n",
    "    fit = cf.fit(logY_, logX_, n_clusters, **FIT_RANGE[scaling_relation])\n",
    "\n",
    "    print(10**fit[0]['logA'])"
   ]
  },
  {
   "cell_type": "code",
   "execution_count": 17,
   "metadata": {},
   "outputs": [
    {
     "name": "stdout",
     "output_type": "stream",
     "text": [
      "LX-T 313\n",
      "Best fit found:  {logA: 0.07554696139253074, B: 2.207, scat: 0.134, chi2: 0.9448080433773284}\n",
      "1.19\n",
      "YSZ-T 260\n",
      "Best fit found:  {logA: -0.09691001300805639, B: 2.4019999999999997, scat: 0.12000000000000001, chi2: 0.9341551227813685}\n",
      "0.8\n"
     ]
    }
   ],
   "source": [
    "import sys\n",
    "sys.path.append('../tools/')\n",
    "import clusterfit as cf\n",
    "import numpy as np\n",
    "import pandas as pd\n",
    "\n",
    "file = '../data/samples_in_lightcone0_with_trees_duplicate_excision_outlier_excision.csv'\n",
    "cluster_data = pd.read_csv(file)\n",
    "\n",
    "for scaling_relation in ['LX-T', 'YSZ-T']:\n",
    "    n_clusters = cf.CONST[scaling_relation]['N']\n",
    "    print(scaling_relation, n_clusters)\n",
    "\n",
    "    _ = scaling_relation.find('-')\n",
    "    Y = cluster_data[cf.COLUMNS[scaling_relation[:_  ]]][:n_clusters]\n",
    "    X = cluster_data[cf.COLUMNS[scaling_relation[_+1:]]][:n_clusters]**(1/0.89)\n",
    "    z = cluster_data['ObservedRedshift'][:n_clusters]\n",
    "\n",
    "    Y = np.array(Y)\n",
    "    X = np.array(X)\n",
    "    z = np.array(z)\n",
    "\n",
    "    logY_ = cf.logY_(Y, z=z, relation=scaling_relation)\n",
    "    logX_ = cf.logX_(X, relation=scaling_relation)\n",
    "\n",
    "    FIT_RANGE = cf.FIVE_MAX_RANGE\n",
    "\n",
    "    fit = cf.fit(logY_, logX_, n_clusters, **FIT_RANGE[scaling_relation])\n",
    "    print(10**fit[0]['logA'])"
   ]
  },
  {
   "cell_type": "markdown",
   "metadata": {},
   "source": [
    "| Relation | A | B | scatter |\n",
    "| -------- | - | - | ------- |\n",
    "| LX-T     | 1.19 | 2.207 | 0.134 |\n",
    "| YSZ-T    | 0.80 | 2.402 | 0.120 |"
   ]
  }
 ],
 "metadata": {
  "kernelspec": {
   "display_name": "plot",
   "language": "python",
   "name": "python3"
  },
  "language_info": {
   "codemirror_mode": {
    "name": "ipython",
    "version": 3
   },
   "file_extension": ".py",
   "mimetype": "text/x-python",
   "name": "python",
   "nbconvert_exporter": "python",
   "pygments_lexer": "ipython3",
   "version": "3.12.4"
  }
 },
 "nbformat": 4,
 "nbformat_minor": 2
}
