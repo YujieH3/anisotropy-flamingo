{
 "cells": [
  {
   "cell_type": "code",
   "execution_count": 1,
   "metadata": {},
   "outputs": [],
   "source": [
    "import h5py\n",
    "from astropy.cosmology import FlatLambdaCDM\n",
    "cosmo = FlatLambdaCDM(H0=68.1, Om0=0.306)\n",
    "\n",
    "def is_light_like(z, r, cosmo):\n",
    "    \"\"\"\n",
    "    Tell if an object at a comoving coordinate is observable at given redshift.\n",
    "    Output false if the spacetime interval is space-like and true if light-like.  \n",
    "\n",
    "    light-like = (cdt/a(t))^2 > (dr)^2\n",
    "    space-like = (cdt/a(t))^2 < (dr)^2\n",
    "    \"\"\"\n",
    "    flags = (cosmo.comoving_distance(z) > r)  # Bool or a list of bool\n",
    "\n",
    "    return flags\n"
   ]
  },
  {
   "cell_type": "code",
   "execution_count": 3,
   "metadata": {},
   "outputs": [],
   "source": [
    "f = h5py.File('../data/halo_properties_0001.hdf5', 'r')"
   ]
  },
  {
   "cell_type": "code",
   "execution_count": 6,
   "metadata": {},
   "outputs": [
    {
     "data": {
      "text/plain": [
       "['BoundSubhaloProperties',\n",
       " 'ExclusiveSphere',\n",
       " 'FOFSubhaloProperties',\n",
       " 'InclusiveSphere',\n",
       " 'Parameters',\n",
       " 'ProjectedAperture',\n",
       " 'RecentlyHeatedGasFilter',\n",
       " 'SO',\n",
       " 'SOAP',\n",
       " 'SWIFT',\n",
       " 'SearchRadius',\n",
       " 'VR']"
      ]
     },
     "execution_count": 6,
     "metadata": {},
     "output_type": "execute_result"
    }
   ],
   "source": [
    "list(f.keys())"
   ]
  },
  {
   "cell_type": "code",
   "execution_count": 11,
   "metadata": {},
   "outputs": [
    {
     "data": {
      "text/plain": [
       "array([9, 8, 7, 6, 5, 4, 3, 2, 1, 0])"
      ]
     },
     "execution_count": 11,
     "metadata": {},
     "output_type": "execute_result"
    }
   ],
   "source": [
    "import numpy as np\n",
    "np.arange(10)[::-1]"
   ]
  },
  {
   "cell_type": "code",
   "execution_count": 16,
   "metadata": {},
   "outputs": [
    {
     "data": {
      "text/plain": [
       "499"
      ]
     },
     "execution_count": 16,
     "metadata": {},
     "output_type": "execute_result"
    }
   ],
   "source": [
    "(-501+500)%1000 - 500"
   ]
  },
  {
   "cell_type": "code",
   "execution_count": 17,
   "metadata": {},
   "outputs": [
    {
     "data": {
      "text/plain": [
       "array([6, 6, 6, 6, 6])"
      ]
     },
     "execution_count": 17,
     "metadata": {},
     "output_type": "execute_result"
    }
   ],
   "source": [
    "np.full(5, 6)"
   ]
  },
  {
   "cell_type": "code",
   "execution_count": 25,
   "metadata": {},
   "outputs": [
    {
     "data": {
      "text/plain": [
       "array([0.11677295, 0.24095309])"
      ]
     },
     "execution_count": 25,
     "metadata": {},
     "output_type": "execute_result"
    }
   ],
   "source": [
    "from astropy.cosmology import FlatLambdaCDM\n",
    "cosmo = FlatLambdaCDM(H0=68.1, Om0=0.306)\n",
    "\n",
    "# Solve when comoving distance is 0.5 Mpc\n",
    "import scipy.optimize as opt\n",
    "z = opt.newton(lambda z: cosmo.comoving_distance(z=z).value - np.array([500, 1000]), [0.1,0.1])\n",
    "z"
   ]
  },
  {
   "cell_type": "code",
   "execution_count": 26,
   "metadata": {},
   "outputs": [
    {
     "data": {
      "text/latex": [
       "$[500,~1000] \\; \\mathrm{Mpc}$"
      ],
      "text/plain": [
       "<Quantity [ 500., 1000.] Mpc>"
      ]
     },
     "execution_count": 26,
     "metadata": {},
     "output_type": "execute_result"
    }
   ],
   "source": [
    "cosmo.comoving_distance(z=z)"
   ]
  }
 ],
 "metadata": {
  "kernelspec": {
   "display_name": "plot",
   "language": "python",
   "name": "python3"
  },
  "language_info": {
   "codemirror_mode": {
    "name": "ipython",
    "version": 3
   },
   "file_extension": ".py",
   "mimetype": "text/x-python",
   "name": "python",
   "nbconvert_exporter": "python",
   "pygments_lexer": "ipython3",
   "version": "3.12.4"
  }
 },
 "nbformat": 4,
 "nbformat_minor": 2
}
