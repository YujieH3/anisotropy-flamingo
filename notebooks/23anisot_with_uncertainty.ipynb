{
 "cells": [
  {
   "cell_type": "code",
   "execution_count": 1,
   "metadata": {},
   "outputs": [],
   "source": [
    "import pandas as pd\n",
    "import numpy as np"
   ]
  },
  {
   "cell_type": "markdown",
   "metadata": {},
   "source": [
    "# H0 anisotropy"
   ]
  },
  {
   "cell_type": "code",
   "execution_count": 27,
   "metadata": {},
   "outputs": [],
   "source": [
    "def H0_dipole_variation(scan_bf, scan_bt, n, A_all, A_all_plus, A_all_minus):\n",
    "    \"\"\"\n",
    "    Arguments\n",
    "    ---------\n",
    "    scan_bf : pandas.DataFrame\n",
    "        Best fit values of the scan.\n",
    "    scan_bt : pandas.DataFrame\n",
    "        Bootstrap values of the scan.\n",
    "    n : float\n",
    "        H0/H0_all = (A/A_all)^n.\n",
    "    A_all : float\n",
    "        Best fit value of A for all clusters.\n",
    "    A_all_plus : float\n",
    "        The positive 1-sigma uncertainty of A_all.\n",
    "    A_all_minus : float\n",
    "        The negative 1-sigma uncertainty of A_all. Here input as a positive number.\n",
    "    \"\"\"\n",
    "    assert A_all_minus > 0\n",
    "    assert A_all_plus > 0\n",
    "\n",
    "    maxidx = scan_bf['n_sigma'].idxmax()\n",
    "    minidx = scan_bf['n_sigma'].idxmin()\n",
    "\n",
    "    A_all_sigma = np.max([A_all_plus, A_all_minus])\n",
    "\n",
    "    # The + region\n",
    "    Glon = scan_bf.loc[maxidx, 'Glon']\n",
    "    Glat = scan_bf.loc[maxidx, 'Glat']\n",
    "\n",
    "    A_max = scan_bf.loc[maxidx, 'A']\n",
    "    A_max_distr = scan_bt[(scan_bt['Glon']==Glon) & (scan_bt['Glat']==Glat)]['A']\n",
    "    A_max_distr = np.array(A_max_distr)\n",
    "\n",
    "    # A_max_plus = np.percentile(A_max_distr, 84) - A_max\n",
    "    # A_max_minus = A_max - np.percentile(A_max_distr, 16)\n",
    "    # A_max_sigma = np.max([A_max_plus, A_max_minus])\n",
    "\n",
    "    A_max_sigma = np.std(A_max_distr) # Use the standard deviation\n",
    "\n",
    "\n",
    "    f_max = best_fit_H0_H0all_max = (A_max/A_all)**n\n",
    "    H0_H0all_sigma_max = np.sqrt(n**2 * f_max**(2*n-2) / A_all**2 * A_max_sigma**2\n",
    "                              + n**2 * f_max**(2*n-2) * A_max**2 / A_all**4 * A_all_sigma**2)\n",
    "    \n",
    "    # The - region\n",
    "    Glon = scan_bf.loc[minidx, 'Glon']\n",
    "    Glat = scan_bf.loc[minidx, 'Glat']\n",
    "\n",
    "    A_min = scan_bf.loc[minidx, 'A']\n",
    "    A_min_distr = scan_bt[(scan_bt['Glon']==Glon) & (scan_bt['Glat']==Glat)]['A']\n",
    "    A_min_distr = np.array(A_min_distr)\n",
    "\n",
    "    # A_min_plus = np.percentile(A_min_distr, 84) - A_min\n",
    "    # A_min_minus = A_min - np.percentile(A_min_distr, 16)\n",
    "    # A_min_sigma = np.max([A_min_plus, A_min_minus])\n",
    "\n",
    "    A_min_sigma = np.std(A_min_distr) # Use the standard deviation\n",
    "\n",
    "    f_min = best_fit_H0_H0all_min = (A_min/A_all)**n\n",
    "    H0_H0all_sigma_min = np.sqrt(n**2 * f_min**(2*n-2) / A_all**2 * A_min_sigma**2\n",
    "                              + n**2 * f_min**(2*n-2) * A_min**2 / A_all**4 * A_all_sigma**2)\n",
    "    \n",
    "    H0_H0all_sigma = np.sqrt(H0_H0all_sigma_max**2 + H0_H0all_sigma_min**2)\n",
    "    return f_max-f_min, H0_H0all_sigma"
   ]
  },
  {
   "cell_type": "code",
   "execution_count": 28,
   "metadata": {},
   "outputs": [
    {
     "data": {
      "text/plain": [
       "(0.04838244768862321, 0.023225335104064493)"
      ]
     },
     "execution_count": 28,
     "metadata": {},
     "output_type": "execute_result"
    }
   ],
   "source": [
    "scan_bf = pd.read_csv('../data/fits/scan_best_fit_LX-T_θ75.csv')\n",
    "scan_bt = pd.read_csv('../data/fits/scan_btstrp_LX-T_θ75.csv')\n",
    "H0_dipole_variation(scan_bf, scan_bt, 0.5, 1.514, 0.021 ,0.028)"
   ]
  },
  {
   "cell_type": "code",
   "execution_count": 29,
   "metadata": {},
   "outputs": [
    {
     "data": {
      "text/plain": [
       "(0.09843794296185082, 0.03209427308937998)"
      ]
     },
     "execution_count": 29,
     "metadata": {},
     "output_type": "execute_result"
    }
   ],
   "source": [
    "scan_bf = pd.read_csv('../data/fits/scan_best_fit_YSZ-T_θ60.csv')\n",
    "scan_bt = pd.read_csv('../data/fits/scan_btstrp_YSZ-T_θ60.csv')\n",
    "H0_dipole_variation(scan_bf, scan_bt, 0.5, 1.079, 0.018, 0.012)"
   ]
  },
  {
   "cell_type": "code",
   "execution_count": 30,
   "metadata": {},
   "outputs": [
    {
     "data": {
      "text/plain": [
       "(0.030507627422421968, 0.011531243814012231)"
      ]
     },
     "execution_count": 30,
     "metadata": {},
     "output_type": "execute_result"
    }
   ],
   "source": [
    "scan_bf = pd.read_csv('../data/fits/scan_best_fit_M-T_θ75.csv')\n",
    "scan_bt = pd.read_csv('../data/fits/scan_btstrp_M-T_θ75.csv')\n",
    "H0_dipole_variation(scan_bf, scan_bt, 0.4, 1.069, 0.012, 0.012)"
   ]
  },
  {
   "cell_type": "markdown",
   "metadata": {},
   "source": [
    "# Dipole direction uncertainty"
   ]
  },
  {
   "cell_type": "code",
   "execution_count": 2,
   "metadata": {},
   "outputs": [],
   "source": [
    "scan_bf = pd.read_csv('../data/fits/scan_best_fit_LX-T_θ75.csv')"
   ]
  },
  {
   "cell_type": "code",
   "execution_count": 4,
   "metadata": {},
   "outputs": [
    {
     "data": {
      "text/plain": [
       "60     -180.0\n",
       "62     -180.0\n",
       "67     -180.0\n",
       "152    -176.0\n",
       "153    -176.0\n",
       "        ...  \n",
       "7323    144.0\n",
       "7987    172.0\n",
       "8071    176.0\n",
       "8074    176.0\n",
       "8075    176.0\n",
       "Name: Glon, Length: 1846, dtype: float64"
      ]
     },
     "execution_count": 4,
     "metadata": {},
     "output_type": "execute_result"
    }
   ],
   "source": [
    "max_sigma = scan_bf['n_sigma'].max()\n",
    "scan_bf.loc[(np.abs(scan_bf['n_sigma']) >= max_sigma-1), 'Glon']"
   ]
  }
 ],
 "metadata": {
  "kernelspec": {
   "display_name": "Python 3",
   "language": "python",
   "name": "python3"
  },
  "language_info": {
   "codemirror_mode": {
    "name": "ipython",
    "version": 3
   },
   "file_extension": ".py",
   "mimetype": "text/x-python",
   "name": "python",
   "nbconvert_exporter": "python",
   "pygments_lexer": "ipython3",
   "version": "3.11.5"
  }
 },
 "nbformat": 4,
 "nbformat_minor": 2
}
