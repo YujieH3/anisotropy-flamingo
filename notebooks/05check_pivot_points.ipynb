{
 "cells": [
  {
   "cell_type": "code",
   "execution_count": 9,
   "metadata": {},
   "outputs": [
    {
     "data": {
      "text/html": [
       "<div>\n",
       "<style scoped>\n",
       "    .dataframe tbody tr th:only-of-type {\n",
       "        vertical-align: middle;\n",
       "    }\n",
       "\n",
       "    .dataframe tbody tr th {\n",
       "        vertical-align: top;\n",
       "    }\n",
       "\n",
       "    .dataframe thead th {\n",
       "        text-align: right;\n",
       "    }\n",
       "</style>\n",
       "<table border=\"1\" class=\"dataframe\">\n",
       "  <thead>\n",
       "    <tr style=\"text-align: right;\">\n",
       "      <th></th>\n",
       "      <th>id</th>\n",
       "      <th>redshift</th>\n",
       "      <th>theta_on_lc</th>\n",
       "      <th>phi_on_lc</th>\n",
       "      <th>M_fof_lc</th>\n",
       "      <th>x_lc</th>\n",
       "      <th>y_lc</th>\n",
       "      <th>z_lc</th>\n",
       "      <th>M_fof_soap</th>\n",
       "      <th>M500</th>\n",
       "      <th>...</th>\n",
       "      <th>LX0InRestframeWithoutRecentAGNHeatingCoreExcision</th>\n",
       "      <th>GasTemperatureWithoutRecentAGNHeatingCoreExcision</th>\n",
       "      <th>SpectroscopicLikeTemperatureWithoutRecentAGNHeatingCoreExcision</th>\n",
       "      <th>Y5R500WithoutRecentAGNHeating</th>\n",
       "      <th>Vx</th>\n",
       "      <th>Vy</th>\n",
       "      <th>Vz</th>\n",
       "      <th>Lcore/Ltot</th>\n",
       "      <th>ObservedRedshift</th>\n",
       "      <th>Flux</th>\n",
       "    </tr>\n",
       "  </thead>\n",
       "  <tbody>\n",
       "    <tr>\n",
       "      <th>0</th>\n",
       "      <td>6010543</td>\n",
       "      <td>0.218876</td>\n",
       "      <td>26.705823</td>\n",
       "      <td>-76.846012</td>\n",
       "      <td>1.099057e+14</td>\n",
       "      <td>185.582736</td>\n",
       "      <td>-794.103995</td>\n",
       "      <td>410.258186</td>\n",
       "      <td>1.099512e+14</td>\n",
       "      <td>5.614381e+13</td>\n",
       "      <td>...</td>\n",
       "      <td>6.891204e+42</td>\n",
       "      <td>1.430217</td>\n",
       "      <td>1.431629</td>\n",
       "      <td>2.685261</td>\n",
       "      <td>272.641300</td>\n",
       "      <td>223.341250</td>\n",
       "      <td>140.04132</td>\n",
       "      <td>0.993070</td>\n",
       "      <td>0.218568</td>\n",
       "      <td>7.882944e-12</td>\n",
       "    </tr>\n",
       "    <tr>\n",
       "      <th>1</th>\n",
       "      <td>10132384</td>\n",
       "      <td>0.259387</td>\n",
       "      <td>-49.538665</td>\n",
       "      <td>-76.554212</td>\n",
       "      <td>1.662498e+14</td>\n",
       "      <td>161.799804</td>\n",
       "      <td>-676.764966</td>\n",
       "      <td>-815.835356</td>\n",
       "      <td>1.663011e+14</td>\n",
       "      <td>1.050034e+14</td>\n",
       "      <td>...</td>\n",
       "      <td>2.389914e+43</td>\n",
       "      <td>1.846717</td>\n",
       "      <td>1.965313</td>\n",
       "      <td>5.416267</td>\n",
       "      <td>-86.806150</td>\n",
       "      <td>154.793820</td>\n",
       "      <td>-158.80615</td>\n",
       "      <td>0.984025</td>\n",
       "      <td>0.259429</td>\n",
       "      <td>8.198552e-12</td>\n",
       "    </tr>\n",
       "    <tr>\n",
       "      <th>2</th>\n",
       "      <td>1985680</td>\n",
       "      <td>0.199581</td>\n",
       "      <td>-52.456777</td>\n",
       "      <td>76.725044</td>\n",
       "      <td>5.806272e+14</td>\n",
       "      <td>117.127131</td>\n",
       "      <td>496.451793</td>\n",
       "      <td>-663.713861</td>\n",
       "      <td>5.805421e+14</td>\n",
       "      <td>3.958242e+14</td>\n",
       "      <td>...</td>\n",
       "      <td>1.695623e+44</td>\n",
       "      <td>4.275121</td>\n",
       "      <td>4.704328</td>\n",
       "      <td>51.893689</td>\n",
       "      <td>-52.412230</td>\n",
       "      <td>-219.912230</td>\n",
       "      <td>195.58777</td>\n",
       "      <td>0.969723</td>\n",
       "      <td>0.198410</td>\n",
       "      <td>5.692966e-11</td>\n",
       "    </tr>\n",
       "    <tr>\n",
       "      <th>3</th>\n",
       "      <td>12678187</td>\n",
       "      <td>0.067892</td>\n",
       "      <td>46.872072</td>\n",
       "      <td>-96.425385</td>\n",
       "      <td>1.123389e+14</td>\n",
       "      <td>-22.503792</td>\n",
       "      <td>-199.826543</td>\n",
       "      <td>214.679297</td>\n",
       "      <td>1.122876e+14</td>\n",
       "      <td>7.627862e+13</td>\n",
       "      <td>...</td>\n",
       "      <td>1.044361e+43</td>\n",
       "      <td>1.527636</td>\n",
       "      <td>1.640585</td>\n",
       "      <td>2.575471</td>\n",
       "      <td>-52.114807</td>\n",
       "      <td>-77.114810</td>\n",
       "      <td>324.38513</td>\n",
       "      <td>0.938963</td>\n",
       "      <td>0.068936</td>\n",
       "      <td>1.677968e-11</td>\n",
       "    </tr>\n",
       "    <tr>\n",
       "      <th>4</th>\n",
       "      <td>3420038</td>\n",
       "      <td>0.113630</td>\n",
       "      <td>38.887460</td>\n",
       "      <td>-3.131552</td>\n",
       "      <td>1.728895e+14</td>\n",
       "      <td>376.672760</td>\n",
       "      <td>-20.607910</td>\n",
       "      <td>304.254847</td>\n",
       "      <td>1.728982e+14</td>\n",
       "      <td>7.792789e+13</td>\n",
       "      <td>...</td>\n",
       "      <td>1.387649e+43</td>\n",
       "      <td>1.793066</td>\n",
       "      <td>1.849541</td>\n",
       "      <td>6.404369</td>\n",
       "      <td>-232.317380</td>\n",
       "      <td>-135.117370</td>\n",
       "      <td>169.58264</td>\n",
       "      <td>0.933735</td>\n",
       "      <td>0.113376</td>\n",
       "      <td>7.033075e-12</td>\n",
       "    </tr>\n",
       "    <tr>\n",
       "      <th>...</th>\n",
       "      <td>...</td>\n",
       "      <td>...</td>\n",
       "      <td>...</td>\n",
       "      <td>...</td>\n",
       "      <td>...</td>\n",
       "      <td>...</td>\n",
       "      <td>...</td>\n",
       "      <td>...</td>\n",
       "      <td>...</td>\n",
       "      <td>...</td>\n",
       "      <td>...</td>\n",
       "      <td>...</td>\n",
       "      <td>...</td>\n",
       "      <td>...</td>\n",
       "      <td>...</td>\n",
       "      <td>...</td>\n",
       "      <td>...</td>\n",
       "      <td>...</td>\n",
       "      <td>...</td>\n",
       "      <td>...</td>\n",
       "      <td>...</td>\n",
       "    </tr>\n",
       "    <tr>\n",
       "      <th>765</th>\n",
       "      <td>12882763</td>\n",
       "      <td>0.052263</td>\n",
       "      <td>43.009397</td>\n",
       "      <td>-35.045370</td>\n",
       "      <td>1.727982e+14</td>\n",
       "      <td>135.647971</td>\n",
       "      <td>-95.141897</td>\n",
       "      <td>154.556921</td>\n",
       "      <td>1.728982e+14</td>\n",
       "      <td>1.437612e+14</td>\n",
       "      <td>...</td>\n",
       "      <td>3.166357e+43</td>\n",
       "      <td>2.304160</td>\n",
       "      <td>2.391696</td>\n",
       "      <td>10.978919</td>\n",
       "      <td>-296.424680</td>\n",
       "      <td>159.875300</td>\n",
       "      <td>135.37530</td>\n",
       "      <td>0.011669</td>\n",
       "      <td>0.051729</td>\n",
       "      <td>5.409843e-12</td>\n",
       "    </tr>\n",
       "    <tr>\n",
       "      <th>766</th>\n",
       "      <td>2680060</td>\n",
       "      <td>0.114146</td>\n",
       "      <td>-47.506732</td>\n",
       "      <td>90.854619</td>\n",
       "      <td>1.012186e+15</td>\n",
       "      <td>-4.937446</td>\n",
       "      <td>330.994150</td>\n",
       "      <td>-361.342140</td>\n",
       "      <td>1.012650e+15</td>\n",
       "      <td>3.056642e+14</td>\n",
       "      <td>...</td>\n",
       "      <td>1.688058e+44</td>\n",
       "      <td>6.404210</td>\n",
       "      <td>6.144428</td>\n",
       "      <td>135.260278</td>\n",
       "      <td>204.244630</td>\n",
       "      <td>-15.655395</td>\n",
       "      <td>-837.35535</td>\n",
       "      <td>0.010340</td>\n",
       "      <td>0.116396</td>\n",
       "      <td>5.656698e-12</td>\n",
       "    </tr>\n",
       "    <tr>\n",
       "      <th>767</th>\n",
       "      <td>4646616</td>\n",
       "      <td>0.125712</td>\n",
       "      <td>-33.564085</td>\n",
       "      <td>-169.939991</td>\n",
       "      <td>8.079670e+14</td>\n",
       "      <td>-442.983802</td>\n",
       "      <td>-78.588470</td>\n",
       "      <td>-298.507096</td>\n",
       "      <td>8.081410e+14</td>\n",
       "      <td>4.139661e+14</td>\n",
       "      <td>...</td>\n",
       "      <td>2.261872e+44</td>\n",
       "      <td>6.189608</td>\n",
       "      <td>6.539750</td>\n",
       "      <td>140.383773</td>\n",
       "      <td>-671.887400</td>\n",
       "      <td>77.012570</td>\n",
       "      <td>-361.78735</td>\n",
       "      <td>0.002155</td>\n",
       "      <td>0.128495</td>\n",
       "      <td>6.101368e-12</td>\n",
       "    </tr>\n",
       "    <tr>\n",
       "      <th>768</th>\n",
       "      <td>11897198</td>\n",
       "      <td>0.016366</td>\n",
       "      <td>-33.124879</td>\n",
       "      <td>-28.281435</td>\n",
       "      <td>3.261190e+14</td>\n",
       "      <td>53.345272</td>\n",
       "      <td>-28.701178</td>\n",
       "      <td>-39.526618</td>\n",
       "      <td>3.260052e+14</td>\n",
       "      <td>2.232009e+14</td>\n",
       "      <td>...</td>\n",
       "      <td>5.882689e+43</td>\n",
       "      <td>3.365881</td>\n",
       "      <td>3.648254</td>\n",
       "      <td>27.483893</td>\n",
       "      <td>143.502800</td>\n",
       "      <td>39.602783</td>\n",
       "      <td>100.90283</td>\n",
       "      <td>0.001408</td>\n",
       "      <td>0.016484</td>\n",
       "      <td>1.030848e-10</td>\n",
       "    </tr>\n",
       "    <tr>\n",
       "      <th>769</th>\n",
       "      <td>5928188</td>\n",
       "      <td>0.131134</td>\n",
       "      <td>-76.649401</td>\n",
       "      <td>76.174479</td>\n",
       "      <td>5.342283e+12</td>\n",
       "      <td>30.874308</td>\n",
       "      <td>125.456402</td>\n",
       "      <td>-544.404766</td>\n",
       "      <td>5.342939e+12</td>\n",
       "      <td>5.617817e+12</td>\n",
       "      <td>...</td>\n",
       "      <td>2.157274e+44</td>\n",
       "      <td>0.167482</td>\n",
       "      <td>0.637456</td>\n",
       "      <td>0.027233</td>\n",
       "      <td>-443.674130</td>\n",
       "      <td>133.725830</td>\n",
       "      <td>-196.67413</td>\n",
       "      <td>0.000000</td>\n",
       "      <td>0.131877</td>\n",
       "      <td>5.216938e-12</td>\n",
       "    </tr>\n",
       "  </tbody>\n",
       "</table>\n",
       "<p>770 rows × 22 columns</p>\n",
       "</div>"
      ],
      "text/plain": [
       "           id  redshift  theta_on_lc   phi_on_lc      M_fof_lc        x_lc  \\\n",
       "0     6010543  0.218876    26.705823  -76.846012  1.099057e+14  185.582736   \n",
       "1    10132384  0.259387   -49.538665  -76.554212  1.662498e+14  161.799804   \n",
       "2     1985680  0.199581   -52.456777   76.725044  5.806272e+14  117.127131   \n",
       "3    12678187  0.067892    46.872072  -96.425385  1.123389e+14  -22.503792   \n",
       "4     3420038  0.113630    38.887460   -3.131552  1.728895e+14  376.672760   \n",
       "..        ...       ...          ...         ...           ...         ...   \n",
       "765  12882763  0.052263    43.009397  -35.045370  1.727982e+14  135.647971   \n",
       "766   2680060  0.114146   -47.506732   90.854619  1.012186e+15   -4.937446   \n",
       "767   4646616  0.125712   -33.564085 -169.939991  8.079670e+14 -442.983802   \n",
       "768  11897198  0.016366   -33.124879  -28.281435  3.261190e+14   53.345272   \n",
       "769   5928188  0.131134   -76.649401   76.174479  5.342283e+12   30.874308   \n",
       "\n",
       "           y_lc        z_lc    M_fof_soap          M500  ...  \\\n",
       "0   -794.103995  410.258186  1.099512e+14  5.614381e+13  ...   \n",
       "1   -676.764966 -815.835356  1.663011e+14  1.050034e+14  ...   \n",
       "2    496.451793 -663.713861  5.805421e+14  3.958242e+14  ...   \n",
       "3   -199.826543  214.679297  1.122876e+14  7.627862e+13  ...   \n",
       "4    -20.607910  304.254847  1.728982e+14  7.792789e+13  ...   \n",
       "..          ...         ...           ...           ...  ...   \n",
       "765  -95.141897  154.556921  1.728982e+14  1.437612e+14  ...   \n",
       "766  330.994150 -361.342140  1.012650e+15  3.056642e+14  ...   \n",
       "767  -78.588470 -298.507096  8.081410e+14  4.139661e+14  ...   \n",
       "768  -28.701178  -39.526618  3.260052e+14  2.232009e+14  ...   \n",
       "769  125.456402 -544.404766  5.342939e+12  5.617817e+12  ...   \n",
       "\n",
       "     LX0InRestframeWithoutRecentAGNHeatingCoreExcision  \\\n",
       "0                                         6.891204e+42   \n",
       "1                                         2.389914e+43   \n",
       "2                                         1.695623e+44   \n",
       "3                                         1.044361e+43   \n",
       "4                                         1.387649e+43   \n",
       "..                                                 ...   \n",
       "765                                       3.166357e+43   \n",
       "766                                       1.688058e+44   \n",
       "767                                       2.261872e+44   \n",
       "768                                       5.882689e+43   \n",
       "769                                       2.157274e+44   \n",
       "\n",
       "     GasTemperatureWithoutRecentAGNHeatingCoreExcision  \\\n",
       "0                                             1.430217   \n",
       "1                                             1.846717   \n",
       "2                                             4.275121   \n",
       "3                                             1.527636   \n",
       "4                                             1.793066   \n",
       "..                                                 ...   \n",
       "765                                           2.304160   \n",
       "766                                           6.404210   \n",
       "767                                           6.189608   \n",
       "768                                           3.365881   \n",
       "769                                           0.167482   \n",
       "\n",
       "     SpectroscopicLikeTemperatureWithoutRecentAGNHeatingCoreExcision  \\\n",
       "0                                             1.431629                 \n",
       "1                                             1.965313                 \n",
       "2                                             4.704328                 \n",
       "3                                             1.640585                 \n",
       "4                                             1.849541                 \n",
       "..                                                 ...                 \n",
       "765                                           2.391696                 \n",
       "766                                           6.144428                 \n",
       "767                                           6.539750                 \n",
       "768                                           3.648254                 \n",
       "769                                           0.637456                 \n",
       "\n",
       "     Y5R500WithoutRecentAGNHeating          Vx          Vy         Vz  \\\n",
       "0                         2.685261  272.641300  223.341250  140.04132   \n",
       "1                         5.416267  -86.806150  154.793820 -158.80615   \n",
       "2                        51.893689  -52.412230 -219.912230  195.58777   \n",
       "3                         2.575471  -52.114807  -77.114810  324.38513   \n",
       "4                         6.404369 -232.317380 -135.117370  169.58264   \n",
       "..                             ...         ...         ...        ...   \n",
       "765                      10.978919 -296.424680  159.875300  135.37530   \n",
       "766                     135.260278  204.244630  -15.655395 -837.35535   \n",
       "767                     140.383773 -671.887400   77.012570 -361.78735   \n",
       "768                      27.483893  143.502800   39.602783  100.90283   \n",
       "769                       0.027233 -443.674130  133.725830 -196.67413   \n",
       "\n",
       "     Lcore/Ltot  ObservedRedshift          Flux  \n",
       "0      0.993070          0.218568  7.882944e-12  \n",
       "1      0.984025          0.259429  8.198552e-12  \n",
       "2      0.969723          0.198410  5.692966e-11  \n",
       "3      0.938963          0.068936  1.677968e-11  \n",
       "4      0.933735          0.113376  7.033075e-12  \n",
       "..          ...               ...           ...  \n",
       "765    0.011669          0.051729  5.409843e-12  \n",
       "766    0.010340          0.116396  5.656698e-12  \n",
       "767    0.002155          0.128495  6.101368e-12  \n",
       "768    0.001408          0.016484  1.030848e-10  \n",
       "769    0.000000          0.131877  5.216938e-12  \n",
       "\n",
       "[770 rows x 22 columns]"
      ]
     },
     "execution_count": 9,
     "metadata": {},
     "output_type": "execute_result"
    }
   ],
   "source": [
    "%load_ext autoreload\n",
    "%autoreload 2\n",
    "import pandas as pd\n",
    "import numpy as np\n",
    "import tools.clusterfit as cf\n",
    "\n",
    "df = pd.read_csv('./data/samples-lightcone0.csv')\n",
    "df"
   ]
  },
  {
   "cell_type": "code",
   "execution_count": 5,
   "metadata": {},
   "outputs": [
    {
     "data": {
      "text/plain": [
       "3.2614036334964163"
      ]
     },
     "execution_count": 5,
     "metadata": {},
     "output_type": "execute_result"
    }
   ],
   "source": [
    "import tools.clusterfit as cf\n",
    "df[cf.Columns['T']].median()"
   ]
  },
  {
   "cell_type": "markdown",
   "metadata": {},
   "source": [
    "## LX-T"
   ]
  },
  {
   "cell_type": "code",
   "execution_count": 6,
   "metadata": {},
   "outputs": [
    {
     "data": {
      "text/plain": [
       "3.3207020537247325"
      ]
     },
     "execution_count": 6,
     "metadata": {},
     "output_type": "execute_result"
    }
   ],
   "source": [
    "df[cf.Columns['T']][:313].median()"
   ]
  },
  {
   "cell_type": "code",
   "execution_count": 10,
   "metadata": {},
   "outputs": [
    {
     "data": {
      "text/plain": [
       "1.2601598590160723e+44"
      ]
     },
     "execution_count": 10,
     "metadata": {},
     "output_type": "execute_result"
    }
   ],
   "source": [
    "np.median(df[cf.Columns['LX']][:313] * cf.E(df['ObservedRedshift'][:313])**-1 )"
   ]
  },
  {
   "cell_type": "markdown",
   "metadata": {},
   "source": [
    "## Ysz-T"
   ]
  },
  {
   "cell_type": "code",
   "execution_count": 11,
   "metadata": {},
   "outputs": [
    {
     "data": {
      "text/plain": [
       "3.24728500304838"
      ]
     },
     "execution_count": 11,
     "metadata": {},
     "output_type": "execute_result"
    }
   ],
   "source": [
    "df[cf.Columns['T']][:260].median()"
   ]
  },
  {
   "cell_type": "code",
   "execution_count": 12,
   "metadata": {},
   "outputs": [
    {
     "data": {
      "text/plain": [
       "21.906135915649017"
      ]
     },
     "execution_count": 12,
     "metadata": {},
     "output_type": "execute_result"
    }
   ],
   "source": [
    "np.median(df[cf.Columns['YSZ']][:260] * cf.E(df['ObservedRedshift'][:260])**1 )"
   ]
  },
  {
   "cell_type": "markdown",
   "metadata": {},
   "source": [
    "## LX-YSZ"
   ]
  },
  {
   "cell_type": "code",
   "execution_count": 13,
   "metadata": {},
   "outputs": [
    {
     "data": {
      "text/plain": [
       "21.244207548795895"
      ]
     },
     "execution_count": 13,
     "metadata": {},
     "output_type": "execute_result"
    }
   ],
   "source": [
    "df[cf.Columns['YSZ']][:460].median()"
   ]
  },
  {
   "cell_type": "code",
   "execution_count": 15,
   "metadata": {},
   "outputs": [
    {
     "data": {
      "text/plain": [
       "3.0555347017329414e+43"
      ]
     },
     "execution_count": 15,
     "metadata": {},
     "output_type": "execute_result"
    }
   ],
   "source": [
    "np.median(df[cf.Columns['LX']][:460] * cf.E(df['ObservedRedshift'][:460])**-5/3 )"
   ]
  },
  {
   "cell_type": "markdown",
   "metadata": {},
   "source": [
    "## M-T"
   ]
  },
  {
   "cell_type": "code",
   "execution_count": 16,
   "metadata": {},
   "outputs": [
    {
     "data": {
      "text/plain": [
       "3.334820684172769"
      ]
     },
     "execution_count": 16,
     "metadata": {},
     "output_type": "execute_result"
    }
   ],
   "source": [
    "df[cf.Columns['T']][:300].median()"
   ]
  },
  {
   "cell_type": "code",
   "execution_count": 17,
   "metadata": {},
   "outputs": [
    {
     "data": {
      "text/plain": [
       "28736209258738.758"
      ]
     },
     "execution_count": 17,
     "metadata": {},
     "output_type": "execute_result"
    }
   ],
   "source": [
    "np.median(df[cf.Columns['M']][:300] * cf.E(df['ObservedRedshift'][:300])**1 )"
   ]
  },
  {
   "cell_type": "markdown",
   "metadata": {},
   "source": [
    "## LX-M"
   ]
  },
  {
   "cell_type": "code",
   "execution_count": 18,
   "metadata": {},
   "outputs": [
    {
     "data": {
      "text/plain": [
       "27470611000000.0"
      ]
     },
     "execution_count": 18,
     "metadata": {},
     "output_type": "execute_result"
    }
   ],
   "source": [
    "df[cf.Columns['M']][:300].median()"
   ]
  },
  {
   "cell_type": "code",
   "execution_count": 19,
   "metadata": {},
   "outputs": [
    {
     "data": {
      "text/plain": [
       "1.2439641593242353e+44"
      ]
     },
     "execution_count": 19,
     "metadata": {},
     "output_type": "execute_result"
    }
   ],
   "source": [
    "np.median(df[cf.Columns['LX']][:300] * cf.E(df['ObservedRedshift'][:300])**-2 )"
   ]
  },
  {
   "cell_type": "markdown",
   "metadata": {},
   "source": [
    "## YSZ-M"
   ]
  },
  {
   "cell_type": "code",
   "execution_count": 20,
   "metadata": {},
   "outputs": [
    {
     "data": {
      "text/plain": [
       "27470611000000.0"
      ]
     },
     "execution_count": 20,
     "metadata": {},
     "output_type": "execute_result"
    }
   ],
   "source": [
    "df[cf.Columns['M']][:300].median()"
   ]
  },
  {
   "cell_type": "code",
   "execution_count": 21,
   "metadata": {},
   "outputs": [
    {
     "data": {
      "text/plain": [
       "6.752636259794102"
      ]
     },
     "execution_count": 21,
     "metadata": {},
     "output_type": "execute_result"
    }
   ],
   "source": [
    "np.median(df[cf.Columns['YSZ']][:300] * cf.E(df['ObservedRedshift'][:300])**-2/3 )"
   ]
  },
  {
   "cell_type": "markdown",
   "metadata": {},
   "source": [
    "## Bootstrapping"
   ]
  },
  {
   "cell_type": "code",
   "execution_count": null,
   "metadata": {},
   "outputs": [],
   "source": []
  }
 ],
 "metadata": {
  "kernelspec": {
   "display_name": "Python 3",
   "language": "python",
   "name": "python3"
  },
  "language_info": {
   "codemirror_mode": {
    "name": "ipython",
    "version": 3
   },
   "file_extension": ".py",
   "mimetype": "text/x-python",
   "name": "python",
   "nbconvert_exporter": "python",
   "pygments_lexer": "ipython3",
   "version": "3.11.5"
  }
 },
 "nbformat": 4,
 "nbformat_minor": 2
}
