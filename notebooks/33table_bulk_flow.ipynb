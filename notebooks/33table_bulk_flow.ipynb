{
 "cells": [
  {
   "cell_type": "code",
   "execution_count": 12,
   "metadata": {},
   "outputs": [
    {
     "name": "stdout",
     "output_type": "stream",
     "text": [
      "\\LXT & $z<0.06$ & $369^{+327}_{-249}$ & $(\\ang{-144}^{+\\ang{29}}_{-\\ang{102}},    \\ang{4}^{+\\ang{29}}_{-\\ang{102}})$ \\\\\n",
      "\\LXT & $z<0.08$ & $371^{+315}_{-256}$ & $(\\ang{-144}^{+\\ang{29}}_{-\\ang{93}},    \\ang{3}^{+\\ang{29}}_{-\\ang{93}})$ \\\\\n",
      "\\LXT & $z<0.10$ & $385^{+313}_{-265}$ & $(\\ang{-144}^{+\\ang{29}}_{-\\ang{100}},    \\ang{2}^{+\\ang{29}}_{-\\ang{100}})$ \\\\\n",
      "\\LXT & $z<0.12$ & $372^{+319}_{-255}$ & $(\\ang{-144}^{+\\ang{29}}_{-\\ang{81}},    \\ang{4}^{+\\ang{29}}_{-\\ang{81}})$ \\\\\n",
      "\\YSZT & $z<0.06$ & $122^{+145}_{-88}$ & $(\\ang{-144}^{+\\ang{54}}_{-\\ang{102}},    \\ang{-13}^{+\\ang{54}}_{-\\ang{102}})$ \\\\\n",
      "\\YSZT & $z<0.08$ & $130^{+145}_{-94}$ & $(\\ang{-126}^{+\\ang{52}}_{-\\ang{84}},    \\ang{-15}^{+\\ang{52}}_{-\\ang{84}})$ \\\\\n",
      "\\YSZT & $z<0.10$ & $131^{+145}_{-92}$ & $(\\ang{-126}^{+\\ang{54}}_{-\\ang{87}},    \\ang{-16}^{+\\ang{54}}_{-\\ang{87}})$ \\\\\n",
      "\\YSZT & $z<0.12$ & $122^{+153}_{-86}$ & $(\\ang{-144}^{+\\ang{53}}_{-\\ang{101}},    \\ang{-14}^{+\\ang{53}}_{-\\ang{101}})$ \\\\\n",
      "\\MgasT & $z<0.06$ & $129^{+125}_{-87}$ & $(\\ang{-126}^{+\\ang{38}}_{-\\ang{63}},    \\ang{26}^{+\\ang{38}}_{-\\ang{63}})$ \\\\\n",
      "\\MgasT & $z<0.08$ & $130^{+134}_{-88}$ & $(\\ang{-126}^{+\\ang{38}}_{-\\ang{63}},    \\ang{27}^{+\\ang{38}}_{-\\ang{63}})$ \\\\\n",
      "\\MgasT & $z<0.10$ & $125^{+125}_{-86}$ & $(\\ang{-126}^{+\\ang{38}}_{-\\ang{64}},    \\ang{25}^{+\\ang{38}}_{-\\ang{64}})$ \\\\\n",
      "\\MgasT & $z<0.12$ & $127^{+131}_{-85}$ & $(\\ang{-126}^{+\\ang{38}}_{-\\ang{66}},    \\ang{26}^{+\\ang{38}}_{-\\ang{66}})$ \\\\\n"
     ]
    }
   ],
   "source": [
    "import pandas as pd\n",
    "import numpy as np\n",
    "data = pd.read_csv(f'../data/fits/bulk_flow_mcmc_lightcone0.csv')\n",
    "for i in range(len(data)):\n",
    "    slice = data.iloc[i]\n",
    "    zmax = slice['zmax']\n",
    "\n",
    "    ubf = slice['ubf']\n",
    "    ubf_l = slice['ubf_err_lower']\n",
    "    ubf_u = slice['ubf_err_upper']\n",
    "\n",
    "    lon = slice['vlon']\n",
    "    lon_l = slice['vlon_err_lower']\n",
    "    lon_u = slice['vlat_err_upper']\n",
    "\n",
    "    lat = slice['vlat']\n",
    "    lat_l = slice['vlon_err_lower']\n",
    "    lat_u = slice['vlat_err_upper']\n",
    "\n",
    "    ubf = round(ubf)\n",
    "    ubf_l = round(ubf_l)\n",
    "    ubf_u = round(ubf_u)\n",
    "    lat = round(lat)\n",
    "    lat_l = round(lat_l)\n",
    "    lat_u = round(lat_u)\n",
    "    lon = round(lon)\n",
    "    lon_l = round(lon_l)\n",
    "    lon_u = round(lon_u)\n",
    "\n",
    "    relation = slice['scaling_relation']\n",
    "    if relation == 'LX-T':\n",
    "        name = '\\LXT'\n",
    "    elif relation == 'YSZ-T':\n",
    "        name = '\\YSZT'\n",
    "    elif relation == 'M-T':\n",
    "        name = '\\MgasT'\n",
    "\n",
    "    print(f'{name} & $z<{zmax:.2f}$ & ${ubf}^{{+{ubf_u}}}_{{-{ubf_l}}}$ &',\n",
    "          f'$(\\\\ang{{{lon}}}^{{+\\\\ang{{{lon_u}}}}}_{{-\\\\ang{{{lon_l}}}}},',\n",
    "          f'   \\\\ang{{{lat}}}^{{+\\\\ang{{{lat_u}}}}}_{{-\\\\ang{{{lat_l}}}}})$ \\\\\\\\')"
   ]
  }
 ],
 "metadata": {
  "kernelspec": {
   "display_name": "Python 3",
   "language": "python",
   "name": "python3"
  },
  "language_info": {
   "codemirror_mode": {
    "name": "ipython",
    "version": 3
   },
   "file_extension": ".py",
   "mimetype": "text/x-python",
   "name": "python",
   "nbconvert_exporter": "python",
   "pygments_lexer": "ipython3",
   "version": "3.11.5"
  }
 },
 "nbformat": 4,
 "nbformat_minor": 2
}
