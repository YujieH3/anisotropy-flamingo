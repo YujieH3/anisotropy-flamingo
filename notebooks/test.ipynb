{
 "cells": [
  {
   "cell_type": "code",
   "execution_count": 6,
   "metadata": {},
   "outputs": [
    {
     "name": "stdout",
     "output_type": "stream",
     "text": [
      "77\n",
      "76\n",
      "75\n",
      "74\n",
      "73\n",
      "72\n",
      "71\n",
      "70\n",
      "69\n",
      "68\n",
      "67\n",
      "66\n"
     ]
    }
   ],
   "source": [
    "import numpy as np\n",
    "# Calculate the number of redshift slices\n",
    "max_index = int(np.rint(0.6 / 0.05))\n",
    "\n",
    "for shell_nr in range(max_index):\n",
    "    if shell_nr < 10:\n",
    "        shell_name = \"0\" + str(shell_nr)\n",
    "    else:\n",
    "        shell_name = str(shell_nr)\n",
    "\n",
    "    Snap_num = 77 - shell_nr\n",
    "    str(Snap_num)\n",
    "    print(Snap_num)"
   ]
  }
 ],
 "metadata": {
  "kernelspec": {
   "display_name": "Python 3",
   "language": "python",
   "name": "python3"
  },
  "language_info": {
   "codemirror_mode": {
    "name": "ipython",
    "version": 3
   },
   "file_extension": ".py",
   "mimetype": "text/x-python",
   "name": "python",
   "nbconvert_exporter": "python",
   "pygments_lexer": "ipython3",
   "version": "3.11.5"
  }
 },
 "nbformat": 4,
 "nbformat_minor": 2
}
