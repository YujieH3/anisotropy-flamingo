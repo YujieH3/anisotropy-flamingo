{
 "cells": [
  {
   "cell_type": "code",
   "execution_count": 8,
   "metadata": {},
   "outputs": [
    {
     "name": "stdout",
     "output_type": "stream",
     "text": [
      "65.21482444607726\n",
      "46.66157916962223\n"
     ]
    }
   ],
   "source": [
    "import sys\n",
    "sys.path.append('../tools')\n",
    "import clusterfit as cf\n",
    "print(cf.angular_separation(128, -16, 80, 30))\n",
    "print(cf.angular_separation(-56, 66, -68, 20))"
   ]
  },
  {
   "cell_type": "code",
   "execution_count": 68,
   "metadata": {},
   "outputs": [
    {
     "name": "stdout",
     "output_type": "stream",
     "text": [
      "0.9999999333591032\n"
     ]
    }
   ],
   "source": [
    "from scipy.integrate import quad\n",
    "import numpy as np\n",
    "n=5.4\n",
    "s=1 # Set as any number, doesn't matter\n",
    "p = quad(lambda x: 1/np.sqrt(2*np.pi*s**2) * np.e**(-x**2/(s**2)/2), -n*s, n*s)[0]\n",
    "p = 1 - p # The p(x>n*s) n sigma probability of a normal distribution\n",
    "print(1-p) "
   ]
  },
  {
   "cell_type": "code",
   "execution_count": 47,
   "metadata": {},
   "outputs": [
    {
     "data": {
      "text/plain": [
       "0.37393749700020007"
      ]
     },
     "execution_count": 47,
     "metadata": {},
     "output_type": "execute_result"
    }
   ],
   "source": [
    "# The probability of at least one event x>n*s for m events\n",
    "m=50\n",
    "1 - (1-p)**m"
   ]
  },
  {
   "cell_type": "code",
   "execution_count": 62,
   "metadata": {},
   "outputs": [
    {
     "name": "stdout",
     "output_type": "stream",
     "text": [
      "260.455252760345 Mpc\n",
      "0.00%\n",
      "345.6163267566517 Mpc\n",
      "133.66%\n",
      "429.9369053174122 Mpc\n",
      "92.50%\n",
      "513.4113459687144 Mpc\n",
      "70.29%\n"
     ]
    }
   ],
   "source": [
    "from astropy.cosmology import FlatLambdaCDM\n",
    "cosmo = FlatLambdaCDM(H0=68.1, Om0=0.306)\n",
    "vol0 = 0\n",
    "for z in [0.06, 0.08, 0.10, 0.12]:\n",
    "    print(cosmo.comoving_distance(z))\n",
    "    \n",
    "    vol1 = 4/3*np.pi*cosmo.comoving_distance(z)**3\n",
    "    if vol0 == 0:\n",
    "        vol0 = vol1\n",
    "    \n",
    "    print(f'{(vol1 - vol0) / vol0:.2%}')\n",
    "\n",
    "    vol0 = vol1\n",
    "\n",
    "    # print(, '\\n')"
   ]
  },
  {
   "cell_type": "code",
   "execution_count": 71,
   "metadata": {},
   "outputs": [
    {
     "name": "stdout",
     "output_type": "stream",
     "text": [
      "[4 1 4 6 8 7]\n"
     ]
    }
   ],
   "source": [
    "import numpy as np\n",
    "n_cone = 6\n",
    "idx = np.random.choice(10, size=n_cone, replace=True)\n",
    "print(idx)"
   ]
  },
  {
   "cell_type": "code",
   "execution_count": 1,
   "metadata": {},
   "outputs": [
    {
     "data": {
      "text/plain": [
       "0.0033333333333333335"
      ]
     },
     "execution_count": 1,
     "metadata": {},
     "output_type": "execute_result"
    }
   ],
   "source": [
    "1000 / 3e5"
   ]
  },
  {
   "cell_type": "code",
   "execution_count": 1,
   "metadata": {},
   "outputs": [
    {
     "data": {
      "text/plain": [
       "0.003"
      ]
     },
     "execution_count": 1,
     "metadata": {},
     "output_type": "execute_result"
    }
   ],
   "source": [
    "900/3e5"
   ]
  },
  {
   "cell_type": "code",
   "execution_count": 2,
   "metadata": {},
   "outputs": [
    {
     "data": {
      "text/html": [
       "<div>\n",
       "<style scoped>\n",
       "    .dataframe tbody tr th:only-of-type {\n",
       "        vertical-align: middle;\n",
       "    }\n",
       "\n",
       "    .dataframe tbody tr th {\n",
       "        vertical-align: top;\n",
       "    }\n",
       "\n",
       "    .dataframe thead th {\n",
       "        text-align: right;\n",
       "    }\n",
       "</style>\n",
       "<table border=\"1\" class=\"dataframe\">\n",
       "  <thead>\n",
       "    <tr style=\"text-align: right;\">\n",
       "      <th></th>\n",
       "      <th>lc_id</th>\n",
       "      <th>redshift</th>\n",
       "      <th>theta_on_lc</th>\n",
       "      <th>phi_on_lc</th>\n",
       "      <th>M_fof_lc</th>\n",
       "      <th>x_lc</th>\n",
       "      <th>y_lc</th>\n",
       "      <th>z_lc</th>\n",
       "      <th>snap_num</th>\n",
       "      <th>MfofSOAP</th>\n",
       "      <th>...</th>\n",
       "      <th>SpectroscopicLikeTemperatureWithoutRecentAGNHeatingCoreExcision</th>\n",
       "      <th>Y5R500WithoutRecentAGNHeating</th>\n",
       "      <th>Vx</th>\n",
       "      <th>Vy</th>\n",
       "      <th>Vz</th>\n",
       "      <th>GalaxyID</th>\n",
       "      <th>TopLeafID</th>\n",
       "      <th>3DLcore/Ltot</th>\n",
       "      <th>ObservedRedshift</th>\n",
       "      <th>Flux</th>\n",
       "    </tr>\n",
       "  </thead>\n",
       "  <tbody>\n",
       "    <tr>\n",
       "      <th>0</th>\n",
       "      <td>1053043</td>\n",
       "      <td>0.035599</td>\n",
       "      <td>49.651315</td>\n",
       "      <td>-63.025458</td>\n",
       "      <td>7.623736e+13</td>\n",
       "      <td>45.340575</td>\n",
       "      <td>-89.083719</td>\n",
       "      <td>117.664041</td>\n",
       "      <td>76</td>\n",
       "      <td>7.627862e+13</td>\n",
       "      <td>...</td>\n",
       "      <td>1.250911</td>\n",
       "      <td>1.156217</td>\n",
       "      <td>-166.732670</td>\n",
       "      <td>-48.232666</td>\n",
       "      <td>402.06738</td>\n",
       "      <td>351976372</td>\n",
       "      <td>351976440</td>\n",
       "      <td>0.802975</td>\n",
       "      <td>0.036585</td>\n",
       "      <td>5.128816e-12</td>\n",
       "    </tr>\n",
       "    <tr>\n",
       "      <th>1</th>\n",
       "      <td>11037087</td>\n",
       "      <td>0.119027</td>\n",
       "      <td>-49.755606</td>\n",
       "      <td>122.659972</td>\n",
       "      <td>3.551648e+14</td>\n",
       "      <td>-177.594823</td>\n",
       "      <td>277.057941</td>\n",
       "      <td>-388.815372</td>\n",
       "      <td>75</td>\n",
       "      <td>3.551423e+14</td>\n",
       "      <td>...</td>\n",
       "      <td>2.744662</td>\n",
       "      <td>16.340291</td>\n",
       "      <td>-475.270500</td>\n",
       "      <td>-97.670530</td>\n",
       "      <td>-231.57043</td>\n",
       "      <td>585104399</td>\n",
       "      <td>585104471</td>\n",
       "      <td>0.758501</td>\n",
       "      <td>0.120108</td>\n",
       "      <td>5.947096e-12</td>\n",
       "    </tr>\n",
       "    <tr>\n",
       "      <th>2</th>\n",
       "      <td>1161522</td>\n",
       "      <td>0.045438</td>\n",
       "      <td>71.506609</td>\n",
       "      <td>-67.486215</td>\n",
       "      <td>9.885356e+13</td>\n",
       "      <td>24.007158</td>\n",
       "      <td>-57.918988</td>\n",
       "      <td>187.454360</td>\n",
       "      <td>76</td>\n",
       "      <td>9.881861e+13</td>\n",
       "      <td>...</td>\n",
       "      <td>1.572815</td>\n",
       "      <td>2.753879</td>\n",
       "      <td>-239.926510</td>\n",
       "      <td>165.973510</td>\n",
       "      <td>-163.42651</td>\n",
       "      <td>675252036</td>\n",
       "      <td>675252108</td>\n",
       "      <td>0.630400</td>\n",
       "      <td>0.044627</td>\n",
       "      <td>5.383885e-12</td>\n",
       "    </tr>\n",
       "    <tr>\n",
       "      <th>3</th>\n",
       "      <td>417200</td>\n",
       "      <td>0.042599</td>\n",
       "      <td>-44.737669</td>\n",
       "      <td>145.320950</td>\n",
       "      <td>1.393237e+14</td>\n",
       "      <td>-108.455511</td>\n",
       "      <td>75.039500</td>\n",
       "      <td>-130.682330</td>\n",
       "      <td>76</td>\n",
       "      <td>1.393631e+14</td>\n",
       "      <td>...</td>\n",
       "      <td>1.728120</td>\n",
       "      <td>4.130818</td>\n",
       "      <td>-283.511000</td>\n",
       "      <td>-100.810910</td>\n",
       "      <td>-106.31091</td>\n",
       "      <td>499177990</td>\n",
       "      <td>499178061</td>\n",
       "      <td>0.587827</td>\n",
       "      <td>0.043293</td>\n",
       "      <td>6.026019e-12</td>\n",
       "    </tr>\n",
       "    <tr>\n",
       "      <th>4</th>\n",
       "      <td>810936</td>\n",
       "      <td>0.013063</td>\n",
       "      <td>44.610522</td>\n",
       "      <td>-164.460260</td>\n",
       "      <td>9.170799e+13</td>\n",
       "      <td>-40.213407</td>\n",
       "      <td>-11.182207</td>\n",
       "      <td>41.175553</td>\n",
       "      <td>77</td>\n",
       "      <td>9.167178e+13</td>\n",
       "      <td>...</td>\n",
       "      <td>1.267853</td>\n",
       "      <td>1.548485</td>\n",
       "      <td>-304.018000</td>\n",
       "      <td>-204.217960</td>\n",
       "      <td>172.18207</td>\n",
       "      <td>74538372</td>\n",
       "      <td>74538444</td>\n",
       "      <td>0.517913</td>\n",
       "      <td>0.014309</td>\n",
       "      <td>1.846921e-11</td>\n",
       "    </tr>\n",
       "    <tr>\n",
       "      <th>...</th>\n",
       "      <td>...</td>\n",
       "      <td>...</td>\n",
       "      <td>...</td>\n",
       "      <td>...</td>\n",
       "      <td>...</td>\n",
       "      <td>...</td>\n",
       "      <td>...</td>\n",
       "      <td>...</td>\n",
       "      <td>...</td>\n",
       "      <td>...</td>\n",
       "      <td>...</td>\n",
       "      <td>...</td>\n",
       "      <td>...</td>\n",
       "      <td>...</td>\n",
       "      <td>...</td>\n",
       "      <td>...</td>\n",
       "      <td>...</td>\n",
       "      <td>...</td>\n",
       "      <td>...</td>\n",
       "      <td>...</td>\n",
       "      <td>...</td>\n",
       "    </tr>\n",
       "    <tr>\n",
       "      <th>719</th>\n",
       "      <td>1483425</td>\n",
       "      <td>0.029805</td>\n",
       "      <td>74.717073</td>\n",
       "      <td>52.989600</td>\n",
       "      <td>8.473724e+13</td>\n",
       "      <td>20.580486</td>\n",
       "      <td>27.300916</td>\n",
       "      <td>125.120871</td>\n",
       "      <td>76</td>\n",
       "      <td>8.479983e+13</td>\n",
       "      <td>...</td>\n",
       "      <td>1.770476</td>\n",
       "      <td>3.247930</td>\n",
       "      <td>194.269780</td>\n",
       "      <td>-257.630200</td>\n",
       "      <td>51.16980</td>\n",
       "      <td>795279631</td>\n",
       "      <td>795279701</td>\n",
       "      <td>0.015099</td>\n",
       "      <td>0.029894</td>\n",
       "      <td>9.210592e-12</td>\n",
       "    </tr>\n",
       "    <tr>\n",
       "      <th>720</th>\n",
       "      <td>1742991</td>\n",
       "      <td>0.131680</td>\n",
       "      <td>-25.094385</td>\n",
       "      <td>-17.246010</td>\n",
       "      <td>4.340813e+14</td>\n",
       "      <td>485.721300</td>\n",
       "      <td>-150.783390</td>\n",
       "      <td>-238.178822</td>\n",
       "      <td>74</td>\n",
       "      <td>4.343071e+14</td>\n",
       "      <td>...</td>\n",
       "      <td>4.083108</td>\n",
       "      <td>36.706185</td>\n",
       "      <td>-77.574100</td>\n",
       "      <td>318.325930</td>\n",
       "      <td>409.42590</td>\n",
       "      <td>496546570</td>\n",
       "      <td>496546636</td>\n",
       "      <td>0.014870</td>\n",
       "      <td>0.130449</td>\n",
       "      <td>6.380110e-12</td>\n",
       "    </tr>\n",
       "    <tr>\n",
       "      <th>721</th>\n",
       "      <td>301858</td>\n",
       "      <td>0.020441</td>\n",
       "      <td>-57.156364</td>\n",
       "      <td>-70.673906</td>\n",
       "      <td>2.257063e+14</td>\n",
       "      <td>15.850482</td>\n",
       "      <td>-45.195878</td>\n",
       "      <td>-74.193918</td>\n",
       "      <td>77</td>\n",
       "      <td>2.256748e+14</td>\n",
       "      <td>...</td>\n",
       "      <td>2.501821</td>\n",
       "      <td>8.746539</td>\n",
       "      <td>-314.683530</td>\n",
       "      <td>48.216490</td>\n",
       "      <td>825.71650</td>\n",
       "      <td>593527569</td>\n",
       "      <td>593527643</td>\n",
       "      <td>0.009346</td>\n",
       "      <td>0.017807</td>\n",
       "      <td>1.287589e-11</td>\n",
       "    </tr>\n",
       "    <tr>\n",
       "      <th>722</th>\n",
       "      <td>7415872</td>\n",
       "      <td>0.084640</td>\n",
       "      <td>68.568877</td>\n",
       "      <td>35.823687</td>\n",
       "      <td>2.234441e+14</td>\n",
       "      <td>107.836268</td>\n",
       "      <td>77.841761</td>\n",
       "      <td>338.824535</td>\n",
       "      <td>75</td>\n",
       "      <td>2.234757e+14</td>\n",
       "      <td>...</td>\n",
       "      <td>3.535305</td>\n",
       "      <td>19.396090</td>\n",
       "      <td>13.545898</td>\n",
       "      <td>-20.554200</td>\n",
       "      <td>-308.25415</td>\n",
       "      <td>227487661</td>\n",
       "      <td>227487715</td>\n",
       "      <td>0.009186</td>\n",
       "      <td>0.083601</td>\n",
       "      <td>6.499453e-12</td>\n",
       "    </tr>\n",
       "    <tr>\n",
       "      <th>723</th>\n",
       "      <td>1483374</td>\n",
       "      <td>0.029074</td>\n",
       "      <td>80.442913</td>\n",
       "      <td>94.856718</td>\n",
       "      <td>1.999452e+14</td>\n",
       "      <td>-1.779641</td>\n",
       "      <td>20.944508</td>\n",
       "      <td>124.846163</td>\n",
       "      <td>76</td>\n",
       "      <td>1.998362e+14</td>\n",
       "      <td>...</td>\n",
       "      <td>2.908438</td>\n",
       "      <td>15.297293</td>\n",
       "      <td>119.469850</td>\n",
       "      <td>-408.430180</td>\n",
       "      <td>99.36975</td>\n",
       "      <td>274827648</td>\n",
       "      <td>274827706</td>\n",
       "      <td>0.007477</td>\n",
       "      <td>0.029173</td>\n",
       "      <td>4.793174e-11</td>\n",
       "    </tr>\n",
       "  </tbody>\n",
       "</table>\n",
       "<p>724 rows × 28 columns</p>\n",
       "</div>"
      ],
      "text/plain": [
       "        lc_id  redshift  theta_on_lc   phi_on_lc      M_fof_lc        x_lc  \\\n",
       "0     1053043  0.035599    49.651315  -63.025458  7.623736e+13   45.340575   \n",
       "1    11037087  0.119027   -49.755606  122.659972  3.551648e+14 -177.594823   \n",
       "2     1161522  0.045438    71.506609  -67.486215  9.885356e+13   24.007158   \n",
       "3      417200  0.042599   -44.737669  145.320950  1.393237e+14 -108.455511   \n",
       "4      810936  0.013063    44.610522 -164.460260  9.170799e+13  -40.213407   \n",
       "..        ...       ...          ...         ...           ...         ...   \n",
       "719   1483425  0.029805    74.717073   52.989600  8.473724e+13   20.580486   \n",
       "720   1742991  0.131680   -25.094385  -17.246010  4.340813e+14  485.721300   \n",
       "721    301858  0.020441   -57.156364  -70.673906  2.257063e+14   15.850482   \n",
       "722   7415872  0.084640    68.568877   35.823687  2.234441e+14  107.836268   \n",
       "723   1483374  0.029074    80.442913   94.856718  1.999452e+14   -1.779641   \n",
       "\n",
       "           y_lc        z_lc  snap_num      MfofSOAP  ...  \\\n",
       "0    -89.083719  117.664041        76  7.627862e+13  ...   \n",
       "1    277.057941 -388.815372        75  3.551423e+14  ...   \n",
       "2    -57.918988  187.454360        76  9.881861e+13  ...   \n",
       "3     75.039500 -130.682330        76  1.393631e+14  ...   \n",
       "4    -11.182207   41.175553        77  9.167178e+13  ...   \n",
       "..          ...         ...       ...           ...  ...   \n",
       "719   27.300916  125.120871        76  8.479983e+13  ...   \n",
       "720 -150.783390 -238.178822        74  4.343071e+14  ...   \n",
       "721  -45.195878  -74.193918        77  2.256748e+14  ...   \n",
       "722   77.841761  338.824535        75  2.234757e+14  ...   \n",
       "723   20.944508  124.846163        76  1.998362e+14  ...   \n",
       "\n",
       "     SpectroscopicLikeTemperatureWithoutRecentAGNHeatingCoreExcision  \\\n",
       "0                                             1.250911                 \n",
       "1                                             2.744662                 \n",
       "2                                             1.572815                 \n",
       "3                                             1.728120                 \n",
       "4                                             1.267853                 \n",
       "..                                                 ...                 \n",
       "719                                           1.770476                 \n",
       "720                                           4.083108                 \n",
       "721                                           2.501821                 \n",
       "722                                           3.535305                 \n",
       "723                                           2.908438                 \n",
       "\n",
       "     Y5R500WithoutRecentAGNHeating          Vx          Vy         Vz  \\\n",
       "0                         1.156217 -166.732670  -48.232666  402.06738   \n",
       "1                        16.340291 -475.270500  -97.670530 -231.57043   \n",
       "2                         2.753879 -239.926510  165.973510 -163.42651   \n",
       "3                         4.130818 -283.511000 -100.810910 -106.31091   \n",
       "4                         1.548485 -304.018000 -204.217960  172.18207   \n",
       "..                             ...         ...         ...        ...   \n",
       "719                       3.247930  194.269780 -257.630200   51.16980   \n",
       "720                      36.706185  -77.574100  318.325930  409.42590   \n",
       "721                       8.746539 -314.683530   48.216490  825.71650   \n",
       "722                      19.396090   13.545898  -20.554200 -308.25415   \n",
       "723                      15.297293  119.469850 -408.430180   99.36975   \n",
       "\n",
       "      GalaxyID  TopLeafID  3DLcore/Ltot  ObservedRedshift          Flux  \n",
       "0    351976372  351976440      0.802975          0.036585  5.128816e-12  \n",
       "1    585104399  585104471      0.758501          0.120108  5.947096e-12  \n",
       "2    675252036  675252108      0.630400          0.044627  5.383885e-12  \n",
       "3    499177990  499178061      0.587827          0.043293  6.026019e-12  \n",
       "4     74538372   74538444      0.517913          0.014309  1.846921e-11  \n",
       "..         ...        ...           ...               ...           ...  \n",
       "719  795279631  795279701      0.015099          0.029894  9.210592e-12  \n",
       "720  496546570  496546636      0.014870          0.130449  6.380110e-12  \n",
       "721  593527569  593527643      0.009346          0.017807  1.287589e-11  \n",
       "722  227487661  227487715      0.009186          0.083601  6.499453e-12  \n",
       "723  274827648  274827706      0.007477          0.029173  4.793174e-11  \n",
       "\n",
       "[724 rows x 28 columns]"
      ]
     },
     "execution_count": 2,
     "metadata": {},
     "output_type": "execute_result"
    }
   ],
   "source": [
    "import pandas as pd\n",
    "data = pd.read_csv('../data/samples_in_lightcone1_with_trees_duplicate_excision_outlier_excision.csv')\n",
    "data"
   ]
  },
  {
   "cell_type": "code",
   "execution_count": 9,
   "metadata": {},
   "outputs": [],
   "source": [
    "v = (data['Vx']**2 + data['Vy']**2 + data['Vz']**2)**0.5"
   ]
  },
  {
   "cell_type": "code",
   "execution_count": 10,
   "metadata": {},
   "outputs": [
    {
     "data": {
      "text/plain": [
       "1335.7033971067572"
      ]
     },
     "execution_count": 10,
     "metadata": {},
     "output_type": "execute_result"
    }
   ],
   "source": [
    "import numpy as np\n",
    "np.max(v)"
   ]
  },
  {
   "cell_type": "code",
   "execution_count": 3,
   "metadata": {},
   "outputs": [
    {
     "data": {
      "text/plain": [
       "0.0040453672"
      ]
     },
     "execution_count": 3,
     "metadata": {},
     "output_type": "execute_result"
    }
   ],
   "source": [
    "data['redshift'].min()"
   ]
  },
  {
   "cell_type": "code",
   "execution_count": 19,
   "metadata": {},
   "outputs": [
    {
     "data": {
      "text/plain": [
       "0.0044530806708953305"
      ]
     },
     "execution_count": 19,
     "metadata": {},
     "output_type": "execute_result"
    }
   ],
   "source": [
    "1335/299792.458"
   ]
  },
  {
   "cell_type": "code",
   "execution_count": 20,
   "metadata": {},
   "outputs": [
    {
     "data": {
      "text/plain": [
       "0.004463039934878399"
      ]
     },
     "execution_count": 20,
     "metadata": {},
     "output_type": "execute_result"
    }
   ],
   "source": [
    "((1+1335/299792.458) / (1-1335/299792.458))**0.5 - 1"
   ]
  },
  {
   "cell_type": "code",
   "execution_count": 21,
   "metadata": {},
   "outputs": [
    {
     "data": {
      "text/plain": [
       "0.022075055187637836"
      ]
     },
     "execution_count": 21,
     "metadata": {},
     "output_type": "execute_result"
    }
   ],
   "source": [
    "(0.00463 - 0.00453) / 0.00453"
   ]
  },
  {
   "cell_type": "code",
   "execution_count": 6,
   "metadata": {},
   "outputs": [
    {
     "data": {
      "text/plain": [
       "4.317124741065786e-05"
      ]
     },
     "execution_count": 6,
     "metadata": {},
     "output_type": "execute_result"
    }
   ],
   "source": [
    "0.99**1000"
   ]
  },
  {
   "cell_type": "code",
   "execution_count": 13,
   "metadata": {},
   "outputs": [
    {
     "data": {
      "text/latex": [
       "$513.41135 \\; \\mathrm{Mpc}$"
      ],
      "text/plain": [
       "<Quantity 513.41134597 Mpc>"
      ]
     },
     "execution_count": 13,
     "metadata": {},
     "output_type": "execute_result"
    }
   ],
   "source": [
    "from astropy.cosmology import FlatLambdaCDM\n",
    "cosmo = FlatLambdaCDM(H0=68.1, Om0=0.306)\n",
    "cosmo.comoving_distance(z=0.12)"
   ]
  },
  {
   "cell_type": "code",
   "execution_count": 11,
   "metadata": {},
   "outputs": [
    {
     "name": "stderr",
     "output_type": "stream",
     "text": [
      "/var/folders/dq/8n0_5l_14xq0nmzxn5gpnp040000gn/T/ipykernel_20248/3891191429.py:18: IntegrationWarning: The maximum number of subdivisions (50) has been achieved.\n",
      "  If increasing the limit yields no improvement it is advised to analyze \n",
      "  the integrand in order to determine the difficulties.  If the position of a \n",
      "  local difficulty can be determined (singularity, discontinuity) one will \n",
      "  probably gain from splitting up the interval and calling the integrator \n",
      "  on the subranges.  Perhaps a special-purpose integrator should be used.\n",
      "  result, error = integrate.quad(integrand, 0, np.inf)\n"
     ]
    },
    {
     "data": {
      "image/png": "[encoded data removed]",
      "text/plain": [
       "<Figure size 1000x600 with 1 Axes>"
      ]
     },
     "metadata": {},
     "output_type": "display_data"
    }
   ],
   "source": [
    "import numpy as np\n",
    "import matplotlib.pyplot as plt\n",
    "from colossus.cosmology import cosmology\n",
    "from scipy import integrate\n",
    "\n",
    "# Set cosmology\n",
    "cosmo = cosmology.setCosmology('planck18')\n",
    "\n",
    "# Define the velocity power spectrum\n",
    "def P_v(k, z, cosmo):\n",
    "    f_z = cosmo.growthFactor(z) ** 0.55\n",
    "    P_k = cosmo.matterPowerSpectrum(k, z)\n",
    "    return (cosmo.Hz(z) * f_z / k)**2 * P_k\n",
    "\n",
    "# Integrate to find the bulk flow variance\n",
    "def bulk_flow_variance(R, z, cosmo):\n",
    "    integrand = lambda k: P_v(k, z, cosmo) * (3 * (np.sin(k*R) - k*R*np.cos(k*R)) / (k*R)**3)**2 * k**2 / (2*np.pi**2)\n",
    "    result, error = integrate.quad(integrand, 0, np.inf)\n",
    "    return result\n",
    "\n",
    "# Compute the RMS bulk flow for different comoving distances\n",
    "distances = np.linspace(10, 300, 30) # Mpc/h\n",
    "z = 0.0 # redshift\n",
    "bulk_flows = []\n",
    "\n",
    "for R in distances:\n",
    "    variance = bulk_flow_variance(R, z, cosmo)\n",
    "    V_rms = np.sqrt(variance)\n",
    "    bulk_flows.append(V_rms)\n",
    "\n",
    "# Plot the results\n",
    "plt.figure(figsize=(10, 6))\n",
    "plt.plot(distances, bulk_flows, label='RMS Bulk Flow')\n",
    "plt.xlabel('Comoving Distance (Mpc/h)')\n",
    "plt.ylabel('RMS Bulk Flow (km/s)')\n",
    "plt.title('RMS Bulk Flow vs. Comoving Distance')\n",
    "plt.grid(True)\n",
    "plt.legend()\n",
    "plt.show()\n"
   ]
  }
 ],
 "metadata": {
  "kernelspec": {
   "display_name": "Python 3",
   "language": "python",
   "name": "python3"
  },
  "language_info": {
   "codemirror_mode": {
    "name": "ipython",
    "version": 3
   },
   "file_extension": ".py",
   "mimetype": "text/x-python",
   "name": "python",
   "nbconvert_exporter": "python",
   "pygments_lexer": "ipython3",
   "version": "3.12.4"
  }
 },
 "nbformat": 4,
 "nbformat_minor": 2
}
