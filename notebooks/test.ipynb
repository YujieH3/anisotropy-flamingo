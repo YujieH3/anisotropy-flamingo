{
 "cells": [
  {
   "cell_type": "code",
   "execution_count": 8,
   "metadata": {},
   "outputs": [
    {
     "name": "stdout",
     "output_type": "stream",
     "text": [
      "65.21482444607726\n",
      "46.66157916962223\n"
     ]
    }
   ],
   "source": [
    "import sys\n",
    "sys.path.append('../tools')\n",
    "import clusterfit as cf\n",
    "print(cf.angular_separation(128, -16, 80, 30))\n",
    "print(cf.angular_separation(-56, 66, -68, 20))"
   ]
  },
  {
   "cell_type": "code",
   "execution_count": 68,
   "metadata": {},
   "outputs": [
    {
     "name": "stdout",
     "output_type": "stream",
     "text": [
      "0.9999999333591032\n"
     ]
    }
   ],
   "source": [
    "from scipy.integrate import quad\n",
    "import numpy as np\n",
    "n=5.4\n",
    "s=1 # Set as any number, doesn't matter\n",
    "p = quad(lambda x: 1/np.sqrt(2*np.pi*s**2) * np.e**(-x**2/(s**2)/2), -n*s, n*s)[0]\n",
    "p = 1 - p # The p(x>n*s) n sigma probability of a normal distribution\n",
    "print(1-p) "
   ]
  },
  {
   "cell_type": "code",
   "execution_count": 47,
   "metadata": {},
   "outputs": [
    {
     "data": {
      "text/plain": [
       "0.37393749700020007"
      ]
     },
     "execution_count": 47,
     "metadata": {},
     "output_type": "execute_result"
    }
   ],
   "source": [
    "# The probability of at least one event x>n*s for m events\n",
    "m=50\n",
    "1 - (1-p)**m"
   ]
  },
  {
   "cell_type": "code",
   "execution_count": 62,
   "metadata": {},
   "outputs": [
    {
     "name": "stdout",
     "output_type": "stream",
     "text": [
      "260.455252760345 Mpc\n",
      "0.00%\n",
      "345.6163267566517 Mpc\n",
      "133.66%\n",
      "429.9369053174122 Mpc\n",
      "92.50%\n",
      "513.4113459687144 Mpc\n",
      "70.29%\n"
     ]
    }
   ],
   "source": [
    "from astropy.cosmology import FlatLambdaCDM\n",
    "cosmo = FlatLambdaCDM(H0=68.1, Om0=0.306)\n",
    "vol0 = 0\n",
    "for z in [0.06, 0.08, 0.10, 0.12]:\n",
    "    print(cosmo.comoving_distance(z))\n",
    "    \n",
    "    vol1 = 4/3*np.pi*cosmo.comoving_distance(z)**3\n",
    "    if vol0 == 0:\n",
    "        vol0 = vol1\n",
    "    \n",
    "    print(f'{(vol1 - vol0) / vol0:.2%}')\n",
    "\n",
    "    vol0 = vol1\n",
    "\n",
    "    # print(, '\\n')"
   ]
  },
  {
   "cell_type": "code",
   "execution_count": 71,
   "metadata": {},
   "outputs": [
    {
     "name": "stdout",
     "output_type": "stream",
     "text": [
      "[4 1 4 6 8 7]\n"
     ]
    }
   ],
   "source": [
    "import numpy as np\n",
    "n_cone = 6\n",
    "idx = np.random.choice(10, size=n_cone, replace=True)\n",
    "print(idx)"
   ]
  },
  {
   "cell_type": "code",
   "execution_count": 1,
   "metadata": {},
   "outputs": [
    {
     "data": {
      "text/plain": [
       "0.0033333333333333335"
      ]
     },
     "execution_count": 1,
     "metadata": {},
     "output_type": "execute_result"
    }
   ],
   "source": [
    "1000 / 3e5"
   ]
  },
  {
   "cell_type": "code",
   "execution_count": 1,
   "metadata": {},
   "outputs": [
    {
     "data": {
      "text/plain": [
       "0.003"
      ]
     },
     "execution_count": 1,
     "metadata": {},
     "output_type": "execute_result"
    }
   ],
   "source": [
    "900/3e5"
   ]
  },
  {
   "cell_type": "code",
   "execution_count": 1,
   "metadata": {},
   "outputs": [
    {
     "data": {
      "text/html": [
       "<div>\n",
       "<style scoped>\n",
       "    .dataframe tbody tr th:only-of-type {\n",
       "        vertical-align: middle;\n",
       "    }\n",
       "\n",
       "    .dataframe tbody tr th {\n",
       "        vertical-align: top;\n",
       "    }\n",
       "\n",
       "    .dataframe thead th {\n",
       "        text-align: right;\n",
       "    }\n",
       "</style>\n",
       "<table border=\"1\" class=\"dataframe\">\n",
       "  <thead>\n",
       "    <tr style=\"text-align: right;\">\n",
       "      <th></th>\n",
       "      <th>lc_id</th>\n",
       "      <th>redshift</th>\n",
       "      <th>theta_on_lc</th>\n",
       "      <th>phi_on_lc</th>\n",
       "      <th>M_fof_lc</th>\n",
       "      <th>x_lc</th>\n",
       "      <th>y_lc</th>\n",
       "      <th>z_lc</th>\n",
       "      <th>snap_num</th>\n",
       "      <th>MfofSOAP</th>\n",
       "      <th>...</th>\n",
       "      <th>Y5R500WithoutRecentAGNHeating</th>\n",
       "      <th>Vx</th>\n",
       "      <th>Vy</th>\n",
       "      <th>Vz</th>\n",
       "      <th>GalaxyID</th>\n",
       "      <th>TopLeafID</th>\n",
       "      <th>3DLcore/Ltot</th>\n",
       "      <th>ObservedRedshift</th>\n",
       "      <th>Flux</th>\n",
       "      <th>2DLcore/Ltot</th>\n",
       "    </tr>\n",
       "  </thead>\n",
       "  <tbody>\n",
       "    <tr>\n",
       "      <th>0</th>\n",
       "      <td>12678101</td>\n",
       "      <td>0.049663</td>\n",
       "      <td>68.444418</td>\n",
       "      <td>-146.100556</td>\n",
       "      <td>3.221621e+14</td>\n",
       "      <td>-65.892905</td>\n",
       "      <td>-44.277266</td>\n",
       "      <td>200.964592</td>\n",
       "      <td>76</td>\n",
       "      <td>3.221569e+14</td>\n",
       "      <td>...</td>\n",
       "      <td>13.394281</td>\n",
       "      <td>-138.41480</td>\n",
       "      <td>146.285160</td>\n",
       "      <td>-258.814820</td>\n",
       "      <td>264729502</td>\n",
       "      <td>264729571</td>\n",
       "      <td>0.629913</td>\n",
       "      <td>0.048863</td>\n",
       "      <td>1.930583e-11</td>\n",
       "      <td>0.655002</td>\n",
       "    </tr>\n",
       "    <tr>\n",
       "      <th>1</th>\n",
       "      <td>13217952</td>\n",
       "      <td>0.031250</td>\n",
       "      <td>61.242576</td>\n",
       "      <td>66.517408</td>\n",
       "      <td>2.121565e+14</td>\n",
       "      <td>26.197568</td>\n",
       "      <td>60.300376</td>\n",
       "      <td>119.801093</td>\n",
       "      <td>76</td>\n",
       "      <td>2.122057e+14</td>\n",
       "      <td>...</td>\n",
       "      <td>8.353127</td>\n",
       "      <td>136.95007</td>\n",
       "      <td>85.050050</td>\n",
       "      <td>156.950070</td>\n",
       "      <td>758729120</td>\n",
       "      <td>758729192</td>\n",
       "      <td>0.563404</td>\n",
       "      <td>0.031943</td>\n",
       "      <td>3.424318e-11</td>\n",
       "      <td>0.619050</td>\n",
       "    </tr>\n",
       "    <tr>\n",
       "      <th>2</th>\n",
       "      <td>11897316</td>\n",
       "      <td>0.016130</td>\n",
       "      <td>-50.768598</td>\n",
       "      <td>-21.506782</td>\n",
       "      <td>9.199489e+13</td>\n",
       "      <td>41.950287</td>\n",
       "      <td>-16.530393</td>\n",
       "      <td>-55.223603</td>\n",
       "      <td>77</td>\n",
       "      <td>9.194666e+13</td>\n",
       "      <td>...</td>\n",
       "      <td>1.736042</td>\n",
       "      <td>-143.69714</td>\n",
       "      <td>-196.297180</td>\n",
       "      <td>-29.697144</td>\n",
       "      <td>735257909</td>\n",
       "      <td>735257982</td>\n",
       "      <td>0.587601</td>\n",
       "      <td>0.016076</td>\n",
       "      <td>1.415207e-11</td>\n",
       "      <td>0.580910</td>\n",
       "    </tr>\n",
       "    <tr>\n",
       "      <th>3</th>\n",
       "      <td>12785470</td>\n",
       "      <td>0.019369</td>\n",
       "      <td>28.752838</td>\n",
       "      <td>151.820271</td>\n",
       "      <td>1.019505e+14</td>\n",
       "      <td>-65.416111</td>\n",
       "      <td>35.046019</td>\n",
       "      <td>40.719139</td>\n",
       "      <td>77</td>\n",
       "      <td>1.019797e+14</td>\n",
       "      <td>...</td>\n",
       "      <td>2.198071</td>\n",
       "      <td>-126.92236</td>\n",
       "      <td>256.877560</td>\n",
       "      <td>1.177612</td>\n",
       "      <td>553518674</td>\n",
       "      <td>553518749</td>\n",
       "      <td>0.448886</td>\n",
       "      <td>0.020066</td>\n",
       "      <td>1.010312e-11</td>\n",
       "      <td>0.540358</td>\n",
       "    </tr>\n",
       "    <tr>\n",
       "      <th>4</th>\n",
       "      <td>6057316</td>\n",
       "      <td>0.077597</td>\n",
       "      <td>-74.324178</td>\n",
       "      <td>-132.555680</td>\n",
       "      <td>2.872746e+14</td>\n",
       "      <td>-61.330249</td>\n",
       "      <td>-66.799779</td>\n",
       "      <td>-323.142433</td>\n",
       "      <td>75</td>\n",
       "      <td>2.875223e+14</td>\n",
       "      <td>...</td>\n",
       "      <td>12.424476</td>\n",
       "      <td>168.31421</td>\n",
       "      <td>95.214230</td>\n",
       "      <td>99.214230</td>\n",
       "      <td>256178182</td>\n",
       "      <td>256178252</td>\n",
       "      <td>0.538358</td>\n",
       "      <td>0.077076</td>\n",
       "      <td>7.649637e-12</td>\n",
       "      <td>0.485846</td>\n",
       "    </tr>\n",
       "    <tr>\n",
       "      <th>...</th>\n",
       "      <td>...</td>\n",
       "      <td>...</td>\n",
       "      <td>...</td>\n",
       "      <td>...</td>\n",
       "      <td>...</td>\n",
       "      <td>...</td>\n",
       "      <td>...</td>\n",
       "      <td>...</td>\n",
       "      <td>...</td>\n",
       "      <td>...</td>\n",
       "      <td>...</td>\n",
       "      <td>...</td>\n",
       "      <td>...</td>\n",
       "      <td>...</td>\n",
       "      <td>...</td>\n",
       "      <td>...</td>\n",
       "      <td>...</td>\n",
       "      <td>...</td>\n",
       "      <td>...</td>\n",
       "      <td>...</td>\n",
       "      <td>...</td>\n",
       "    </tr>\n",
       "    <tr>\n",
       "      <th>701</th>\n",
       "      <td>11804705</td>\n",
       "      <td>0.085544</td>\n",
       "      <td>22.449321</td>\n",
       "      <td>158.121013</td>\n",
       "      <td>5.532838e+14</td>\n",
       "      <td>-316.531368</td>\n",
       "      <td>127.109968</td>\n",
       "      <td>140.934807</td>\n",
       "      <td>75</td>\n",
       "      <td>5.530544e+14</td>\n",
       "      <td>...</td>\n",
       "      <td>77.584358</td>\n",
       "      <td>492.35680</td>\n",
       "      <td>242.556760</td>\n",
       "      <td>50.656740</td>\n",
       "      <td>795913407</td>\n",
       "      <td>795913476</td>\n",
       "      <td>0.020071</td>\n",
       "      <td>0.084388</td>\n",
       "      <td>2.813252e-11</td>\n",
       "      <td>0.060460</td>\n",
       "    </tr>\n",
       "    <tr>\n",
       "      <th>702</th>\n",
       "      <td>11861703</td>\n",
       "      <td>0.028225</td>\n",
       "      <td>-55.011456</td>\n",
       "      <td>-126.277785</td>\n",
       "      <td>7.538000e+13</td>\n",
       "      <td>-41.823558</td>\n",
       "      <td>-56.982167</td>\n",
       "      <td>-100.989675</td>\n",
       "      <td>76</td>\n",
       "      <td>7.531655e+13</td>\n",
       "      <td>...</td>\n",
       "      <td>2.511428</td>\n",
       "      <td>98.96692</td>\n",
       "      <td>-309.533080</td>\n",
       "      <td>-453.733030</td>\n",
       "      <td>261040288</td>\n",
       "      <td>261040362</td>\n",
       "      <td>0.020155</td>\n",
       "      <td>0.029877</td>\n",
       "      <td>7.749973e-12</td>\n",
       "      <td>0.057530</td>\n",
       "    </tr>\n",
       "    <tr>\n",
       "      <th>703</th>\n",
       "      <td>4646616</td>\n",
       "      <td>0.125712</td>\n",
       "      <td>-33.564085</td>\n",
       "      <td>-169.939991</td>\n",
       "      <td>8.079670e+14</td>\n",
       "      <td>-442.983802</td>\n",
       "      <td>-78.588470</td>\n",
       "      <td>-298.507096</td>\n",
       "      <td>74</td>\n",
       "      <td>8.081410e+14</td>\n",
       "      <td>...</td>\n",
       "      <td>140.383773</td>\n",
       "      <td>-671.88740</td>\n",
       "      <td>77.012570</td>\n",
       "      <td>-361.787350</td>\n",
       "      <td>690964560</td>\n",
       "      <td>690964632</td>\n",
       "      <td>0.002155</td>\n",
       "      <td>0.128495</td>\n",
       "      <td>6.101368e-12</td>\n",
       "      <td>0.047056</td>\n",
       "    </tr>\n",
       "    <tr>\n",
       "      <th>704</th>\n",
       "      <td>12882763</td>\n",
       "      <td>0.052263</td>\n",
       "      <td>43.009397</td>\n",
       "      <td>-35.045370</td>\n",
       "      <td>1.727982e+14</td>\n",
       "      <td>135.647971</td>\n",
       "      <td>-95.141897</td>\n",
       "      <td>154.556921</td>\n",
       "      <td>76</td>\n",
       "      <td>1.728982e+14</td>\n",
       "      <td>...</td>\n",
       "      <td>10.978919</td>\n",
       "      <td>-296.42468</td>\n",
       "      <td>159.875300</td>\n",
       "      <td>135.375300</td>\n",
       "      <td>583385361</td>\n",
       "      <td>583385430</td>\n",
       "      <td>0.011669</td>\n",
       "      <td>0.051729</td>\n",
       "      <td>5.409843e-12</td>\n",
       "      <td>0.042653</td>\n",
       "    </tr>\n",
       "    <tr>\n",
       "      <th>705</th>\n",
       "      <td>11897198</td>\n",
       "      <td>0.016366</td>\n",
       "      <td>-33.124879</td>\n",
       "      <td>-28.281435</td>\n",
       "      <td>3.261190e+14</td>\n",
       "      <td>53.345272</td>\n",
       "      <td>-28.701178</td>\n",
       "      <td>-39.526618</td>\n",
       "      <td>77</td>\n",
       "      <td>3.260052e+14</td>\n",
       "      <td>...</td>\n",
       "      <td>27.483893</td>\n",
       "      <td>143.50280</td>\n",
       "      <td>39.602783</td>\n",
       "      <td>100.902830</td>\n",
       "      <td>30776977</td>\n",
       "      <td>30777043</td>\n",
       "      <td>0.001408</td>\n",
       "      <td>0.016484</td>\n",
       "      <td>1.030848e-10</td>\n",
       "      <td>0.011050</td>\n",
       "    </tr>\n",
       "  </tbody>\n",
       "</table>\n",
       "<p>706 rows × 29 columns</p>\n",
       "</div>"
      ],
      "text/plain": [
       "        lc_id  redshift  theta_on_lc   phi_on_lc      M_fof_lc        x_lc  \\\n",
       "0    12678101  0.049663    68.444418 -146.100556  3.221621e+14  -65.892905   \n",
       "1    13217952  0.031250    61.242576   66.517408  2.121565e+14   26.197568   \n",
       "2    11897316  0.016130   -50.768598  -21.506782  9.199489e+13   41.950287   \n",
       "3    12785470  0.019369    28.752838  151.820271  1.019505e+14  -65.416111   \n",
       "4     6057316  0.077597   -74.324178 -132.555680  2.872746e+14  -61.330249   \n",
       "..        ...       ...          ...         ...           ...         ...   \n",
       "701  11804705  0.085544    22.449321  158.121013  5.532838e+14 -316.531368   \n",
       "702  11861703  0.028225   -55.011456 -126.277785  7.538000e+13  -41.823558   \n",
       "703   4646616  0.125712   -33.564085 -169.939991  8.079670e+14 -442.983802   \n",
       "704  12882763  0.052263    43.009397  -35.045370  1.727982e+14  135.647971   \n",
       "705  11897198  0.016366   -33.124879  -28.281435  3.261190e+14   53.345272   \n",
       "\n",
       "           y_lc        z_lc  snap_num      MfofSOAP  ...  \\\n",
       "0    -44.277266  200.964592        76  3.221569e+14  ...   \n",
       "1     60.300376  119.801093        76  2.122057e+14  ...   \n",
       "2    -16.530393  -55.223603        77  9.194666e+13  ...   \n",
       "3     35.046019   40.719139        77  1.019797e+14  ...   \n",
       "4    -66.799779 -323.142433        75  2.875223e+14  ...   \n",
       "..          ...         ...       ...           ...  ...   \n",
       "701  127.109968  140.934807        75  5.530544e+14  ...   \n",
       "702  -56.982167 -100.989675        76  7.531655e+13  ...   \n",
       "703  -78.588470 -298.507096        74  8.081410e+14  ...   \n",
       "704  -95.141897  154.556921        76  1.728982e+14  ...   \n",
       "705  -28.701178  -39.526618        77  3.260052e+14  ...   \n",
       "\n",
       "     Y5R500WithoutRecentAGNHeating         Vx          Vy          Vz  \\\n",
       "0                        13.394281 -138.41480  146.285160 -258.814820   \n",
       "1                         8.353127  136.95007   85.050050  156.950070   \n",
       "2                         1.736042 -143.69714 -196.297180  -29.697144   \n",
       "3                         2.198071 -126.92236  256.877560    1.177612   \n",
       "4                        12.424476  168.31421   95.214230   99.214230   \n",
       "..                             ...        ...         ...         ...   \n",
       "701                      77.584358  492.35680  242.556760   50.656740   \n",
       "702                       2.511428   98.96692 -309.533080 -453.733030   \n",
       "703                     140.383773 -671.88740   77.012570 -361.787350   \n",
       "704                      10.978919 -296.42468  159.875300  135.375300   \n",
       "705                      27.483893  143.50280   39.602783  100.902830   \n",
       "\n",
       "      GalaxyID  TopLeafID  3DLcore/Ltot  ObservedRedshift          Flux  \\\n",
       "0    264729502  264729571      0.629913          0.048863  1.930583e-11   \n",
       "1    758729120  758729192      0.563404          0.031943  3.424318e-11   \n",
       "2    735257909  735257982      0.587601          0.016076  1.415207e-11   \n",
       "3    553518674  553518749      0.448886          0.020066  1.010312e-11   \n",
       "4    256178182  256178252      0.538358          0.077076  7.649637e-12   \n",
       "..         ...        ...           ...               ...           ...   \n",
       "701  795913407  795913476      0.020071          0.084388  2.813252e-11   \n",
       "702  261040288  261040362      0.020155          0.029877  7.749973e-12   \n",
       "703  690964560  690964632      0.002155          0.128495  6.101368e-12   \n",
       "704  583385361  583385430      0.011669          0.051729  5.409843e-12   \n",
       "705   30776977   30777043      0.001408          0.016484  1.030848e-10   \n",
       "\n",
       "     2DLcore/Ltot  \n",
       "0        0.655002  \n",
       "1        0.619050  \n",
       "2        0.580910  \n",
       "3        0.540358  \n",
       "4        0.485846  \n",
       "..            ...  \n",
       "701      0.060460  \n",
       "702      0.057530  \n",
       "703      0.047056  \n",
       "704      0.042653  \n",
       "705      0.011050  \n",
       "\n",
       "[706 rows x 29 columns]"
      ]
     },
     "execution_count": 1,
     "metadata": {},
     "output_type": "execute_result"
    }
   ],
   "source": [
    "import pandas as pd\n",
    "data = pd.read_csv('../data/samples_in_lightcone0_with_trees_duplicate_excision_outlier_excision.csv')\n",
    "data"
   ]
  },
  {
   "cell_type": "code",
   "execution_count": 3,
   "metadata": {},
   "outputs": [],
   "source": [
    "twod = data[:313]\n",
    "data.sort_values('3DLcore/Ltot', ascending=False, inplace=True)\n",
    "thrd = data[:313]"
   ]
  },
  {
   "cell_type": "code",
   "execution_count": 5,
   "metadata": {},
   "outputs": [
    {
     "data": {
      "text/plain": [
       "277"
      ]
     },
     "execution_count": 5,
     "metadata": {},
     "output_type": "execute_result"
    }
   ],
   "source": [
    "import numpy as np\n",
    "np.sum(np.isin(twod.index, thrd.index))"
   ]
  },
  {
   "cell_type": "code",
   "execution_count": 9,
   "metadata": {},
   "outputs": [],
   "source": [
    "v = (data['Vx']**2 + data['Vy']**2 + data['Vz']**2)**0.5"
   ]
  },
  {
   "cell_type": "code",
   "execution_count": 10,
   "metadata": {},
   "outputs": [
    {
     "data": {
      "text/plain": [
       "1335.7033971067572"
      ]
     },
     "execution_count": 10,
     "metadata": {},
     "output_type": "execute_result"
    }
   ],
   "source": [
    "import numpy as np\n",
    "np.max(v)"
   ]
  },
  {
   "cell_type": "code",
   "execution_count": 3,
   "metadata": {},
   "outputs": [
    {
     "data": {
      "text/plain": [
       "0.0040453672"
      ]
     },
     "execution_count": 3,
     "metadata": {},
     "output_type": "execute_result"
    }
   ],
   "source": [
    "data['redshift'].min()"
   ]
  },
  {
   "cell_type": "code",
   "execution_count": 19,
   "metadata": {},
   "outputs": [
    {
     "data": {
      "text/plain": [
       "0.0044530806708953305"
      ]
     },
     "execution_count": 19,
     "metadata": {},
     "output_type": "execute_result"
    }
   ],
   "source": [
    "1335/299792.458"
   ]
  },
  {
   "cell_type": "code",
   "execution_count": 20,
   "metadata": {},
   "outputs": [
    {
     "data": {
      "text/plain": [
       "0.004463039934878399"
      ]
     },
     "execution_count": 20,
     "metadata": {},
     "output_type": "execute_result"
    }
   ],
   "source": [
    "((1+1335/299792.458) / (1-1335/299792.458))**0.5 - 1"
   ]
  },
  {
   "cell_type": "code",
   "execution_count": 21,
   "metadata": {},
   "outputs": [
    {
     "data": {
      "text/plain": [
       "0.022075055187637836"
      ]
     },
     "execution_count": 21,
     "metadata": {},
     "output_type": "execute_result"
    }
   ],
   "source": [
    "(0.00463 - 0.00453) / 0.00453"
   ]
  },
  {
   "cell_type": "code",
   "execution_count": 6,
   "metadata": {},
   "outputs": [
    {
     "data": {
      "text/plain": [
       "4.317124741065786e-05"
      ]
     },
     "execution_count": 6,
     "metadata": {},
     "output_type": "execute_result"
    }
   ],
   "source": [
    "0.99**1000"
   ]
  },
  {
   "cell_type": "code",
   "execution_count": 5,
   "metadata": {},
   "outputs": [
    {
     "data": {
      "text/latex": [
       "$[513.41135,~1411.7656] \\; \\mathrm{Mpc}$"
      ],
      "text/plain": [
       "<Quantity [ 513.41134597, 1411.76563403] Mpc>"
      ]
     },
     "execution_count": 5,
     "metadata": {},
     "output_type": "execute_result"
    }
   ],
   "source": [
    "from astropy.cosmology import FlatLambdaCDM\n",
    "cosmo = FlatLambdaCDM(H0=68.1, Om0=0.306)\n",
    "cosmo.comoving_distance(z=[0.12, 0.35])"
   ]
  },
  {
   "cell_type": "code",
   "execution_count": 68,
   "metadata": {},
   "outputs": [
    {
     "name": "stdout",
     "output_type": "stream",
     "text": [
      "0055\n"
     ]
    }
   ],
   "source": [
    "print(f'{55:04d}')"
   ]
  },
  {
   "cell_type": "code",
   "execution_count": 62,
   "metadata": {},
   "outputs": [
    {
     "name": "stdout",
     "output_type": "stream",
     "text": [
      "lightcone0\n",
      "lightcone0/id\n",
      "lightcone1\n",
      "[0 2 4]\n",
      "[1.5 1.5 1.5]\n"
     ]
    }
   ],
   "source": [
    "import pandas as pd\n",
    "import h5py\n",
    "import numpy as np\n",
    "with h5py.File('./test.hdf5', mode='a') as f:\n",
    "    f.visit(print)\n",
    "    #f.create_dataset('lightcone0/id', data=np.arange(5))\n",
    "    #f.create_group('lightcone1')\n",
    "    print(f['lightcone0/id'][:][[True, False, True, False, True]])\n",
    "    f['lightcone1'].attrs['loc']=[1.5,1.5,1.5]\n",
    "    print(f['lightcone1'].attrs['loc'])\n",
    "    \n"
   ]
  },
  {
   "cell_type": "code",
   "execution_count": 18,
   "metadata": {},
   "outputs": [
    {
     "data": {
      "text/html": [
       "<div>\n",
       "<style scoped>\n",
       "    .dataframe tbody tr th:only-of-type {\n",
       "        vertical-align: middle;\n",
       "    }\n",
       "\n",
       "    .dataframe tbody tr th {\n",
       "        vertical-align: top;\n",
       "    }\n",
       "\n",
       "    .dataframe thead th {\n",
       "        text-align: right;\n",
       "    }\n",
       "</style>\n",
       "<table border=\"1\" class=\"dataframe\">\n",
       "  <thead>\n",
       "    <tr style=\"text-align: right;\">\n",
       "      <th></th>\n",
       "      <th>one</th>\n",
       "      <th>two</th>\n",
       "    </tr>\n",
       "  </thead>\n",
       "  <tbody>\n",
       "    <tr>\n",
       "      <th>0</th>\n",
       "      <td>1</td>\n",
       "      <td>2</td>\n",
       "    </tr>\n",
       "    <tr>\n",
       "      <th>1</th>\n",
       "      <td>2</td>\n",
       "      <td>3</td>\n",
       "    </tr>\n",
       "  </tbody>\n",
       "</table>\n",
       "</div>"
      ],
      "text/plain": [
       "   one  two\n",
       "0    1    2\n",
       "1    2    3"
      ]
     },
     "execution_count": 18,
     "metadata": {},
     "output_type": "execute_result"
    }
   ],
   "source": [
    "pd.read_hdf('./test.hdf5')"
   ]
  }
 ],
 "metadata": {
  "kernelspec": {
   "display_name": "Python 3",
   "language": "python",
   "name": "python3"
  },
  "language_info": {
   "codemirror_mode": {
    "name": "ipython",
    "version": 3
   },
   "file_extension": ".py",
   "mimetype": "text/x-python",
   "name": "python",
   "nbconvert_exporter": "python",
   "pygments_lexer": "ipython3",
   "version": "3.11.5"
  }
 },
 "nbformat": 4,
 "nbformat_minor": 2
}
