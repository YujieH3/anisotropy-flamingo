{
 "cells": [
  {
   "cell_type": "code",
   "execution_count": 67,
   "metadata": {},
   "outputs": [
    {
     "name": "stdout",
     "output_type": "stream",
     "text": [
      "78.39657361898782\n",
      "77.4902211176519\n"
     ]
    }
   ],
   "source": [
    "import sys\n",
    "sys.path.append('../tools')\n",
    "import clusterfit as cf\n",
    "print(cf.angular_separation(-101, -53, -68, 20))\n",
    "print(cf.angular_separation(-98, -53, -68, 20))"
   ]
  },
  {
   "cell_type": "code",
   "execution_count": 68,
   "metadata": {},
   "outputs": [
    {
     "name": "stdout",
     "output_type": "stream",
     "text": [
      "0.9999999333591032\n"
     ]
    }
   ],
   "source": [
    "from scipy.integrate import quad\n",
    "import numpy as np\n",
    "n=5.4\n",
    "s=1 # Set as any number, doesn't matter\n",
    "p = quad(lambda x: 1/np.sqrt(2*np.pi*s**2) * np.e**(-x**2/(s**2)/2), -n*s, n*s)[0]\n",
    "p = 1 - p # The p(x>n*s) n sigma probability of a normal distribution\n",
    "print(1-p) "
   ]
  },
  {
   "cell_type": "code",
   "execution_count": 47,
   "metadata": {},
   "outputs": [
    {
     "data": {
      "text/plain": [
       "0.37393749700020007"
      ]
     },
     "execution_count": 47,
     "metadata": {},
     "output_type": "execute_result"
    }
   ],
   "source": [
    "# The probability of at least one event x>n*s for m events\n",
    "m=50\n",
    "1 - (1-p)**m"
   ]
  },
  {
   "cell_type": "code",
   "execution_count": 62,
   "metadata": {},
   "outputs": [
    {
     "name": "stdout",
     "output_type": "stream",
     "text": [
      "260.455252760345 Mpc\n",
      "0.00%\n",
      "345.6163267566517 Mpc\n",
      "133.66%\n",
      "429.9369053174122 Mpc\n",
      "92.50%\n",
      "513.4113459687144 Mpc\n",
      "70.29%\n"
     ]
    }
   ],
   "source": [
    "from astropy.cosmology import FlatLambdaCDM\n",
    "cosmo = FlatLambdaCDM(H0=68.1, Om0=0.306)\n",
    "vol0 = 0\n",
    "for z in [0.06, 0.08, 0.10, 0.12]:\n",
    "    print(cosmo.comoving_distance(z))\n",
    "    \n",
    "    vol1 = 4/3*np.pi*cosmo.comoving_distance(z)**3\n",
    "    if vol0 == 0:\n",
    "        vol0 = vol1\n",
    "    \n",
    "    print(f'{(vol1 - vol0) / vol0:.2%}')\n",
    "\n",
    "    vol0 = vol1\n",
    "\n",
    "    # print(, '\\n')"
   ]
  }
 ],
 "metadata": {
  "kernelspec": {
   "display_name": "Python 3",
   "language": "python",
   "name": "python3"
  },
  "language_info": {
   "codemirror_mode": {
    "name": "ipython",
    "version": 3
   },
   "file_extension": ".py",
   "mimetype": "text/x-python",
   "name": "python",
   "nbconvert_exporter": "python",
   "pygments_lexer": "ipython3",
   "version": "3.12.4"
  }
 },
 "nbformat": 4,
 "nbformat_minor": 2
}
