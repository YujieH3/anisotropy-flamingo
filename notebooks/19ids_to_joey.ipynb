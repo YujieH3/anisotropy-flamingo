{
 "cells": [
  {
   "cell_type": "code",
   "execution_count": 1,
   "metadata": {},
   "outputs": [
    {
     "name": "stdout",
     "output_type": "stream",
     "text": [
      "771\n",
      "771\n"
     ]
    }
   ],
   "source": [
    "# independent\n",
    "import pandas as pd\n",
    "samples = [\n",
    "    '/data1/yujiehe/data/samples_in_lightcone0.csv',\n",
    "    # '/data1/yujiehe/data/samples_in_lightcone1.csv',\n",
    "]\n",
    "\n",
    "new_df = pd.DataFrame({'SOAPID': [], 'snap_num': []})\n",
    "for file in samples:\n",
    "    df = pd.read_csv(file)\n",
    "    new_df = pd.concat([new_df, pd.DataFrame({'SOAPID': df['SOAPID'], 'snap_num': df['snap_num']})])\n",
    "    \n",
    "    print(len(new_df))\n",
    "new_df = new_df.astype(int)\n",
    "new_df = new_df.drop_duplicates()\n",
    "print(len(new_df))\n",
    "#new_df.to_csv('/data1/yujiehe/data/to-joey-fiducial-id-snapnum.csv', index=False)"
   ]
  },
  {
   "cell_type": "code",
   "execution_count": 2,
   "metadata": {},
   "outputs": [
    {
     "name": "stdout",
     "output_type": "stream",
     "text": [
      "792\n",
      "792\n"
     ]
    }
   ],
   "source": [
    "# independent\n",
    "import pandas as pd\n",
    "samples = [\n",
    "    '/data1/yujiehe/data/samples_in_lightcone1.csv',\n",
    "]\n",
    "\n",
    "new_df = pd.DataFrame({'SOAPID': [], 'snap_num': []})\n",
    "for file in samples:\n",
    "    df = pd.read_csv(file)\n",
    "    new_df = pd.concat([new_df, pd.DataFrame({'SOAPID': df['SOAPID'], 'snap_num': df['snap_num']})])\n",
    "    \n",
    "    print(len(new_df))\n",
    "new_df = new_df.astype(int)\n",
    "new_df = new_df.drop_duplicates()\n",
    "print(len(new_df))\n",
    "new_df.to_csv('/data1/yujiehe/data/to-joey-fiducial-id-snapnum-lc1.csv', index=False)"
   ]
  }
 ],
 "metadata": {
  "kernelspec": {
   "display_name": "Python 3",
   "language": "python",
   "name": "python3"
  },
  "language_info": {
   "codemirror_mode": {
    "name": "ipython",
    "version": 3
   },
   "file_extension": ".py",
   "mimetype": "text/x-python",
   "name": "python",
   "nbconvert_exporter": "python",
   "pygments_lexer": "ipython3",
   "version": "3.11.5"
  }
 },
 "nbformat": 4,
 "nbformat_minor": 2
}
