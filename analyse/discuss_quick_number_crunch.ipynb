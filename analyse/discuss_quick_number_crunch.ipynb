{
 "cells": [
  {
   "cell_type": "markdown",
   "metadata": {},
   "source": [
    "This notebook put together some quick number crunch. Median, variance, and so on. To put some number."
   ]
  },
  {
   "cell_type": "code",
   "execution_count": 3,
   "metadata": {},
   "outputs": [
    {
     "name": "stdout",
     "output_type": "stream",
     "text": [
      "LX-T\n",
      "1.4490969833658953\n",
      "3.3508371853564602\n",
      "YSZ-T\n",
      "1.4493678637182763\n",
      "2.24223045000216\n",
      "M-T\n",
      "1.4461725456643384\n",
      "1.2602946049015702\n"
     ]
    }
   ],
   "source": [
    "# Zcos run\n",
    "import pandas as pd\n",
    "data = pd.read_csv('/cosma/home/do012/dc-he4/anisotropy-flamingo/data/analysis_all/h0_mc_zcos.csv')\n",
    "for relation in ['LX-T', 'YSZ-T', 'M-T']:\n",
    "    _ = data[data['scaling_relation'] == relation]\n",
    "    print(relation)\n",
    "    print(_['Significance'].median())\n",
    "    print(_['DeltaH0'].median())"
   ]
  },
  {
   "cell_type": "code",
   "execution_count": 6,
   "metadata": {},
   "outputs": [
    {
     "name": "stdout",
     "output_type": "stream",
     "text": [
      "LX-T\n",
      "1.450561877031743\n",
      "3.93810477355643\n",
      "YSZ-T\n",
      "1.4452816455985458\n",
      "2.7133222661810104\n",
      "M-T\n",
      "1.4488616042303115\n",
      "1.50079589863343\n"
     ]
    }
   ],
   "source": [
    "data = pd.read_csv('/cosma/home/do012/dc-he4/anisotropy-flamingo/data/analysis_all/h0_mc_all_full.csv')\n",
    "# Get the significance\n",
    "significance = data['delta'] / data['delta_err_lower']\n",
    "data['Significance'] = significance\n",
    "data['DeltaH0'] = data['delta'] * 2 * 100 # to percentage\n",
    "\n",
    "for relation in ['LX-T', 'YSZ-T', 'M-T']:\n",
    "    _ = data[data['scaling_relation'] == relation]\n",
    "    print(relation)\n",
    "    print(_['Significance'].median())\n",
    "    print(_['DeltaH0'].median())"
   ]
  },
  {
   "cell_type": "code",
   "execution_count": 7,
   "metadata": {},
   "outputs": [
    {
     "data": {
      "text/plain": [
       "2.408494174271412"
      ]
     },
     "execution_count": 7,
     "metadata": {},
     "output_type": "execute_result"
    }
   ],
   "source": [
    "# 2d Sigma\n",
    "import numpy as np\n",
    "def n_sigma(p):\n",
    "    return np.sqrt(- 2 * np.log(p))\n",
    "\n",
    "n_sigma(0.055)"
   ]
  }
 ],
 "metadata": {
  "kernelspec": {
   "display_name": "base",
   "language": "python",
   "name": "python3"
  },
  "language_info": {
   "codemirror_mode": {
    "name": "ipython",
    "version": 3
   },
   "file_extension": ".py",
   "mimetype": "text/x-python",
   "name": "python",
   "nbconvert_exporter": "python",
   "pygments_lexer": "ipython3",
   "version": "3.8.13"
  }
 },
 "nbformat": 4,
 "nbformat_minor": 2
}
