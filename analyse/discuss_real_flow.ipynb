{
 "cells": [
  {
   "cell_type": "markdown",
   "metadata": {},
   "source": [
    "# The real flow by averaging the velocities"
   ]
  },
  {
   "cell_type": "code",
   "execution_count": 1,
   "metadata": {},
   "outputs": [],
   "source": [
    "import pandas as pd\n",
    "import numpy as np\n",
    "import os\n",
    "data_dir = '/cosma8/data/do012/dc-he4/analysis'\n",
    "# data/analysis/lc0004/samples_in_lightcone0004_duplicate_excision_outlier_excision.csv\n",
    "\n",
    "\n",
    "ubf_real = []\n",
    "v2_median = []\n",
    "v2_low = []\n",
    "v2_up = []\n",
    "for lc in range(1728):\n",
    "    lc00 = f'{lc:04d}'\n",
    "    \n",
    "    # filename\n",
    "    filename = f'{data_dir}/lc{lc00}/samples_in_lightcone{lc00}_duplicate_excision_outlier_excision.csv'\n",
    "\n",
    "    if os.path.exists(filename):\n",
    "        df = pd.read_csv(filename)\n",
    "        \n",
    "        # Calculate the average velocities\n",
    "        Vx = np.mean(df['Vx'].values)\n",
    "        Vy = np.mean(df['Vy'].values)\n",
    "        Vz = np.mean(df['Vz'].values)\n",
    "        ubf = np.sqrt(Vx**2 + Vy**2 + Vz**2)   # sum of velocities\n",
    "        ubf_real.append(ubf)\n",
    "\n",
    "        # Also the magnitude\n",
    "        v2 = np.sqrt(df['Vx'].values**2 + df['Vy'].values**2 + df['Vz'].values**2)\n",
    "        v2_median.append(np.median(v2))\n",
    "        v2_low.append(np.min(v2))\n",
    "        v2_up.append(np.max(v2))\n",
    "        \n",
    "\n",
    "ubf_real = np.array(ubf_real) # to array\n",
    "v2_median = np.array(v2_median)\n",
    "v2_low = np.array(v2_low)\n",
    "v2_up = np.array(v2_up)"
   ]
  },
  {
   "cell_type": "code",
   "execution_count": 2,
   "metadata": {},
   "outputs": [
    {
     "data": {
      "text/plain": [
       "(array([77.31681688, 23.14745913, 51.61411739, ..., 35.89716523,\n",
       "        22.03219203, 57.79743298]),\n",
       " (1728,))"
      ]
     },
     "execution_count": 2,
     "metadata": {},
     "output_type": "execute_result"
    }
   ],
   "source": [
    "ubf_real, ubf_real.shape"
   ]
  },
  {
   "cell_type": "code",
   "execution_count": 4,
   "metadata": {},
   "outputs": [],
   "source": [
    "def range_check(arr):\n",
    "    low = np.nanpercentile(arr, 16)\n",
    "    up = np.nanpercentile(arr, 84)\n",
    "    median = np.median(arr)\n",
    "    print(f'{median:.2f} + {up - median:.2f} - {median - low:.2f}')\n",
    "    print(f'{np.nanmin(arr):.2f} to {np.nanmax(arr):.2f}')\n",
    "    return median, low, up"
   ]
  },
  {
   "cell_type": "code",
   "execution_count": 5,
   "metadata": {},
   "outputs": [
    {
     "name": "stdout",
     "output_type": "stream",
     "text": [
      "63.62 + 31.01 - 26.05\n",
      "5.48 to 169.45\n"
     ]
    },
    {
     "data": {
      "text/plain": [
       "(63.615418992651925, 37.570377471719794, 94.62248837284311)"
      ]
     },
     "execution_count": 5,
     "metadata": {},
     "output_type": "execute_result"
    }
   ],
   "source": [
    "# The real bulk flow amplitude\n",
    "range_check(ubf_real)"
   ]
  },
  {
   "cell_type": "code",
   "execution_count": 14,
   "metadata": {},
   "outputs": [
    {
     "name": "stdout",
     "output_type": "stream",
     "text": [
      "41.31 + 13.39 - 15.54\n",
      "25.77 to 54.70\n",
      "452.18 + 15.02 - 13.67\n",
      "438.51 to 467.20\n",
      "1436.31 + 186.57 - 129.39\n",
      "1306.92 to 1622.89\n"
     ]
    },
    {
     "data": {
      "text/plain": [
       "(1436.3112687830933, 1306.917047481535, 1622.8855594141721)"
      ]
     },
     "execution_count": 14,
     "metadata": {},
     "output_type": "execute_result"
    }
   ],
   "source": [
    "# The average magnitude of velocity\n",
    "range_check(v2_low)\n",
    "range_check(v2_median)\n",
    "range_check(v2_up)"
   ]
  },
  {
   "cell_type": "code",
   "execution_count": 10,
   "metadata": {},
   "outputs": [
    {
     "data": {
      "image/png": "[encoded data removed]",
      "text/plain": [
       "<Figure size 640x480 with 1 Axes>"
      ]
     },
     "metadata": {},
     "output_type": "display_data"
    }
   ],
   "source": [
    "# Make a plot\n",
    "import matplotlib.pyplot as plt\n",
    "import seaborn as sns\n",
    "plt.style.use('nice.mplstyle')\n",
    "\n",
    "# Make a nice kde plot\n",
    "sns.kdeplot(ubf_real)\n",
    "plt.show()"
   ]
  },
  {
   "cell_type": "markdown",
   "metadata": {},
   "source": [
    "# As a function of redshift"
   ]
  },
  {
   "cell_type": "code",
   "execution_count": 30,
   "metadata": {},
   "outputs": [
    {
     "name": "stdout",
     "output_type": "stream",
     "text": [
      "(1728,)\n",
      "(2, 1728)\n",
      "(3, 1728)\n",
      "(4, 1728)\n",
      "(5, 1728)\n",
      "(6, 1728)\n",
      "(7, 1728)\n",
      "(8, 1728)\n",
      "(9, 1728)\n",
      "(10, 1728)\n",
      "(11, 1728)\n",
      "(12, 1728)\n",
      "(13, 1728)\n",
      "(14, 1728)\n",
      "(15, 1728)\n",
      "(16, 1728)\n"
     ]
    }
   ],
   "source": [
    "import pandas as pd\n",
    "import numpy as np\n",
    "import os\n",
    "data_dir = '/cosma8/data/do012/dc-he4/analysis'\n",
    "# data/analysis/lc0004/samples_in_lightcone0004_duplicate_excision_outlier_excision.csv\n",
    "\n",
    "ubf_z_all = np.array([])\n",
    "for z in np.arange(0.02, 0.18, 0.01):\n",
    "    ubf_z = []\n",
    "    for lc in range(1728):\n",
    "        lc00 = f'{lc:04d}'\n",
    "        \n",
    "        # filename\n",
    "        filename = f'{data_dir}/lc{lc00}/samples_in_lightcone{lc00}_duplicate_excision_outlier_excision.csv'\n",
    "\n",
    "        if os.path.exists(filename):\n",
    "            df = pd.read_csv(filename)\n",
    "            zmask = (df['ObservedRedshift'].values < z)\n",
    "            df = df[zmask]\n",
    "            \n",
    "            # Calculate the average velocities\n",
    "            Vx = np.mean(df['Vx'].values)\n",
    "            Vy = np.mean(df['Vy'].values)\n",
    "            Vz = np.mean(df['Vz'].values)\n",
    "            ubf = np.sqrt(Vx**2 + Vy**2 + Vz**2)   # sum of velocities\n",
    "\n",
    "            # Append to list\n",
    "            ubf_z.append(ubf)\n",
    "\n",
    "    # to array\n",
    "    ubf_z = np.array(ubf_z)\n",
    "\n",
    "    # combine\n",
    "    if len(ubf_z_all) == 0:\n",
    "        ubf_z_all = ubf_z                          # first entry\n",
    "    else:\n",
    "        ubf_z_all = np.vstack((ubf_z_all, ubf_z))    # stack on the first indices\n",
    "\n",
    "    print(np.shape(ubf_z_all))"
   ]
  },
  {
   "cell_type": "code",
   "execution_count": 31,
   "metadata": {},
   "outputs": [
    {
     "name": "stdout",
     "output_type": "stream",
     "text": [
      "z = 0.02\n",
      "125 + 59.9 - 49.1\n",
      "z = 0.03\n",
      "109 + 55.1 - 44.1\n",
      "z = 0.04\n",
      "101 + 48 - 40.4\n",
      "z = 0.05\n",
      "94.2 + 46 - 37.2\n",
      "z = 0.06\n",
      "90 + 43.2 - 35.4\n",
      "z = 0.07\n",
      "86.3 + 39.8 - 34.6\n",
      "z = 0.08\n",
      "82.2 + 38.2 - 32.8\n",
      "z = 0.09\n",
      "78.9 + 36.4 - 31.7\n",
      "z = 0.1\n",
      "75.4 + 36.2 - 30.3\n",
      "z = 0.11\n",
      "72.6 + 34.6 - 29.2\n",
      "z = 0.12\n",
      "70.6 + 34.3 - 28.5\n",
      "z = 0.13\n",
      "68.3 + 33.5 - 27.1\n",
      "z = 0.14\n",
      "66.1 + 32.8 - 26.4\n",
      "z = 0.15\n",
      "64.6 + 32.4 - 26.2\n",
      "z = 0.16\n",
      "64.5 + 31.6 - 26.5\n",
      "z = 0.17\n",
      "64.2 + 32.4 - 26.1\n"
     ]
    }
   ],
   "source": [
    "# Make plots and number checks\n",
    "i = 0 # walk the ubf_z_all array\n",
    "dict = {}\n",
    "dict['z']   = []\n",
    "dict['ubf'] = []\n",
    "dict['ubf_low_err'] = []\n",
    "dict['ubf_up_err']  = []\n",
    "\n",
    "# copy from above cell\n",
    "for z in np.arange(0.02, 0.18, 0.01):\n",
    "    # print the redshfit we are using\n",
    "    print(f'z = {z:.3g}')\n",
    "\n",
    "    # ubf_z\n",
    "    ubf_z = ubf_z_all[i, :]\n",
    "\n",
    "    # Get 16th, 50th, 84th percentiles\n",
    "    low_ubf = np.nanpercentile(ubf_z, 16)\n",
    "    up_ubf = np.nanpercentile(ubf_z, 84)\n",
    "    median_ubf = np.nanmedian(ubf_z)\n",
    "    print(f'{median_ubf:.3g} + {up_ubf - median_ubf:.3g} - {median_ubf - low_ubf:.3g}')\n",
    "\n",
    "    i += 1 # traverse all zs\n",
    "\n",
    "    dict['z'].append(z)\n",
    "    dict['ubf'].append(median_ubf)\n",
    "    dict['ubf_low_err'].append(up_ubf - median_ubf)\n",
    "    dict['ubf_up_err'].append(median_ubf - low_ubf)\n",
    "\n",
    "# dataframe\n",
    "df_out = pd.DataFrame(dict)\n",
    "\n",
    "# save\n",
    "df_out.to_csv('/cosma/home/do012/dc-he4/anisotropy-flamingo/data/analysis_all/bf_truth.csv')\n"
   ]
  }
 ],
 "metadata": {
  "kernelspec": {
   "display_name": "base",
   "language": "python",
   "name": "python3"
  },
  "language_info": {
   "codemirror_mode": {
    "name": "ipython",
    "version": 3
   },
   "file_extension": ".py",
   "mimetype": "text/x-python",
   "name": "python",
   "nbconvert_exporter": "python",
   "pygments_lexer": "ipython3",
   "version": "3.8.13"
  }
 },
 "nbformat": 4,
 "nbformat_minor": 2
}
