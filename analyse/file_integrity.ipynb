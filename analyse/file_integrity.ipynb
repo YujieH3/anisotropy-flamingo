{
 "cells": [
  {
   "cell_type": "code",
   "execution_count": 1,
   "metadata": {},
   "outputs": [
    {
     "name": "stdout",
     "output_type": "stream",
     "text": [
      "1728 1728 1728\n"
     ]
    }
   ],
   "source": [
    "# Is the analysis done?\n",
    "import pandas as pd\n",
    "import numpy as np\n",
    "import os\n",
    "\n",
    "data_dir = '/cosma8/data/do012/dc-he4/analysis'\n",
    "output_file = '/cosma8/data/do012/dc-he4/analysis_all/h0_direct_compare.csv'\n",
    "\n",
    "count1 = 1728\n",
    "count2 = 1728\n",
    "count3 = 1728\n",
    "for lc in range(1728):\n",
    "    lc00 = f'{lc:04d}'\n",
    "    # flag filenames\n",
    "    flag1 = f'{data_dir}/lc{lc00}/fit-all.done'\n",
    "    flag2 = f'{data_dir}/lc{lc00}/scan-best-fit.done'\n",
    "    flag3 = f'{data_dir}/lc{lc00}/scan-bootstrap-near-scan.done'\n",
    "\n",
    "    if not os.path.exists(flag1):\n",
    "        print(f'lc{lc00}: fit-all.done not found.')\n",
    "        count1 -= 1\n",
    "    if not os.path.exists(flag2):\n",
    "        print(f'lc{lc00}: scan-best-fit.done not found.')\n",
    "        count2 -= 1\n",
    "    if not os.path.exists(flag3):\n",
    "        print(f'lc{lc00}: scan-bootstrap-near-scan.done not found.')\n",
    "        count3 -= 1\n",
    "\n",
    "print(count1, count2, count3)\n",
    "    "
   ]
  },
  {
   "cell_type": "code",
   "execution_count": 4,
   "metadata": {},
   "outputs": [
    {
     "name": "stdout",
     "output_type": "stream",
     "text": [
      "1727\n",
      "1688\n",
      "1688\n"
     ]
    }
   ],
   "source": [
    "# Check the total output file\n",
    "df = pd.read_csv('/cosma/home/do012/dc-he4/anisotropy-flamingo/data/analysis_all/h0_direct_compare.csv')\n",
    "for relation in ['$L_\\mathrm{{X}}-T$', '$Y_\\mathrm{{SZ}}-T$', '$M_\\mathrm{{gas}}-T$']:\n",
    "    print(np.sum(df['Relations'] == relation))"
   ]
  },
  {
   "cell_type": "code",
   "execution_count": 1,
   "metadata": {},
   "outputs": [],
   "source": [
    "# Specifically check the nan situation in scan_bootstrap\n",
    "import pandas as pd\n",
    "import numpy as np\n",
    "import os\n",
    "\n",
    "data_dir = '/cosma8/data/do012/dc-he4/analysis'\n",
    "\n",
    "for lc in range(1728):\n",
    "    lc00 = f'{lc:04d}'\n",
    "\n",
    "    # For status check when program is running, no flag means we reached the end of current progress\n",
    "    flag3 = f'{data_dir}/lc{lc00}/scan-bootstrap-near-scan.done'\n",
    "    if not os.path.exists(flag3):\n",
    "        print(f'Until {lc00}')\n",
    "        break\n",
    "\n",
    "    # Check each file\n",
    "    for relation in ['LX-T', 'YSZ-T', 'M-T']:\n",
    "        cone_size = 60 if 'YSZ' in relation else 75 # set cone size\n",
    "        file = f'{data_dir}/lc{lc00}/scan_bootstrap_{relation}_theta{cone_size}.csv'\n",
    "        if os.path.exists(file) and os.path.exists(flag3):\n",
    "            df = pd.read_csv(file)\n",
    "            \n",
    "            # number of nans in A\n",
    "            A = df['A'].values\n",
    "            count1 = np.sum(np.isnan(A))\n",
    "\n",
    "            # number of nans in B\n",
    "            B = df['B'].values\n",
    "            count2 = np.sum(np.isnan(B))\n",
    "\n",
    "            # number of nans in TotalScatter\n",
    "            scat = df['TotalScatter'].values\n",
    "            count3 = np.sum(np.isnan(scat))\n",
    "\n",
    "            if count1 != count2 or count1 != count3:\n",
    "                print('This should never happen. Okay now this is really weird.')\n",
    "            elif count1 > 0:\n",
    "                print(f'Lightcone: {lc00}, Relation: {relation}, Number of NaNs: {count1}/{len(A)}')\n",
    "        else:\n",
    "            continue # in this script we don't focus on this\n",
    "\n"
   ]
  },
  {
   "cell_type": "code",
   "execution_count": null,
   "metadata": {},
   "outputs": [
    {
     "name": "stdout",
     "output_type": "stream",
     "text": [
      "Removed 3 files\n"
     ]
    }
   ],
   "source": [
    "# # Remove all files\n",
    "# import os\n",
    "\n",
    "# data_dir = '/cosma8/data/do012/dc-he4/analysis'\n",
    "\n",
    "# count = 0\n",
    "# for lc in range(1728):\n",
    "#     lc00 = f'{lc:04d}'\n",
    "#     # flag filenames\n",
    "#     file = f'{data_dir}/lc{lc00}/fit-all-mc-scatter.done'\n",
    "#     if os.path.exists(file):\n",
    "#         os.remove(file)\n",
    "#         count += 1\n",
    "\n",
    "# print(f'Removed {count} files')"
   ]
  },
  {
   "cell_type": "code",
   "execution_count": null,
   "metadata": {},
   "outputs": [],
   "source": [
    "# in what lightcone we have no data?\n",
    "import pandas as pd\n",
    "import numpy as np\n",
    "import os\n",
    "\n",
    "data_dir = '/cosma8/data/do012/dc-he4/analysis'\n",
    "\n",
    "for lc in range(1728):\n",
    "    lc00 = f'{lc:04d}'\n",
    "    for relation in ['LX-T', 'YSZ-T', 'M-T']:\n",
    "        cone_size = 60 if 'YSZ' in relation else 75 # set cone size\n",
    "        file = f'{data_dir}/lc{lc00}/scan_bootstrap_{relation}_theta{cone_size}.csv'\n",
    "        if os.path.exists(file):\n",
    "            continue\n",
    "        else:\n",
    "            print(f'{lc00}')"
   ]
  }
 ],
 "metadata": {
  "kernelspec": {
   "display_name": "base",
   "language": "python",
   "name": "python3"
  },
  "language_info": {
   "codemirror_mode": {
    "name": "ipython",
    "version": 3
   },
   "file_extension": ".py",
   "mimetype": "text/x-python",
   "name": "python",
   "nbconvert_exporter": "python",
   "pygments_lexer": "ipython3",
   "version": "3.8.13"
  }
 },
 "nbformat": 4,
 "nbformat_minor": 2
}
