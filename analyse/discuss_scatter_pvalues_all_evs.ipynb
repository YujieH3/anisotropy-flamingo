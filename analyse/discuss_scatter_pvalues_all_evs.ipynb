{
 "cells": [
  {
   "cell_type": "markdown",
   "metadata": {},
   "source": [
    "# EVS-POT\n",
    "Use a function to map the (DH0, n_sigma) to 1D and estimate the probability.\n"
   ]
  },
  {
   "cell_type": "code",
   "execution_count": 1,
   "metadata": {},
   "outputs": [
    {
     "name": "stderr",
     "output_type": "stream",
     "text": [
      "/cosma/home/do012/dc-he4/.conda/envs/halo-cosma/lib/python3.8/site-packages/scipy/__init__.py:138: UserWarning: A NumPy version >=1.16.5 and <1.23.0 is required for this version of SciPy (detected version 1.24.3)\n",
      "  warnings.warn(f\"A NumPy version >={np_minversion} and <{np_maxversion} is required for this version of \"\n"
     ]
    }
   ],
   "source": [
    "%load_ext autoreload\n",
    "%autoreload 2\n",
    "import numpy as np\n",
    "import pandas as pd\n",
    "from scipy.stats import genpareto\n",
    "import matplotlib.pyplot as plt\n",
    "from scipy.special import erfinv\n",
    "import math\n",
    "import clusterfit as cf\n",
    "import clusterplot as cp\n",
    "plt.style.use('./nice.mplstyle')"
   ]
  },
  {
   "cell_type": "code",
   "execution_count": 2,
   "metadata": {},
   "outputs": [],
   "source": [
    "def load_data(file_path, data_type='mc'):\n",
    "    data = pd.read_csv(file_path)\n",
    "    if data_type == 'direct_compare':\n",
    "        data['Delta_H0'] *= 100\n",
    "    return data\n",
    "\n",
    "def extract_data(data, relation):\n",
    "    \"\"\"Deal with my messy naming conventions.\"\"\"\n",
    "    if 'scaling_relation' in data.columns:\n",
    "        df = data[data['scaling_relation'] == relation]\n",
    "    elif 'Relations' in data.columns:\n",
    "        df = data[data['Relations'] == relation]\n",
    "    else:\n",
    "        raise Exception('Relation/scaling relation column not found or recognised.')\n",
    "    \n",
    "    if 'DeltaH0' in df.columns:\n",
    "        delta_h0 = df['DeltaH0'].values\n",
    "    elif '$\\Delta H_0\\,(\\%)$' in df.columns:\n",
    "        delta_h0 = df['$\\Delta H_0\\,(\\%)$'].values\n",
    "    elif 'Delta_H0' in df.columns:\n",
    "        delta_h0 = df['Delta_H0'].values \n",
    "    else:\n",
    "        raise Exception('The delta H0 column not found or recognised.')\n",
    "    \n",
    "    \n",
    "    if 'Significance $(\\sigma)$' in df.columns:\n",
    "        significance = df['Significance $(\\sigma)$'].values\n",
    "    elif 'Significance' in df.columns:\n",
    "        significance = df['Significance'].values\n",
    "    else:\n",
    "        raise Exception('The significance column not found or recognised.')\n",
    "    return delta_h0, significance\n",
    "\n",
    "def calculate_sigma_p_value(delta_h0_proj, target_value):\n",
    "    \"\"\"Calculate the p-value by number of sigma deviation from the mean.\"\"\"\n",
    "    median = np.median(delta_h0_proj)\n",
    "    sigma_84th = np.percentile(delta_h0_proj, 84)\n",
    "    sigma = sigma_84th - median\n",
    "    sigma_deviation = np.abs((target_value - median) / sigma)\n",
    "    p_value_sigma = 1 - math.erf(sigma_deviation / np.sqrt(2))\n",
    "    return sigma_deviation, p_value_sigma\n",
    "\n",
    "def calculate_evt_p_value(delta_h0_proj, target_value, percentile=90):\n",
    "    # Determine the threshold\n",
    "    threshold = np.percentile(delta_h0_proj, percentile)\n",
    "    exceedances = delta_h0_proj[delta_h0_proj > threshold] - threshold  # Tail data\n",
    "\n",
    "    # Fit GPD to the tail data\n",
    "    params = genpareto.fit(exceedances)\n",
    "    shape, loc, scale = params\n",
    "\n",
    "    # Tail survival probability (proportion of data in the tail)\n",
    "    tail_prob = np.sum(delta_h0_proj >= threshold) / len(delta_h0_proj)\n",
    "\n",
    "    if target_value > threshold:\n",
    "        # Conditional probability adjusted to match at the threshold\n",
    "        p_value_evt = (1 - genpareto.cdf(target_value - threshold, *params)) * tail_prob\n",
    "    else:\n",
    "        # Empirical CDF for the bulk region\n",
    "        p_value_evt = np.sum(delta_h0_proj >= target_value) / len(delta_h0_proj)\n",
    "\n",
    "    # Transform to sigma (Gaussian equivalent deviation)\n",
    "    sigma_deviation = np.sqrt(2) * erfinv(1 - p_value_evt)\n",
    "\n",
    "    return p_value_evt, sigma_deviation\n",
    "\n",
    "# The first projection function\n",
    "def default_proj(delta_H0, n_sigma):\n",
    "    return delta_H0 - delta_H0 / n_sigma"
   ]
  },
  {
   "cell_type": "markdown",
   "metadata": {},
   "source": [
    "## Read and plot\n",
    "The MCMC run, for Lx-T and Ysz-T, output data and plot."
   ]
  },
  {
   "cell_type": "code",
   "execution_count": 4,
   "metadata": {},
   "outputs": [
    {
     "name": "stdout",
     "output_type": "stream",
     "text": [
      "Prob of obtaining (ΔH%, nσ) = [8.7 2.4] in LX-T.\n",
      "Sigma deviation: 1.76σ, p-value: 0.0782\n",
      "Probability of target value: 0.085\\,(1.72\\sigma)\n",
      "Frequentist:148/1727 p=0.08569774174869717 (1.718542322449414)\n"
     ]
    },
    {
     "data": {
      "image/png": "[encoded data removed]",
      "text/plain": [
       "<Figure size 300x220 with 1 Axes>"
      ]
     },
     "metadata": {},
     "output_type": "display_data"
    },
    {
     "name": "stdout",
     "output_type": "stream",
     "text": [
      "Prob of obtaining (ΔH%, nσ) = [14.   2.6] in YSZ-T.\n",
      "Sigma deviation: 5.59σ, p-value: 2.27e-08\n",
      "Probability of target value: 0.0049\\,(2.82\\sigma)\n",
      "Frequentist:10/1727 p=0.005790387955993051 (2.75942103271546)\n"
     ]
    },
    {
     "data": {
      "image/png": "[encoded data removed]",
      "text/plain": [
       "<Figure size 300x220 with 1 Axes>"
      ]
     },
     "metadata": {},
     "output_type": "display_data"
    }
   ],
   "source": [
    "file_path_mc = '/cosma/home/do012/dc-he4/anisotropy-flamingo/data/analysis_all/h0_mc_scatter.csv'\n",
    "data_type_mc = 'mc'\n",
    "data_mc = load_data(file_path_mc, data_type_mc)\n",
    "\n",
    "target_point_arr_mc = [np.array([8.7, 2.4]), np.array([14, 2.6])]\n",
    "for relation, target_point in zip(['LX-T', 'YSZ-T'], target_point_arr_mc):\n",
    "    print(f'Prob of obtaining (ΔH%, nσ) = {target_point} in {relation}.')\n",
    "    delta_h0, significance = extract_data(data_mc, relation)\n",
    "    delta_h0_proj = default_proj(delta_h0, significance)\n",
    "    target_value = default_proj(target_point[0], target_point[1])\n",
    "    \n",
    "    sigma_deviation, p_value_sigma = calculate_sigma_p_value(delta_h0_proj, target_value)\n",
    "    print(f\"Sigma deviation: {sigma_deviation:.3g}σ, p-value: {p_value_sigma:.3g}\")\n",
    "    \n",
    "    percentile = 90\n",
    "    p_value_evt, sigma_evt = calculate_evt_p_value(delta_h0_proj, target_value, percentile)\n",
    "    print(f\"Probability of target value: {p_value_evt:.2g}\\\\,({sigma_evt:.3g}\\\\sigma)\")\n",
    "    \n",
    "    threshold = np.percentile(delta_h0_proj, percentile)\n",
    "    exceedances = delta_h0_proj[delta_h0_proj > threshold] - threshold\n",
    "    params = genpareto.fit(exceedances)\n",
    "    shape, loc, scale = params\n",
    "\n",
    "    # One can get the frequency when the sigma value is low\n",
    "    p_value_freq = np.sum(delta_h0_proj > target_value)/len(delta_h0_proj)\n",
    "    n_sigma_freq = cf.n_sigma1d(p_value_freq)\n",
    "    print(f'Frequentist:{np.sum(delta_h0_proj > target_value)}/{len(delta_h0_proj)} p={p_value_freq} ({n_sigma_freq})')\n",
    "\n",
    "    x_vals = np.linspace(threshold, delta_h0_proj.max(), 100)\n",
    "    gpd_pdf = genpareto.pdf(x_vals - threshold, shape, loc, scale) * (1 - percentile / 100)\n",
    "\n",
    "    # Plot\n",
    "    cp._small_evs_(distribution=delta_h0_proj,\n",
    "                   target_value=target_value,\n",
    "                   x_vals=x_vals,\n",
    "                   gpd_pdf=gpd_pdf,\n",
    "                   threshold=threshold,\n",
    "                   percentile=percentile,\n",
    "                   sigma_evt=sigma_evt, color='#ff7f00')\n",
    "                   \n",
    "    # plt.xlabel('$x=\\\\Delta H_0 - \\\\Delta H_0 / n_\\\\sigma$')\n",
    "    # plt.ylabel('Density')\n",
    "\n",
    "    # plt.title(f'{relation} scattered')\n",
    "    # plt.legend(fontsize=9)\n",
    "\n",
    "    plt.savefig(f'./to_paper/evs_mcmc_{relation[0]}_scatter.pdf', bbox_inches='tight')   # save the figure\n",
    "    plt.show()"
   ]
  },
  {
   "cell_type": "markdown",
   "metadata": {},
   "source": [
    "The M21 fits, of Lx-T and Ysz-T separately. Data and plot below."
   ]
  },
  {
   "cell_type": "code",
   "execution_count": 5,
   "metadata": {},
   "outputs": [
    {
     "name": "stdout",
     "output_type": "stream",
     "text": [
      "Prob of obtaining (ΔH%, nσ) = [8.7 2.6] in $L_\\mathrm{{X}}-T$.\n",
      "Sigma deviation: 0.742σ, p-value: 0.458\n",
      "Probability of target value: 0.23\\,(1.2\\sigma)\n",
      "Frequentist:399/1725 p=0.23130434782608697 (1.1970056621209257)\n"
     ]
    },
    {
     "data": {
      "image/png": "[encoded data removed]",
      "text/plain": [
       "<Figure size 300x220 with 1 Axes>"
      ]
     },
     "metadata": {},
     "output_type": "display_data"
    },
    {
     "name": "stdout",
     "output_type": "stream",
     "text": [
      "Prob of obtaining (ΔH%, nσ) = [14.   4.1] in $Y_\\mathrm{{SZ}}-T$.\n",
      "Sigma deviation: 3.01σ, p-value: 0.00262\n",
      "Probability of target value: 0.0013\\,(3.22\\sigma)\n",
      "Frequentist:4/1724 p=0.002320185614849188 (3.0458564731375684)\n"
     ]
    },
    {
     "data": {
      "image/png": "[encoded data removed]",
      "text/plain": [
       "<Figure size 300x220 with 1 Axes>"
      ]
     },
     "metadata": {},
     "output_type": "display_data"
    }
   ],
   "source": [
    "file_path_direct_compare = '/cosma/home/do012/dc-he4/anisotropy-flamingo/data/analysis_all/h0_direct_compare_scatter.csv'\n",
    "data_type_direct_compare = 'direct_compare'\n",
    "data_direct_compare = load_data(file_path_direct_compare, data_type_direct_compare)\n",
    "\n",
    "target_point_arr_direct_compare = [np.array([8.7, 2.6]), np.array([14, 4.1])]\n",
    "for relation, target_point in zip(['$L_\\\\mathrm{{X}}-T$', '$Y_\\\\mathrm{{SZ}}-T$'], target_point_arr_direct_compare):\n",
    "    print(f'Prob of obtaining (ΔH%, nσ) = {target_point} in {relation}.')\n",
    "    delta_h0, significance = extract_data(data_direct_compare, relation)\n",
    "    delta_h0_proj = default_proj(delta_h0, significance)\n",
    "    target_value = default_proj(target_point[0], target_point[1])\n",
    "    \n",
    "    sigma_deviation, p_value_sigma = calculate_sigma_p_value(delta_h0_proj, target_value)\n",
    "    print(f\"Sigma deviation: {sigma_deviation:.3g}σ, p-value: {p_value_sigma:.3g}\")\n",
    "    \n",
    "    percentile = 90         # Set the threshold\n",
    "    p_value_evt, sigma_evt = calculate_evt_p_value(delta_h0_proj, target_value, percentile)\n",
    "    print(f\"Probability of target value: {p_value_evt:.2g}\\\\,({sigma_evt:.3g}\\\\sigma)\")\n",
    "\n",
    "    # One can get the frequency when the sigma value is low\n",
    "    p_value_freq = np.sum(delta_h0_proj > target_value)/len(delta_h0_proj)\n",
    "    n_sigma_freq = cf.n_sigma1d(p_value_freq)\n",
    "    print(f'Frequentist:{np.sum(delta_h0_proj > target_value)}/{len(delta_h0_proj)} p={p_value_freq} ({n_sigma_freq})')\n",
    "    \n",
    "    threshold = np.percentile(delta_h0_proj, percentile)\n",
    "    exceedances = delta_h0_proj[delta_h0_proj > threshold] - threshold\n",
    "    params = genpareto.fit(exceedances)\n",
    "    shape, loc, scale = params\n",
    "    \n",
    "    # Plotting results\n",
    "    x_vals = np.linspace(threshold, delta_h0_proj.max(), 100)\n",
    "    gpd_pdf = genpareto.pdf(x_vals - threshold, shape, loc, scale) * (1 - percentile / 100)\n",
    "\n",
    "    # Plot\n",
    "    cp._small_evs_(distribution=delta_h0_proj,\n",
    "                   target_value=target_value,\n",
    "                   x_vals=x_vals,\n",
    "                   gpd_pdf=gpd_pdf,\n",
    "                   threshold=threshold,\n",
    "                   percentile=percentile,\n",
    "                   sigma_evt=sigma_evt, color='#ff7f00')\n",
    "\n",
    "    plt.savefig(f'./to_paper/evs_m21_{relation[1]}_scatter.pdf', bbox_inches='tight')  # save the figure\n",
    "    plt.show()"
   ]
  },
  {
   "cell_type": "markdown",
   "metadata": {},
   "source": [
    "Now the MCMC joint result."
   ]
  },
  {
   "cell_type": "code",
   "execution_count": 3,
   "metadata": {},
   "outputs": [
    {
     "name": "stdout",
     "output_type": "stream",
     "text": [
      "1726\n"
     ]
    }
   ],
   "source": [
    "file_path_joint = '../data/analysis_all/h0_mc_joint_scatter_all.csv'\n",
    "data_joint = load_data(file_path_joint, 'joint')\n",
    "print(len(data_joint))"
   ]
  },
  {
   "cell_type": "code",
   "execution_count": null,
   "metadata": {},
   "outputs": [
    {
     "name": "stdout",
     "output_type": "stream",
     "text": [
      "1726\n",
      "Prob of obtaining (ΔH%, nσ) = [9.  5.9] in joint result.\n",
      "Sigma deviation: 3.23σ, p-value: 0.00124\n",
      "Probability of target value: 0.0205, (2.32sigma)\n",
      "Frequentist:32/1726 p=0.01853997682502897 (2.3546536560864446)\n"
     ]
    },
    {
     "data": {
      "image/png": "[encoded data removed]",
      "text/plain": [
       "<Figure size 500x300 with 1 Axes>"
      ]
     },
     "metadata": {},
     "output_type": "display_data"
    }
   ],
   "source": [
    "# ** This plot is put in the paper **\n",
    "file_path_joint = '../data/analysis_all/h0_mc_joint_scatter_all.csv'\n",
    "data_joint = load_data(file_path_joint, 'joint')\n",
    "print(len(data_joint))\n",
    "target_point_joint = np.array([9.0, 5.9])\n",
    "\n",
    "print(f'Prob of obtaining (ΔH%, nσ) = {target_point_joint} in joint result.')\n",
    "delta_h0_joint = data_joint['DeltaH0'].values\n",
    "significance_joint = data_joint['Significance'].values\n",
    "delta_h0_proj_joint = default_proj(delta_h0_joint, significance_joint)\n",
    "target_value_joint = default_proj(target_point_joint[0], target_point_joint[1])\n",
    "\n",
    "sigma_deviation_joint, p_value_sigma_joint = calculate_sigma_p_value(delta_h0_proj_joint, target_value_joint)\n",
    "print(f\"Sigma deviation: {sigma_deviation_joint:.3g}σ, p-value: {p_value_sigma_joint:.3g}\")\n",
    "\n",
    "percentile_joint = 90\n",
    "p_value_evt_joint, sigma_evt_joint = calculate_evt_p_value(delta_h0_proj_joint, target_value_joint, percentile_joint)\n",
    "print(f\"Probability of target value: {p_value_evt_joint:.3g}, ({sigma_evt_joint:.3g}sigma)\")\n",
    "\n",
    "# One can get the frequency when the sigma value is low\n",
    "p_value_freq = np.sum(delta_h0_proj_joint > target_value_joint)/len(delta_h0_proj_joint)\n",
    "n_sigma_freq = cf.n_sigma1d(p_value_freq)\n",
    "print(f'Frequentist:{np.sum(delta_h0_proj_joint > target_value_joint)}/{len(delta_h0_proj_joint)} p={p_value_freq} ({n_sigma_freq})')\n",
    "    \n",
    "threshold_joint = np.percentile(delta_h0_proj_joint, percentile_joint)\n",
    "exceedances_joint = delta_h0_proj_joint[delta_h0_proj_joint > threshold_joint] - threshold_joint\n",
    "params_joint = genpareto.fit(exceedances_joint)\n",
    "shape_joint, loc_joint, scale_joint = params_joint\n",
    "\n",
    "\n",
    "# Plotting results for joint result\n",
    "plt.figure(figsize=(5, 3))\n",
    "x_vals_joint = np.linspace(threshold_joint, delta_h0_proj_joint.max(), 100)\n",
    "gpd_pdf_joint = genpareto.pdf(x_vals_joint - threshold_joint, shape_joint, loc_joint, scale_joint) * (1 - percentile_joint / 100)\n",
    "plt.hist(delta_h0_proj_joint, bins=30, range=(0, 10), density=True, alpha=0.6, color='#ff7f00', label='FLAMINGO')\n",
    "plt.axvline(target_value_joint, color='red', linestyle='-', label=f'Migkas+21')\n",
    "plt.plot(x_vals_joint[1:], gpd_pdf_joint[1:], color='g', label='Fitted GPD (Tail)')\n",
    "plt.axvline(threshold_joint, color='blue', linestyle='--', label=f'Threshold ({percentile_joint}th Percentile)')\n",
    "\n",
    "# Annotate the plot\n",
    "plt.annotate(f'p={p_value_evt_joint:.3g}', \n",
    "         xy=(target_value_joint, 0.3), xycoords='data',\n",
    "         xytext=(target_value_joint - 1, 0.3), textcoords='data',\n",
    "         arrowprops=dict(arrowstyle='->,head_width=.15', color='red'),\n",
    "         horizontalalignment='right', verticalalignment='center', color='red')\n",
    "\n",
    "plt.xlabel('$x=\\\\Delta H_0 - \\\\Delta H_0 / n_\\\\sigma$')\n",
    "plt.ylabel('Density')\n",
    "plt.xlim(right=10)\n",
    "plt.legend(fontsize=10)\n",
    "\n",
    "# plt.savefig('./to_paper/evs_joint_scatter.pdf', bbox_inches='tight')\n",
    "plt.show()"
   ]
  }
 ],
 "metadata": {
  "kernelspec": {
   "display_name": "base",
   "language": "python",
   "name": "python3"
  },
  "language_info": {
   "codemirror_mode": {
    "name": "ipython",
    "version": 3
   },
   "file_extension": ".py",
   "mimetype": "text/x-python",
   "name": "python",
   "nbconvert_exporter": "python",
   "pygments_lexer": "ipython3",
   "version": "3.8.13"
  }
 },
 "nbformat": 4,
 "nbformat_minor": 2
}
