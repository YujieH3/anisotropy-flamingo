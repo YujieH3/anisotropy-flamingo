{
 "cells": [
  {
   "cell_type": "markdown",
   "metadata": {},
   "source": [
    "# EVS-POT\n",
    "Use a function to map the (DH0, n_sigma) to 1D and estimate the probability.\n"
   ]
  },
  {
   "cell_type": "markdown",
   "metadata": {},
   "source": [
    "## Read and plot"
   ]
  },
  {
   "cell_type": "code",
   "execution_count": 24,
   "metadata": {},
   "outputs": [
    {
     "name": "stdout",
     "output_type": "stream",
     "text": [
      "bf_mc_all.csv\t\t\t  h0_mc_all.csv\n",
      "bf_mc_all_scatter.csv\t\t  h0_mc_all_full.csv\n",
      "bf_mc_zcos.csv\t\t\t  h0_mc_joint_all.csv\n",
      "bf_truth.csv\t\t\t  h0_mc_joint_scatter_all.csv\n",
      "concatenated_fit_all.csv\t  h0_mc_scatter.csv\n",
      "concatenated_fit_all_mc.csv\t  h0_mc_zcos.csv\n",
      "concatenated_fit_all_scatter.csv  scatter_LX-T_added_scatter.csv\n",
      "h0_angle_constraint_mc.csv\t  scatter_LX-T.csv\n",
      "h0_angle_constraint_scan.csv\t  scatter_M-T.csv\n",
      "h0_angle_constraints.csv\t  scatter_YSZ-T_added_scatter.csv\n",
      "h0_direct_compare.csv\t\t  scatter_YSZ-T.csv\n",
      "h0_direct_compare_scatter.csv\n"
     ]
    }
   ],
   "source": [
    "!ls /cosma/home/do012/dc-he4/anisotropy-flamingo/data/analysis_all/"
   ]
  },
  {
   "cell_type": "code",
   "execution_count": 22,
   "metadata": {},
   "outputs": [],
   "source": [
    "# Import necessary libraries\n",
    "import pandas as pd\n",
    "import numpy as np\n",
    "from scipy.stats import genpareto\n",
    "from scipy.special import erfinv\n",
    "import math\n",
    "import matplotlib.pyplot as plt\n",
    "import clusterfit as cf\n",
    "import clusterplot as cp\n",
    "plt.style.use('./nice.mplstyle')\n",
    "\n",
    "# Set percentile for EVS threshold\n",
    "percentile = 95\n",
    "\n",
    "def calculate_sigma_p_value(proj, target_value):\n",
    "    median = np.median(proj)\n",
    "    sigma_84th = np.percentile(proj, 84)\n",
    "    sigma = sigma_84th - median\n",
    "    sigma_deviation = np.abs((target_value - median) / sigma)\n",
    "    p_value_sigma = 1 - math.erf(sigma_deviation / np.sqrt(2))\n",
    "    return sigma_deviation, p_value_sigma\n",
    "\n",
    "# Function to calculate EVT p-value\n",
    "def calculate_evt_p_value(proj, target_value, percentile):\n",
    "    # Determine the threshold\n",
    "    threshold = np.percentile(proj, percentile)\n",
    "    exceedances = proj[proj > threshold] - threshold  # Tail data\n",
    "\n",
    "    # Fit GPD to the tail data\n",
    "    params = genpareto.fit(exceedances)\n",
    "\n",
    "    # Tail survival probability (proportion of data in the tail)\n",
    "    tail_prob = np.sum(proj >= threshold) / len(proj)\n",
    "\n",
    "    if target_value > threshold:\n",
    "        # Conditional probability adjusted to match at the threshold\n",
    "        p_value_evt = (1 - genpareto.cdf(target_value - threshold, *params)) * tail_prob\n",
    "    else:\n",
    "        # Empirical CDF for the bulk region\n",
    "        p_value_evt = np.sum(proj >= target_value) / len(proj)\n",
    "\n",
    "    # Transform to sigma (Gaussian equivalent deviation)\n",
    "    sigma_evt = np.sqrt(2) * erfinv(1 - p_value_evt)\n",
    "\n",
    "    return p_value_evt, sigma_evt\n",
    "\n",
    "\n",
    "# The first projection function\n",
    "def default_proj(y, n_sigma):\n",
    "    return y - y / n_sigma\n"
   ]
  },
  {
   "cell_type": "code",
   "execution_count": 9,
   "metadata": {},
   "outputs": [],
   "source": [
    "def __calc_and_plot():\n",
    "    \"\"\" Interior function to avoid copy pasting the same procedure 100 times.\"\"\"\n",
    "\n",
    "    # Number of sigma deviation\n",
    "    sigma_deviation, p_value_sigma = calculate_sigma_p_value(x, target_value)\n",
    "    print(f\"Number of std deviation: p={p_value_sigma:.3g}\\\\,({sigma_deviation:.3g}\\\\sigma)\")\n",
    "\n",
    "    # Calculate EVT p-value and sigma deviation\n",
    "    p_value_evt, sigma_evt = calculate_evt_p_value(x, target_value, percentile=percentile)\n",
    "    print(f\"EVT p-value: p={p_value_evt:.3g}\\\\,({sigma_evt:.3g}\\\\sigma)\")\n",
    "\n",
    "    # Plotting results\n",
    "    fig = plt.figure(figsize=(5, 3))\n",
    "    plt.hist(x, bins=30, density=True, alpha=0.6, color='#7570b3', label='FLAMINGO')\n",
    "\n",
    "    # Fit a GPD distribution\n",
    "    threshold = np.percentile(x, percentile)\n",
    "    exceedances = x[x > threshold] - threshold\n",
    "    params = genpareto.fit(exceedances)\n",
    "    shape, loc, scale = params\n",
    "\n",
    "    # Plot fitted distribution\n",
    "    x_vals = np.linspace(threshold, x.max(), 100)\n",
    "    gpd_pdf = genpareto.pdf(x_vals - threshold, shape, loc, scale) * (1 - percentile / 100)\n",
    "    plt.axvline(target_value, color='red', linestyle='-', label='Migkas+21')\n",
    "    plt.plot(x_vals[1:], gpd_pdf[1:], color='g', label='Fitted GPD (Tail)')\n",
    "    plt.axvline(threshold, color='blue', linestyle='--', label='Threshold (90th Percentile)')\n",
    "\n",
    "    # Annotate the plot\n",
    "    plt.annotate(f'p={p_value_evt:.2g}', \n",
    "                xy=(target_value, 0.002), xycoords='data',\n",
    "                xytext=(target_value - 100, 0.002), textcoords='data',\n",
    "                arrowprops=dict(arrowstyle='->,head_width=.15', color='red'),\n",
    "                horizontalalignment='right', verticalalignment='center', color='red')\n",
    "\n",
    "    plt.xlabel('$x$')\n",
    "    plt.ylabel('Density')\n",
    "    plt.legend(fontsize=9)\n",
    "\n",
    "    return fig\n",
    "    \n",
    "def __calc_and_plot_small():\n",
    "    \"\"\" Interior function to avoid copy pasting the same procedure 100 times.\"\"\"\n",
    "\n",
    "    # Number of sigma deviation\n",
    "    sigma_deviation, p_value_sigma = calculate_sigma_p_value(x, target_value)\n",
    "    print(f\"Number of std deviation: p={p_value_sigma:.3g}\\\\,({sigma_deviation:.3g}\\\\sigma)\")\n",
    "\n",
    "    # Calculate EVT p-value and sigma deviation\n",
    "    p_value_evt, sigma_evt = calculate_evt_p_value(x, target_value, percentile=percentile)\n",
    "    print(f\"EVT p-value: p={p_value_evt:.3g}\\\\,({sigma_evt:.3g}\\\\sigma)\")\n",
    "\n",
    "    # Fit a GPD distribution\n",
    "    threshold = np.percentile(x, percentile)\n",
    "    exceedances = x[x > threshold] - threshold\n",
    "    params = genpareto.fit(exceedances)\n",
    "    shape, loc, scale = params\n",
    "\n",
    "    # Fitted distribution\n",
    "    x_vals = np.linspace(threshold, x.max(), 100)\n",
    "    gpd_pdf = genpareto.pdf(x_vals - threshold, shape, loc, scale) * (1 - percentile / 100)\n",
    "\n",
    "    # Plot\n",
    "    fig, ax = cp._small_evs_(distribution=x,\n",
    "                            target_value=target_value,\n",
    "                            x_vals=x_vals,\n",
    "                            gpd_pdf=gpd_pdf,\n",
    "                            threshold=threshold,\n",
    "                            percentile=percentile,\n",
    "                            sigma_evt=sigma_evt, color='#7570b3')\n",
    "\n",
    "    return fig\n"
   ]
  },
  {
   "cell_type": "markdown",
   "metadata": {},
   "source": [
    "## Lx-T\n",
    "z = 0.07, 0.10"
   ]
  },
  {
   "cell_type": "code",
   "execution_count": 23,
   "metadata": {},
   "outputs": [
    {
     "name": "stderr",
     "output_type": "stream",
     "text": [
      "/tmp/ipykernel_3330644/3341492423.py:6: UserWarning: Boolean Series key will be reindexed to match DataFrame index.\n",
      "  seg = data[zmask][data['scaling_relation'] == 'LX-T'][['ubf', 'ubf_err_lower']]\n"
     ]
    }
   ],
   "source": [
    "# Load the data\n",
    "data = pd.read_csv('../data/analysis_all/bf_mc_all.csv')\n",
    "\n",
    "# Filter data for zmax = 0.07\n",
    "zmask = data['zmax'] == 0.07\n",
    "seg = data[zmask][data['scaling_relation'] == 'LX-T'][['ubf', 'ubf_err_lower']]\n",
    "\n",
    "# Calculate the projection values\n",
    "x = seg['ubf'].values - seg['ubf_err_lower'].values\n",
    "\n",
    "# Define the target value\n",
    "target_value = 1100 - 410"
   ]
  },
  {
   "cell_type": "code",
   "execution_count": 24,
   "metadata": {},
   "outputs": [
    {
     "name": "stdout",
     "output_type": "stream",
     "text": [
      "Number of std deviation: p=0.00629\\,(2.73\\sigma)\n",
      "EVT p-value: p=0.00669\\,(2.71\\sigma)\n"
     ]
    },
    {
     "data": {
      "image/png": "[encoded data removed]",
      "text/plain": [
       "<Figure size 300x220 with 1 Axes>"
      ]
     },
     "metadata": {},
     "output_type": "display_data"
    }
   ],
   "source": [
    "fig = __calc_and_plot_small()\n",
    "plt.savefig(f'./to_paper/evs_bulk_flow_L_z0.07.pdf', bbox_inches='tight')   # save the figure\n",
    "plt.show()"
   ]
  },
  {
   "cell_type": "code",
   "execution_count": 25,
   "metadata": {},
   "outputs": [
    {
     "name": "stderr",
     "output_type": "stream",
     "text": [
      "/tmp/ipykernel_3330644/3587435354.py:6: UserWarning: Boolean Series key will be reindexed to match DataFrame index.\n",
      "  seg = data[zmask][data['scaling_relation'] == 'LX-T'][['ubf', 'ubf_err_lower']]\n"
     ]
    }
   ],
   "source": [
    "# Load the data\n",
    "data = pd.read_csv('../data/analysis_all/bf_mc_all.csv')\n",
    "\n",
    "# Filter data for zmax = 0.10\n",
    "zmask = data['zmax'] == 0.10\n",
    "seg = data[zmask][data['scaling_relation'] == 'LX-T'][['ubf', 'ubf_err_lower']]\n",
    "\n",
    "# Calculate the projection values\n",
    "x = seg['ubf'].values - seg['ubf_err_lower'].values\n",
    "\n",
    "# Define the target value\n",
    "target_value = 1080 - 380"
   ]
  },
  {
   "cell_type": "code",
   "execution_count": 26,
   "metadata": {},
   "outputs": [
    {
     "name": "stdout",
     "output_type": "stream",
     "text": [
      "Number of std deviation: p=0.00688\\,(2.7\\sigma)\n",
      "EVT p-value: p=0.00582\\,(2.76\\sigma)\n"
     ]
    },
    {
     "data": {
      "image/png": "[encoded data removed]",
      "text/plain": [
       "<Figure size 300x220 with 1 Axes>"
      ]
     },
     "metadata": {},
     "output_type": "display_data"
    }
   ],
   "source": [
    "fig = __calc_and_plot_small()\n",
    "plt.savefig(f'./to_paper/evs_bulk_flow_L_z0.10.pdf', bbox_inches='tight')   # save the figure\n",
    "plt.show()"
   ]
  },
  {
   "cell_type": "markdown",
   "metadata": {},
   "source": [
    "## Ysz-T\n",
    "z = 0.07, 0.10"
   ]
  },
  {
   "cell_type": "code",
   "execution_count": 16,
   "metadata": {},
   "outputs": [
    {
     "name": "stderr",
     "output_type": "stream",
     "text": [
      "/tmp/ipykernel_3330644/1489050425.py:6: UserWarning: Boolean Series key will be reindexed to match DataFrame index.\n",
      "  seg = data[zmask][data['scaling_relation'] == 'YSZ-T'][['ubf', 'ubf_err_lower']]\n"
     ]
    }
   ],
   "source": [
    "# Load the data\n",
    "data = pd.read_csv('../data/analysis_all/bf_mc_all.csv')\n",
    "\n",
    "# Filter data for zmax = 0.07\n",
    "zmask = data['zmax'] == 0.07\n",
    "seg = data[zmask][data['scaling_relation'] == 'YSZ-T'][['ubf', 'ubf_err_lower']]\n",
    "\n",
    "# Calculate the projection values\n",
    "x = seg['ubf'].values - seg['ubf_err_lower'].values\n",
    "\n",
    "# Define the target value\n",
    "target_value = 1060 - 390"
   ]
  },
  {
   "cell_type": "code",
   "execution_count": 18,
   "metadata": {},
   "outputs": [
    {
     "name": "stdout",
     "output_type": "stream",
     "text": [
      "Number of std deviation: p=0\\,(9\\sigma)\n",
      "EVT p-value: p=3.23e-06\\,(4.66\\sigma)\n"
     ]
    },
    {
     "data": {
      "image/png": "[encoded data removed]",
      "text/plain": [
       "<Figure size 300x220 with 1 Axes>"
      ]
     },
     "metadata": {},
     "output_type": "display_data"
    }
   ],
   "source": [
    "fig = __calc_and_plot_small()\n",
    "plt.savefig(f'./to_paper/evs_bulk_flow_Y_z0.07.pdf', bbox_inches='tight')   # save the figure\n",
    "plt.show()"
   ]
  },
  {
   "cell_type": "code",
   "execution_count": 19,
   "metadata": {},
   "outputs": [
    {
     "name": "stderr",
     "output_type": "stream",
     "text": [
      "/tmp/ipykernel_3330644/866662658.py:6: UserWarning: Boolean Series key will be reindexed to match DataFrame index.\n",
      "  seg = data[zmask][data['scaling_relation'] == 'YSZ-T'][['ubf', 'ubf_err_lower']]\n"
     ]
    }
   ],
   "source": [
    "# Load the data\n",
    "data = pd.read_csv('../data/analysis_all/bf_mc_all.csv')\n",
    "\n",
    "# Filter data for zmax = 0.10\n",
    "zmask = data['zmax'] == 0.10\n",
    "seg = data[zmask][data['scaling_relation'] == 'YSZ-T'][['ubf', 'ubf_err_lower']]\n",
    "\n",
    "# Calculate the projection values\n",
    "x = seg['ubf'].values - seg['ubf_err_lower'].values\n",
    "\n",
    "# Define the target value\n",
    "target_value = 1020 - 380"
   ]
  },
  {
   "cell_type": "code",
   "execution_count": 21,
   "metadata": {},
   "outputs": [
    {
     "name": "stdout",
     "output_type": "stream",
     "text": [
      "Number of std deviation: p=0\\,(8.8\\sigma)\n",
      "EVT p-value: p=3.45e-06\\,(4.64\\sigma)\n"
     ]
    },
    {
     "data": {
      "image/png": "[encoded data removed]",
      "text/plain": [
       "<Figure size 300x220 with 1 Axes>"
      ]
     },
     "metadata": {},
     "output_type": "display_data"
    }
   ],
   "source": [
    "fig = __calc_and_plot_small()\n",
    "plt.savefig(f'./to_paper/evs_bulk_flow_Y_z0.10.pdf', bbox_inches='tight')   # save the figure\n",
    "plt.show()"
   ]
  },
  {
   "cell_type": "markdown",
   "metadata": {},
   "source": [
    "## Joint of LT, YT"
   ]
  },
  {
   "cell_type": "code",
   "execution_count": 35,
   "metadata": {},
   "outputs": [
    {
     "name": "stderr",
     "output_type": "stream",
     "text": [
      "/tmp/ipykernel_728723/2125801755.py:6: UserWarning: Boolean Series key will be reindexed to match DataFrame index.\n",
      "  uLT = data[zmask][data['scaling_relation'] == 'LX-T'][['Lightcone', 'ubf', 'ubf_err_lower', 'vlat', 'vlon']]\n",
      "/tmp/ipykernel_728723/2125801755.py:7: UserWarning: Boolean Series key will be reindexed to match DataFrame index.\n",
      "  uYT = data[zmask][data['scaling_relation'] == 'YSZ-T'][['Lightcone', 'ubf', 'ubf_err_lower', 'vlat', 'vlon']]\n"
     ]
    }
   ],
   "source": [
    "# Load the data\n",
    "data = pd.read_csv('../data/analysis_all/bf_mc_all.csv')\n",
    "\n",
    "# Filter data for zmax = 0.07\n",
    "zmask = data['zmax'] == 0.07\n",
    "uLT = data[zmask][data['scaling_relation'] == 'LX-T'][['Lightcone', 'ubf', 'ubf_err_lower', 'vlat', 'vlon']]\n",
    "uYT = data[zmask][data['scaling_relation'] == 'YSZ-T'][['Lightcone', 'ubf', 'ubf_err_lower', 'vlat', 'vlon']]\n",
    "\n",
    "# Merge the data on Lightcone\n",
    "u = pd.merge(left=uLT, right=uYT, on='Lightcone', suffixes=('_LT', '_YT'))\n",
    "\n",
    "# Calculate the projection values\n",
    "theta = cf.angular_separation(u['vlon_LT'].values, u['vlat_LT'].values,\n",
    "    u['vlon_YT'].values, u['vlon_YT'].values) * np.pi/180\n",
    "x = (u['ubf_LT'].values - u['ubf_err_lower_LT'].values) * np.cos(theta / 2) +\\\n",
    "    (u['ubf_YT'].values - u['ubf_err_lower_YT'].values) * np.cos(theta / 2)\n",
    "x /= 2\n",
    "\n",
    "# Define the target value\n",
    "th = cf.angular_separation(318, -5, 254, -17) * np.pi/180\n",
    "target_value = (1100 - 410) * np.cos(th / 2) + (1060 - 390) * np.cos(th / 2)\n",
    "target_value /= 2"
   ]
  },
  {
   "cell_type": "code",
   "execution_count": 36,
   "metadata": {},
   "outputs": [
    {
     "name": "stdout",
     "output_type": "stream",
     "text": [
      "Number of std deviation: p=7.29e-10\\,(6.16\\sigma)\n",
      "EVT p-value: p=5.04e-05\\,(4.05\\sigma)\n"
     ]
    },
    {
     "data": {
      "image/png": "[encoded data removed]",
      "text/plain": [
       "<Figure size 500x300 with 1 Axes>"
      ]
     },
     "metadata": {},
     "output_type": "display_data"
    }
   ],
   "source": [
    "fig = __calc_and_plot()\n",
    "plt.xlabel(r'$x=|\\vec{x}_{LT} + \\vec{x}_{YT}|/2$')\n",
    "plt.savefig(f'./to_paper/evs_bulk_flow_joint_z0.07.pdf', bbox_inches='tight')   # save the figure\n",
    "plt.show()"
   ]
  },
  {
   "cell_type": "markdown",
   "metadata": {},
   "source": [
    "## Joint of LT YT"
   ]
  },
  {
   "cell_type": "code",
   "execution_count": 37,
   "metadata": {},
   "outputs": [
    {
     "name": "stderr",
     "output_type": "stream",
     "text": [
      "/tmp/ipykernel_728723/738459133.py:8: UserWarning: Boolean Series key will be reindexed to match DataFrame index.\n",
      "  uLT = data[zmask][data['scaling_relation'] == 'LX-T'][['Lightcone', 'ubf', 'ubf_err_lower', 'vlat', 'vlon']]\n",
      "/tmp/ipykernel_728723/738459133.py:9: UserWarning: Boolean Series key will be reindexed to match DataFrame index.\n",
      "  uYT = data[zmask][data['scaling_relation'] == 'YSZ-T'][['Lightcone', 'ubf', 'ubf_err_lower', 'vlat', 'vlon']]\n"
     ]
    }
   ],
   "source": [
    "import pandas as pd\n",
    "\n",
    "# Load the data\n",
    "data = pd.read_csv('../data/analysis_all/bf_mc_all.csv')\n",
    "\n",
    "# Filter data for zmax = 0.10\n",
    "zmask = data['zmax'] == 0.10\n",
    "uLT = data[zmask][data['scaling_relation'] == 'LX-T'][['Lightcone', 'ubf', 'ubf_err_lower', 'vlat', 'vlon']]\n",
    "uYT = data[zmask][data['scaling_relation'] == 'YSZ-T'][['Lightcone', 'ubf', 'ubf_err_lower', 'vlat', 'vlon']]\n",
    "\n",
    "# Merge the data on Lightcone\n",
    "u = pd.merge(left=uLT, right=uYT, on='Lightcone', suffixes=('_LT', '_YT'))\n",
    "\n",
    "# Calculate the projection values\n",
    "theta = cf.angular_separation(u['vlon_LT'].values, u['vlat_LT'].values,\n",
    "    u['vlon_YT'].values, u['vlon_YT'].values) * np.pi/180\n",
    "x = (u['ubf_LT'].values - u['ubf_err_lower_LT'].values) * np.cos(theta / 2) +\\\n",
    "    (u['ubf_YT'].values - u['ubf_err_lower_YT'].values) * np.cos(theta / 2)\n",
    "x /= 2\n",
    "\n",
    "# Define the target value\n",
    "th = cf.angular_separation(257, -28, 322, -13) * np.pi/180\n",
    "target_value = (1080-380) * np.cos(th / 2) + (1020-380) * np.cos(th / 2)\n",
    "target_value /= 2"
   ]
  },
  {
   "cell_type": "code",
   "execution_count": 38,
   "metadata": {},
   "outputs": [
    {
     "name": "stdout",
     "output_type": "stream",
     "text": [
      "Number of std deviation: p=1.18e-09\\,(6.08\\sigma)\n",
      "EVT p-value: p=4.5e-05\\,(4.08\\sigma)\n"
     ]
    },
    {
     "data": {
      "image/png": "[encoded data removed]",
      "text/plain": [
       "<Figure size 500x300 with 1 Axes>"
      ]
     },
     "metadata": {},
     "output_type": "display_data"
    }
   ],
   "source": [
    "fig = __calc_and_plot()\n",
    "plt.xlabel(r'$x=|\\vec{x}_{LT} + \\vec{x}_{YT}|/2$')\n",
    "plt.savefig(f'./to_paper/evs_bulk_flow_joint_z0.10.pdf', bbox_inches='tight')   # save the figure\n",
    "plt.show()"
   ]
  }
 ],
 "metadata": {
  "kernelspec": {
   "display_name": "base",
   "language": "python",
   "name": "python3"
  },
  "language_info": {
   "codemirror_mode": {
    "name": "ipython",
    "version": 3
   },
   "file_extension": ".py",
   "mimetype": "text/x-python",
   "name": "python",
   "nbconvert_exporter": "python",
   "pygments_lexer": "ipython3",
   "version": "3.8.13"
  }
 },
 "nbformat": 4,
 "nbformat_minor": 2
}
