{
 "cells": [
  {
   "cell_type": "markdown",
   "metadata": {},
   "source": [
    "## H0 variation distribution"
   ]
  },
  {
   "cell_type": "code",
   "execution_count": null,
   "metadata": {},
   "outputs": [
    {
     "data": {
      "text/html": [
       "<div>\n",
       "<style scoped>\n",
       "    .dataframe tbody tr th:only-of-type {\n",
       "        vertical-align: middle;\n",
       "    }\n",
       "\n",
       "    .dataframe tbody tr th {\n",
       "        vertical-align: top;\n",
       "    }\n",
       "\n",
       "    .dataframe thead th {\n",
       "        text-align: right;\n",
       "    }\n",
       "</style>\n",
       "<table border=\"1\" class=\"dataframe\">\n",
       "  <thead>\n",
       "    <tr style=\"text-align: right;\">\n",
       "      <th></th>\n",
       "      <th>scaling_relation</th>\n",
       "      <th>delta</th>\n",
       "      <th>delta_err_lower</th>\n",
       "      <th>delta_err_upper</th>\n",
       "      <th>vlon</th>\n",
       "      <th>vlon_err_lower</th>\n",
       "      <th>vlon_err_upper</th>\n",
       "      <th>vlat</th>\n",
       "      <th>vlat_err_lower</th>\n",
       "      <th>vlat_err_upper</th>\n",
       "      <th>convergence_time</th>\n",
       "      <th>Lightcone</th>\n",
       "    </tr>\n",
       "  </thead>\n",
       "  <tbody>\n",
       "    <tr>\n",
       "      <th>0</th>\n",
       "      <td>LX-T</td>\n",
       "      <td>0.051478</td>\n",
       "      <td>0.026773</td>\n",
       "      <td>0.024320</td>\n",
       "      <td>-36.814270</td>\n",
       "      <td>25.743256</td>\n",
       "      <td>25.781460</td>\n",
       "      <td>-5.629965</td>\n",
       "      <td>19.201167</td>\n",
       "      <td>19.375119</td>\n",
       "      <td>83.799752</td>\n",
       "      <td>0</td>\n",
       "    </tr>\n",
       "    <tr>\n",
       "      <th>1</th>\n",
       "      <td>YSZ-T</td>\n",
       "      <td>0.008453</td>\n",
       "      <td>0.006057</td>\n",
       "      <td>0.009266</td>\n",
       "      <td>-11.931791</td>\n",
       "      <td>122.668007</td>\n",
       "      <td>123.395545</td>\n",
       "      <td>8.686024</td>\n",
       "      <td>61.455366</td>\n",
       "      <td>52.439676</td>\n",
       "      <td>113.786199</td>\n",
       "      <td>0</td>\n",
       "    </tr>\n",
       "    <tr>\n",
       "      <th>2</th>\n",
       "      <td>M-T</td>\n",
       "      <td>0.018946</td>\n",
       "      <td>0.010379</td>\n",
       "      <td>0.009464</td>\n",
       "      <td>-47.934578</td>\n",
       "      <td>54.477459</td>\n",
       "      <td>23.643786</td>\n",
       "      <td>-9.127943</td>\n",
       "      <td>20.471309</td>\n",
       "      <td>19.154077</td>\n",
       "      <td>85.803819</td>\n",
       "      <td>0</td>\n",
       "    </tr>\n",
       "    <tr>\n",
       "      <th>3</th>\n",
       "      <td>LX-T</td>\n",
       "      <td>0.024499</td>\n",
       "      <td>0.016091</td>\n",
       "      <td>0.016149</td>\n",
       "      <td>24.012234</td>\n",
       "      <td>132.800369</td>\n",
       "      <td>78.256304</td>\n",
       "      <td>50.750909</td>\n",
       "      <td>38.547395</td>\n",
       "      <td>26.389144</td>\n",
       "      <td>98.726141</td>\n",
       "      <td>1</td>\n",
       "    </tr>\n",
       "    <tr>\n",
       "      <th>4</th>\n",
       "      <td>YSZ-T</td>\n",
       "      <td>0.014675</td>\n",
       "      <td>0.010457</td>\n",
       "      <td>0.014921</td>\n",
       "      <td>155.954038</td>\n",
       "      <td>69.778701</td>\n",
       "      <td>59.460471</td>\n",
       "      <td>-9.438602</td>\n",
       "      <td>41.266397</td>\n",
       "      <td>44.389658</td>\n",
       "      <td>0.000000</td>\n",
       "      <td>1</td>\n",
       "    </tr>\n",
       "    <tr>\n",
       "      <th>...</th>\n",
       "      <td>...</td>\n",
       "      <td>...</td>\n",
       "      <td>...</td>\n",
       "      <td>...</td>\n",
       "      <td>...</td>\n",
       "      <td>...</td>\n",
       "      <td>...</td>\n",
       "      <td>...</td>\n",
       "      <td>...</td>\n",
       "      <td>...</td>\n",
       "      <td>...</td>\n",
       "      <td>...</td>\n",
       "    </tr>\n",
       "    <tr>\n",
       "      <th>5179</th>\n",
       "      <td>YSZ-T</td>\n",
       "      <td>0.017649</td>\n",
       "      <td>0.011627</td>\n",
       "      <td>0.013258</td>\n",
       "      <td>-131.964835</td>\n",
       "      <td>106.074617</td>\n",
       "      <td>87.536637</td>\n",
       "      <td>49.701282</td>\n",
       "      <td>41.492482</td>\n",
       "      <td>28.185392</td>\n",
       "      <td>116.876600</td>\n",
       "      <td>1726</td>\n",
       "    </tr>\n",
       "    <tr>\n",
       "      <th>5180</th>\n",
       "      <td>M-T</td>\n",
       "      <td>0.014094</td>\n",
       "      <td>0.008485</td>\n",
       "      <td>0.008828</td>\n",
       "      <td>-155.982213</td>\n",
       "      <td>52.078837</td>\n",
       "      <td>37.883957</td>\n",
       "      <td>32.934244</td>\n",
       "      <td>25.988433</td>\n",
       "      <td>30.869372</td>\n",
       "      <td>0.000000</td>\n",
       "      <td>1726</td>\n",
       "    </tr>\n",
       "    <tr>\n",
       "      <th>5181</th>\n",
       "      <td>LX-T</td>\n",
       "      <td>0.012760</td>\n",
       "      <td>0.008852</td>\n",
       "      <td>0.013662</td>\n",
       "      <td>-47.989895</td>\n",
       "      <td>104.981497</td>\n",
       "      <td>113.132920</td>\n",
       "      <td>14.615909</td>\n",
       "      <td>62.118508</td>\n",
       "      <td>48.765075</td>\n",
       "      <td>103.617801</td>\n",
       "      <td>1727</td>\n",
       "    </tr>\n",
       "    <tr>\n",
       "      <th>5182</th>\n",
       "      <td>YSZ-T</td>\n",
       "      <td>0.012569</td>\n",
       "      <td>0.008672</td>\n",
       "      <td>0.014888</td>\n",
       "      <td>143.930854</td>\n",
       "      <td>90.622174</td>\n",
       "      <td>70.229453</td>\n",
       "      <td>1.671946</td>\n",
       "      <td>48.109396</td>\n",
       "      <td>47.843337</td>\n",
       "      <td>153.048511</td>\n",
       "      <td>1727</td>\n",
       "    </tr>\n",
       "    <tr>\n",
       "      <th>5183</th>\n",
       "      <td>M-T</td>\n",
       "      <td>0.005691</td>\n",
       "      <td>0.003999</td>\n",
       "      <td>0.006241</td>\n",
       "      <td>71.993680</td>\n",
       "      <td>132.057227</td>\n",
       "      <td>104.607428</td>\n",
       "      <td>28.587651</td>\n",
       "      <td>58.053082</td>\n",
       "      <td>42.232326</td>\n",
       "      <td>115.778677</td>\n",
       "      <td>1727</td>\n",
       "    </tr>\n",
       "  </tbody>\n",
       "</table>\n",
       "<p>5184 rows × 12 columns</p>\n",
       "</div>"
      ],
      "text/plain": [
       "     scaling_relation     delta  delta_err_lower  delta_err_upper        vlon  \\\n",
       "0                LX-T  0.051478         0.026773         0.024320  -36.814270   \n",
       "1               YSZ-T  0.008453         0.006057         0.009266  -11.931791   \n",
       "2                 M-T  0.018946         0.010379         0.009464  -47.934578   \n",
       "3                LX-T  0.024499         0.016091         0.016149   24.012234   \n",
       "4               YSZ-T  0.014675         0.010457         0.014921  155.954038   \n",
       "...               ...       ...              ...              ...         ...   \n",
       "5179            YSZ-T  0.017649         0.011627         0.013258 -131.964835   \n",
       "5180              M-T  0.014094         0.008485         0.008828 -155.982213   \n",
       "5181             LX-T  0.012760         0.008852         0.013662  -47.989895   \n",
       "5182            YSZ-T  0.012569         0.008672         0.014888  143.930854   \n",
       "5183              M-T  0.005691         0.003999         0.006241   71.993680   \n",
       "\n",
       "      vlon_err_lower  vlon_err_upper       vlat  vlat_err_lower  \\\n",
       "0          25.743256       25.781460  -5.629965       19.201167   \n",
       "1         122.668007      123.395545   8.686024       61.455366   \n",
       "2          54.477459       23.643786  -9.127943       20.471309   \n",
       "3         132.800369       78.256304  50.750909       38.547395   \n",
       "4          69.778701       59.460471  -9.438602       41.266397   \n",
       "...              ...             ...        ...             ...   \n",
       "5179      106.074617       87.536637  49.701282       41.492482   \n",
       "5180       52.078837       37.883957  32.934244       25.988433   \n",
       "5181      104.981497      113.132920  14.615909       62.118508   \n",
       "5182       90.622174       70.229453   1.671946       48.109396   \n",
       "5183      132.057227      104.607428  28.587651       58.053082   \n",
       "\n",
       "      vlat_err_upper  convergence_time  Lightcone  \n",
       "0          19.375119         83.799752          0  \n",
       "1          52.439676        113.786199          0  \n",
       "2          19.154077         85.803819          0  \n",
       "3          26.389144         98.726141          1  \n",
       "4          44.389658          0.000000          1  \n",
       "...              ...               ...        ...  \n",
       "5179       28.185392        116.876600       1726  \n",
       "5180       30.869372          0.000000       1726  \n",
       "5181       48.765075        103.617801       1727  \n",
       "5182       47.843337        153.048511       1727  \n",
       "5183       42.232326        115.778677       1727  \n",
       "\n",
       "[5184 rows x 12 columns]"
      ]
     },
     "execution_count": 1,
     "metadata": {},
     "output_type": "execute_result"
    }
   ],
   "source": [
    "import os\n",
    "import pandas as pd\n",
    "import numpy as np\n",
    "data_dir = '/cosma8/data/do012/dc-he4/analysis'\n",
    "\n",
    "\n",
    "\n",
    "dict = {}\n",
    "for lc in range(1728):\n",
    "    lc00 = f'{lc:04d}'\n",
    "\n",
    "    filename = f'{data_dir}/lc{lc00}/h0_mcmc.csv'\n",
    "\n",
    "    # check if file exists\n",
    "    if os.path.exists(filename):\n",
    "        df = pd.read_csv(filename)\n",
    "\n",
    "        # save to df\n",
    "        if 'delta' not in list(dict.keys()):  # dict.keys() is of type dict_keys\n",
    "            for key in df.keys():           # load all data\n",
    "                dict[key] = df[key]\n",
    "\n",
    "            length = len(df[key])           # register lightcone number\n",
    "            dict['Lightcone'] = np.full(length, lc)\n",
    "        else:\n",
    "            for key in df.keys():           # load all data\n",
    "                dict[key] = np.concatenate((dict[key], df[key]))\n",
    "\n",
    "            length = len(df[key])           # register lightcone number\n",
    "            dict['Lightcone'] = np.concatenate((dict['Lightcone'], np.full(length, lc)))\n",
    "\n",
    "    else:\n",
    "        print(lc00, 'h0_mcmc.csv not found.')\n",
    "        continue\n",
    "    \n",
    "data = pd.DataFrame(dict)\n",
    "# data.to_csv('../data/analysis_all/h0_mc_all.csv')\n",
    "data"
   ]
  },
  {
   "cell_type": "code",
   "execution_count": 1,
   "metadata": {},
   "outputs": [
    {
     "name": "stdout",
     "output_type": "stream",
     "text": [
      "1728\n",
      "1728\n",
      "1728\n"
     ]
    }
   ],
   "source": [
    "import os\n",
    "import pandas as pd\n",
    "import numpy as np\n",
    "data_dir = '/cosma8/data/do012/dc-he4/analysis'\n",
    "\n",
    "h0_vari = np.array([])\n",
    "n_sigma = np.array([])\n",
    "relations = []\n",
    "for relation, relation_name in zip(['LX-T', 'YSZ-T', 'M-T'], \n",
    "                                   ['$L_\\\\mathrm{{X}}-T$',\n",
    "                                    '$Y_\\\\mathrm{{SZ}}-T$',\n",
    "                                    '$M_\\\\mathrm{{gas}}-T$']):\n",
    "    delta_list = []\n",
    "    delta_err_low_list = []\n",
    "    for lc in range(1728):\n",
    "        lc00 = f'{lc:04d}'\n",
    "\n",
    "        filename = f'{data_dir}/lc{lc00}/h0_mcmc.csv'\n",
    "\n",
    "        if os.path.exists(filename):\n",
    "\n",
    "            df = pd.read_csv(filename)\n",
    "            delta = df[df['scaling_relation']==relation]['delta'].values[0]\n",
    "            delta_err_low = df[df['scaling_relation']==relation]['delta_err_lower'].values[0]\n",
    "            delta_list.append(delta)\n",
    "            delta_err_low_list.append(delta_err_low)\n",
    "        else:\n",
    "            continue\n",
    "\n",
    "    h0_variation = 2 * np.array(delta_list)\n",
    "    significance = np.array(delta_list) / np.array(delta_err_low_list)\n",
    "    print(len(significance))\n",
    "\n",
    "    h0_vari = np.concatenate((h0_vari, h0_variation))\n",
    "    n_sigma = np.concatenate((n_sigma, significance))\n",
    "    relations += [relation_name for i in range(len(significance))] "
   ]
  },
  {
   "cell_type": "code",
   "execution_count": null,
   "metadata": {},
   "outputs": [],
   "source": [
    "data = pd.DataFrame({\n",
    "    '$\\\\Delta H_0\\\\,(\\\\%)$': h0_vari * 100,\n",
    "    'Significance $(\\\\sigma)$': n_sigma,\n",
    "    'Relations': relations\n",
    "})\n",
    "# data.to_csv('/cosma/home/do012/dc-he4/anisotropy-flamingo/data/analysis_all/h0_mc_all.csv')\n",
    "    "
   ]
  },
  {
   "cell_type": "markdown",
   "metadata": {},
   "source": [
    "**To read & plot, start form this line.**"
   ]
  },
  {
   "cell_type": "code",
   "execution_count": 1,
   "metadata": {},
   "outputs": [],
   "source": [
    "# Read the data\n",
    "import pandas as pd\n",
    "data = pd.read_csv('/cosma/home/do012/dc-he4/anisotropy-flamingo/data/analysis_all/h0_mc_all.csv')"
   ]
  },
  {
   "cell_type": "code",
   "execution_count": null,
   "metadata": {},
   "outputs": [
    {
     "data": {
      "image/png": "[encoded data removed]",
      "text/plain": [
       "<Figure size 500x500 with 3 Axes>"
      ]
     },
     "metadata": {},
     "output_type": "display_data"
    }
   ],
   "source": [
    "import seaborn as sns\n",
    "import matplotlib.pyplot as plt\n",
    "import pandas as pd\n",
    "plt.style.use('./nice.mplstyle')\n",
    "\n",
    "# set y lim manually. The ylim argument in jointgrid stretch the histogram\n",
    "data = data[data['$\\\\Delta H_0\\\\,(\\\\%)$'] < 25]  \n",
    "\n",
    "colors = ['#348ABD', '#A60628', '#467821']\n",
    "sns.set_palette(colors)\n",
    "# Create the 2D KDE plot\n",
    "g = sns.JointGrid(data=data, \n",
    "                    x='Significance $(\\\\sigma)$',\n",
    "                    y='$\\\\Delta H_0\\\\,(\\\\%)$', \n",
    "                    hue='Relations',\n",
    "                    space=0,\n",
    "                    ratio=4,\n",
    "                    # marginal_ticks=True,\n",
    "                    height=5,\n",
    "                    # dpi=300\n",
    "                    xlim=(0.5, 4.0),\n",
    "                    ylim=(-2.8, 20),\n",
    "                    )\n",
    "\n",
    "# kde plot missing 3rd level contour if use g.plot_joint, for unknown reason\n",
    "for relation, color in zip(['$L_\\\\mathrm{{X}}-T$', '$Y_\\\\mathrm{{SZ}}-T$', '$M_\\\\mathrm{{gas}}-T$'], \n",
    "                            colors):\n",
    "    \n",
    "    sns.kdeplot(data=data[data['Relations'] == relation], \n",
    "                x='Significance $(\\\\sigma)$',\n",
    "                y='$\\\\Delta H_0\\\\,(\\\\%)$', \n",
    "                #hue='Relations',\n",
    "                color=color,\n",
    "                fill=False, \n",
    "                levels=(0.003, 0.05, 0.32, 1), # levels=(0.011, 0.14, 0.61, 1.),\n",
    "                #bw_adjust=4.5, # 3.2,\n",
    "                zorder=1,\n",
    "                ax=g.ax_joint\n",
    "                )\n",
    "    sns.kdeplot(data=data[data['Relations'] == relation], \n",
    "                x='Significance $(\\\\sigma)$',\n",
    "                y='$\\\\Delta H_0\\\\,(\\\\%)$', \n",
    "                #hue='Relations',\n",
    "                color=color,\n",
    "                fill=True, \n",
    "                levels=(0.003, 0.05, 0.32, 1), # levels=(0.011, 0.14, 0.61, 1.), # 3 sigma is 0.011\n",
    "                #bw_adjust=4.5, # 3.2,\n",
    "                zorder=2,\n",
    "                alpha=0.4,\n",
    "                ax=g.ax_joint,\n",
    "                )\n",
    "\n",
    "# plot marginal plots\n",
    "g.plot_marginals(sns.kdeplot,\n",
    "                fill=False\n",
    "                )\n",
    "\n",
    "# M21 results\n",
    "x_point = 2.4\n",
    "y_point = 8.7\n",
    "g.refline(x=x_point, y=y_point, linestyle='--', color='b', zorder=3)\n",
    "line0 = g.ax_joint.scatter(x_point, y_point, marker='o', color='b', s=50, linewidths=1 ,label='$L_\\\\mathrm{{X}}-T$', zorder=10)\n",
    "#g.ax_joint.axhspan(ymin=8.7-3.1, ymax=8.7+3.1, color='tab:blue', alpha=0.2, zorder=0)\n",
    "\n",
    "x_point = 2.6\n",
    "y_point = 14\n",
    "g.refline(x=x_point, y=y_point, linestyle='--', color='r', zorder=3)\n",
    "line1 = g.ax_joint.scatter(x_point, y_point, marker='o', color='r', s=50, linewidths=1 ,label='$Y_\\\\mathrm{{SZ}}-T$', zorder=10)\n",
    "#g.ax_joint.axhspan(ymin=14.0-3.4, ymax=14.0+3.4, color='tab:orange', alpha=0.2, zorder=0)\n",
    "\n",
    "# Also add the box for the marginal plots\n",
    "g.ax_marg_x.spines['top'].set_visible(True)\n",
    "g.ax_marg_x.spines['right'].set_visible(True)\n",
    "g.ax_marg_x.spines['left'].set_visible(True)\n",
    "g.ax_marg_x.spines['bottom'].set_visible(True)\n",
    "\n",
    "g.ax_marg_y.spines['top'].set_visible(True)\n",
    "g.ax_marg_y.spines['right'].set_visible(True)\n",
    "g.ax_marg_y.spines['left'].set_visible(True)\n",
    "g.ax_marg_y.spines['bottom'].set_visible(True)\n",
    "\n",
    "# # matplotlib doesn't detect the contour correctly, adding it manually\n",
    "# import matplotlib.patches as mpatches\n",
    "# contour = mpatches.Patch(color='tab:blue', label='$Y_\\\\mathrm{{SZ}}-T$')\n",
    "g.ax_marg_x.legend(handles=[line0, line1], title='Migkas+21', loc='upper right', bbox_to_anchor=(1,0), fontsize=9) # put right corner at 1,0\n",
    "\n",
    "#sns.move_legend(g.ax_joint, loc='upper right', bbox_to_anchor=(1.7, 0.75), title='FLAMINGO')\n",
    "from matplotlib.patches import Patch\n",
    "# Create custom legend for contours\n",
    "contour_legend_elements = [Patch(facecolor='#348ABD', edgecolor='#348ABD', label='$L_\\\\mathrm{X}-T$', alpha=0.5),\n",
    "                           Patch(facecolor='#A60628', edgecolor='#A60628', label='$Y_\\\\mathrm{SZ}-T$', alpha=0.5),\n",
    "                           Patch(facecolor='#467821', edgecolor='#467821', label='$M_\\\\mathrm{gas}-T$', alpha=0.5)]\n",
    "\n",
    "# Add the custom legend for contours\n",
    "g.ax_joint.legend(handles=contour_legend_elements, title='FLAMINGO', loc='upper left', fontsize=9)\n",
    "\n",
    "# plt.savefig('./to_paper/h0mc_hist_LTYTMT.pdf', bbox_inches='tight')\n",
    "# Show the plot\n",
    "plt.show()"
   ]
  },
  {
   "cell_type": "markdown",
   "metadata": {},
   "source": [
    "## Integrate inside the isodensity curves "
   ]
  },
  {
   "cell_type": "code",
   "execution_count": 1,
   "metadata": {},
   "outputs": [
    {
     "data": {
      "text/html": [
       "<div>\n",
       "<style scoped>\n",
       "    .dataframe tbody tr th:only-of-type {\n",
       "        vertical-align: middle;\n",
       "    }\n",
       "\n",
       "    .dataframe tbody tr th {\n",
       "        vertical-align: top;\n",
       "    }\n",
       "\n",
       "    .dataframe thead th {\n",
       "        text-align: right;\n",
       "    }\n",
       "</style>\n",
       "<table border=\"1\" class=\"dataframe\">\n",
       "  <thead>\n",
       "    <tr style=\"text-align: right;\">\n",
       "      <th></th>\n",
       "      <th>Unnamed: 0</th>\n",
       "      <th>$\\Delta H_0\\,(\\%)$</th>\n",
       "      <th>Significance $(\\sigma)$</th>\n",
       "      <th>Relations</th>\n",
       "    </tr>\n",
       "  </thead>\n",
       "  <tbody>\n",
       "    <tr>\n",
       "      <th>0</th>\n",
       "      <td>0</td>\n",
       "      <td>10.295630</td>\n",
       "      <td>1.922735</td>\n",
       "      <td>$L_\\mathrm{{X}}-T$</td>\n",
       "    </tr>\n",
       "    <tr>\n",
       "      <th>1</th>\n",
       "      <td>1</td>\n",
       "      <td>4.899787</td>\n",
       "      <td>1.522564</td>\n",
       "      <td>$L_\\mathrm{{X}}-T$</td>\n",
       "    </tr>\n",
       "    <tr>\n",
       "      <th>2</th>\n",
       "      <td>2</td>\n",
       "      <td>5.149678</td>\n",
       "      <td>1.492285</td>\n",
       "      <td>$L_\\mathrm{{X}}-T$</td>\n",
       "    </tr>\n",
       "    <tr>\n",
       "      <th>3</th>\n",
       "      <td>3</td>\n",
       "      <td>4.808609</td>\n",
       "      <td>1.526515</td>\n",
       "      <td>$L_\\mathrm{{X}}-T$</td>\n",
       "    </tr>\n",
       "    <tr>\n",
       "      <th>4</th>\n",
       "      <td>4</td>\n",
       "      <td>7.142180</td>\n",
       "      <td>1.535062</td>\n",
       "      <td>$L_\\mathrm{{X}}-T$</td>\n",
       "    </tr>\n",
       "    <tr>\n",
       "      <th>...</th>\n",
       "      <td>...</td>\n",
       "      <td>...</td>\n",
       "      <td>...</td>\n",
       "      <td>...</td>\n",
       "    </tr>\n",
       "    <tr>\n",
       "      <th>5179</th>\n",
       "      <td>5179</td>\n",
       "      <td>1.017320</td>\n",
       "      <td>1.437845</td>\n",
       "      <td>$M_\\mathrm{{gas}}-T$</td>\n",
       "    </tr>\n",
       "    <tr>\n",
       "      <th>5180</th>\n",
       "      <td>5180</td>\n",
       "      <td>1.173855</td>\n",
       "      <td>1.431109</td>\n",
       "      <td>$M_\\mathrm{{gas}}-T$</td>\n",
       "    </tr>\n",
       "    <tr>\n",
       "      <th>5181</th>\n",
       "      <td>5181</td>\n",
       "      <td>1.281169</td>\n",
       "      <td>1.415019</td>\n",
       "      <td>$M_\\mathrm{{gas}}-T$</td>\n",
       "    </tr>\n",
       "    <tr>\n",
       "      <th>5182</th>\n",
       "      <td>5182</td>\n",
       "      <td>2.818736</td>\n",
       "      <td>1.661044</td>\n",
       "      <td>$M_\\mathrm{{gas}}-T$</td>\n",
       "    </tr>\n",
       "    <tr>\n",
       "      <th>5183</th>\n",
       "      <td>5183</td>\n",
       "      <td>1.138298</td>\n",
       "      <td>1.423385</td>\n",
       "      <td>$M_\\mathrm{{gas}}-T$</td>\n",
       "    </tr>\n",
       "  </tbody>\n",
       "</table>\n",
       "<p>5184 rows × 4 columns</p>\n",
       "</div>"
      ],
      "text/plain": [
       "      Unnamed: 0  $\\Delta H_0\\,(\\%)$  Significance $(\\sigma)$  \\\n",
       "0              0           10.295630                 1.922735   \n",
       "1              1            4.899787                 1.522564   \n",
       "2              2            5.149678                 1.492285   \n",
       "3              3            4.808609                 1.526515   \n",
       "4              4            7.142180                 1.535062   \n",
       "...          ...                 ...                      ...   \n",
       "5179        5179            1.017320                 1.437845   \n",
       "5180        5180            1.173855                 1.431109   \n",
       "5181        5181            1.281169                 1.415019   \n",
       "5182        5182            2.818736                 1.661044   \n",
       "5183        5183            1.138298                 1.423385   \n",
       "\n",
       "                 Relations  \n",
       "0       $L_\\mathrm{{X}}-T$  \n",
       "1       $L_\\mathrm{{X}}-T$  \n",
       "2       $L_\\mathrm{{X}}-T$  \n",
       "3       $L_\\mathrm{{X}}-T$  \n",
       "4       $L_\\mathrm{{X}}-T$  \n",
       "...                    ...  \n",
       "5179  $M_\\mathrm{{gas}}-T$  \n",
       "5180  $M_\\mathrm{{gas}}-T$  \n",
       "5181  $M_\\mathrm{{gas}}-T$  \n",
       "5182  $M_\\mathrm{{gas}}-T$  \n",
       "5183  $M_\\mathrm{{gas}}-T$  \n",
       "\n",
       "[5184 rows x 4 columns]"
      ]
     },
     "execution_count": 1,
     "metadata": {},
     "output_type": "execute_result"
    }
   ],
   "source": [
    "# Read data\n",
    "import pandas as pd\n",
    "data = pd.read_csv('/cosma/home/do012/dc-he4/anisotropy-flamingo/data/analysis_all/h0_mc_all.csv')\n",
    "data"
   ]
  },
  {
   "cell_type": "markdown",
   "metadata": {},
   "source": [
    "First an intuitive understanding of the distribution of the points"
   ]
  },
  {
   "cell_type": "code",
   "execution_count": null,
   "metadata": {},
   "outputs": [
    {
     "name": "stdout",
     "output_type": "stream",
     "text": [
      "1724\n",
      "96\n",
      "42\n",
      "33\n"
     ]
    }
   ],
   "source": [
    "dataset = data[data['Relations']=='$L_\\\\mathrm{{X}}-T$'][['$\\Delta H_0\\,(\\%)$', 'Significance $(\\\\sigma)$']]\n",
    "column_name = ['$\\Delta H_0\\,(\\%)$', 'Significance $(\\\\sigma)$']\n",
    "\n",
    "print(len(dataset))\n",
    "print(np.sum(dataset[column_name[0]] > 8.7))\n",
    "print(np.sum(dataset[column_name[1]] > 2.4))\n",
    "print(np.sum((dataset[column_name[0]] > 8.7) & (dataset[column_name[1]] > 2.4)))"
   ]
  },
  {
   "cell_type": "markdown",
   "metadata": {},
   "source": [
    "## Integrate the KDEs"
   ]
  },
  {
   "cell_type": "code",
   "execution_count": null,
   "metadata": {},
   "outputs": [
    {
     "name": "stdout",
     "output_type": "stream",
     "text": [
      "(2, 1728)\n",
      "(500, 500)\n",
      "1.0000000000001623\n",
      "1.0000000000001623 1.850079489701466e-43\n",
      "-1.6231460620019789e-13\n"
     ]
    }
   ],
   "source": [
    "# Ysz-T\n",
    "dataset = data[data['Relations']=='$Y_\\\\mathrm{{SZ}}-T$'][['$\\Delta H_0\\,(\\%)$', 'Significance $(\\\\sigma)$']]\n",
    "\n",
    "import numpy as np\n",
    "import scipy.stats as stats\n",
    "# gaussian KDE at the point of interest\n",
    "print(dataset.T.values.shape)\n",
    "kde = stats.gaussian_kde(dataset.T.values)\n",
    "\n",
    "x_grid = np.linspace(-20, 40, 500) # delta H0\n",
    "y_grid = np.linspace(-10, 20, 500)  # significance\n",
    "X, Y = np.meshgrid(x_grid, y_grid)\n",
    "positions = np.vstack([X.ravel(), Y.ravel()])\n",
    "Z = kde(positions).reshape(X.shape)\n",
    "print(Z.shape)\n",
    "# print(Z)\n",
    "\n",
    "# find probability mass above the point of interest\n",
    "point = np.array([14, 2.6])\n",
    "prob = kde(point)*(x_grid[1]-x_grid[0])*(y_grid[1]-y_grid[0])\n",
    "prob_mass = Z*(x_grid[1]-x_grid[0])*(y_grid[1]-y_grid[0]) # probability mass in each bin\n",
    "prob_above = np.sum(prob_mass[prob_mass > prob])\n",
    "prob_below = np.sum(prob_mass[prob_mass < prob])\n",
    "print(np.sum(prob_mass))\n",
    "print(prob_above, prob_below)\n",
    "print('p-value =',1 - prob_above)"
   ]
  },
  {
   "cell_type": "code",
   "execution_count": 5,
   "metadata": {},
   "outputs": [
    {
     "name": "stdout",
     "output_type": "stream",
     "text": [
      "(2, 1728)\n",
      "(500, 500)\n",
      "1.0000000000000075\n",
      "0.9450936624386092 0.0549063375613984\n",
      "p-value = 0.05490633756139085\n"
     ]
    }
   ],
   "source": [
    "# Lx-T\n",
    "dataset = data[data['Relations']=='$L_\\\\mathrm{{X}}-T$'][['$\\Delta H_0\\,(\\%)$', 'Significance $(\\\\sigma)$']]\n",
    "\n",
    "import scipy.stats as stats\n",
    "# gaussian KDE at the point of interest\n",
    "print(dataset.T.values.shape)\n",
    "kde = stats.gaussian_kde(dataset.T.values)\n",
    "\n",
    "x_grid = np.linspace(-15, 40, 500) # delta H0\n",
    "y_grid = np.linspace(-10, 20, 500)  # significance\n",
    "X, Y = np.meshgrid(x_grid, y_grid)\n",
    "positions = np.vstack([X.ravel(), Y.ravel()])\n",
    "Z = kde(positions).reshape(X.shape)\n",
    "print(Z.shape)\n",
    "# print(Z)\n",
    "\n",
    "# find probability mass above the point of interest\n",
    "point = np.array([8.7, 2.4])\n",
    "prob = kde(point)*(x_grid[1]-x_grid[0])*(y_grid[1]-y_grid[0])\n",
    "prob_mass = Z*(x_grid[1]-x_grid[0])*(y_grid[1]-y_grid[0]) # probability mass in each bin\n",
    "prob_above = np.sum(prob_mass[prob_mass > prob])\n",
    "prob_below = np.sum(prob_mass[prob_mass < prob])\n",
    "print(np.sum(prob_mass))\n",
    "print(prob_above, prob_below)\n",
    "print('p-value =', 1 - prob_above)"
   ]
  },
  {
   "cell_type": "code",
   "execution_count": null,
   "metadata": {},
   "outputs": [
    {
     "name": "stdout",
     "output_type": "stream",
     "text": [
      "0.6065306597126334\n"
     ]
    }
   ],
   "source": [
    "# solve for 1 sigma\n",
    "n_sigma = 1\n",
    "p = np.exp(-n_sigma**2*0.5)\n",
    "print(p)"
   ]
  },
  {
   "cell_type": "code",
   "execution_count": null,
   "metadata": {},
   "outputs": [
    {
     "name": "stdout",
     "output_type": "stream",
     "text": [
      "[2.37789911 5.54235294]\n"
     ]
    }
   ],
   "source": [
    "# given p, find the n_sigma\n",
    "p = np.array([0.05917819788745993, 2.1366893399044073e-07])\n",
    "n_sigma = np.sqrt(-2*np.log(p))\n",
    "print(n_sigma)"
   ]
  },
  {
   "cell_type": "code",
   "execution_count": 29,
   "metadata": {},
   "outputs": [
    {
     "data": {
      "text/plain": [
       "3.35464496885142"
      ]
     },
     "execution_count": 29,
     "metadata": {},
     "output_type": "execute_result"
    }
   ],
   "source": [
    "np.sqrt(-2*np.log(0.0036))"
   ]
  },
  {
   "cell_type": "markdown",
   "metadata": {},
   "source": [
    "## The Mahal.. distance"
   ]
  },
  {
   "cell_type": "code",
   "execution_count": 23,
   "metadata": {},
   "outputs": [
    {
     "name": "stdout",
     "output_type": "stream",
     "text": [
      "8.155155869125982\n"
     ]
    }
   ],
   "source": [
    "# Importing libraries \n",
    "\n",
    "import numpy as np \n",
    "import pandas as pd \n",
    "import scipy as stats \n",
    "from scipy.stats import chi2 \n",
    "\n",
    "df = data[data['Relations'] == '$Y_\\mathrm{{SZ}}-T$']\n",
    "\n",
    "# calculateMahalanobis Function to calculate \n",
    "# the Mahalanobis distance \n",
    "def calculateMahalanobis(y=None, data=None, cov=None): \n",
    "\n",
    "\ty_mu = y - np.mean(data, axis=0) \n",
    "\tif not cov: \n",
    "\t\tcov = np.cov(data.values.T) \n",
    "\tinv_covmat = np.linalg.inv(cov) \n",
    "\tleft = np.dot(y_mu, inv_covmat) \n",
    "\tmahal = np.dot(left, y_mu.T) \n",
    "\treturn mahal \n",
    "\n",
    "# Creating a new column in the dataframe that holds \n",
    "# the Mahalanobis distance for each row \n",
    "distance2 = calculateMahalanobis(y=np.array([14, 2.6]), data=df[['$\\Delta H_0\\,(\\%)$', 'Significance $(\\sigma)$']])\n",
    "print(distance2**0.5)"
   ]
  },
  {
   "cell_type": "code",
   "execution_count": 27,
   "metadata": {},
   "outputs": [
    {
     "name": "stdout",
     "output_type": "stream",
     "text": [
      "EVT-based p-value: 0.0036347067729071147\n",
      "Mahalanobis-based p-value: 3.6637359812630166e-15\n"
     ]
    }
   ],
   "source": [
    "from scipy.stats import genpareto\n",
    "import numpy as np\n",
    "import pandas as pd\n",
    "\n",
    "df = data[data['Relations'] == '$Y_\\mathrm{{SZ}}-T$']\n",
    "\n",
    "# Define center as the mean of the data\n",
    "center = df[['$\\Delta H_0\\,(\\%)$', 'Significance $(\\sigma)$']].mean().values\n",
    "target_point = np.array([14, 2.6])\n",
    "\n",
    "# Calculate the Euclidean distance of the target point to the center\n",
    "new_point_distance = np.linalg.norm(target_point - center)\n",
    "\n",
    "# Calculate distances of all points in the dataset to the center\n",
    "distances = np.linalg.norm(df[['$\\Delta H_0\\,(\\%)$', 'Significance $(\\sigma)$']].values - center, axis=1)\n",
    "\n",
    "# Set a high threshold for fitting, such as the 95th percentile\n",
    "threshold = np.percentile(distances, 95)\n",
    "exceedances = distances[distances > threshold] - threshold  # Focus on the tail (exceedances above threshold)\n",
    "\n",
    "# Fit a Generalized Pareto Distribution (GPD) to the exceedances\n",
    "params = genpareto.fit(exceedances)\n",
    "\n",
    "# Calculate the distance of the target point to the center and its exceedance\n",
    "new_point_exceedance = new_point_distance - threshold\n",
    "# Estimate the probability of seeing a distance as extreme as the target point\n",
    "p_value_evt = 1 - genpareto.cdf(new_point_exceedance, *params)\n",
    "print(\"EVT-based p-value:\", p_value_evt)\n",
    "\n",
    "from scipy.stats import chi2\n",
    "\n",
    "# Calculate the covariance matrix and mean of the data\n",
    "cov_matrix = np.cov(df[['$\\Delta H_0\\,(\\%)$', 'Significance $(\\sigma)$']].values.T)\n",
    "mean_vector = center\n",
    "\n",
    "# Calculate the Mahalanobis distance squared for the target point\n",
    "delta = target_point - mean_vector\n",
    "mahalanobis_dist_sq = np.dot(delta.T, np.linalg.inv(cov_matrix)).dot(delta)\n",
    "\n",
    "# Calculate the p-value based on the chi-squared distribution with 2 degrees of freedom\n",
    "p_value_mahalanobis = 1 - chi2.cdf(mahalanobis_dist_sq, df=2)\n",
    "print(\"Mahalanobis-based p-value:\", p_value_mahalanobis)\n"
   ]
  },
  {
   "cell_type": "code",
   "execution_count": 28,
   "metadata": {},
   "outputs": [
    {
     "data": {
      "text/plain": [
       "8.155155869125982"
      ]
     },
     "execution_count": 28,
     "metadata": {},
     "output_type": "execute_result"
    }
   ],
   "source": [
    "mahalanobis_dist_sq**0.5"
   ]
  },
  {
   "cell_type": "code",
   "execution_count": 7,
   "metadata": {},
   "outputs": [
    {
     "name": "stdout",
     "output_type": "stream",
     "text": [
      "3.31716578163515\n"
     ]
    }
   ],
   "source": [
    "# Importing libraries \n",
    "\n",
    "import numpy as np \n",
    "import pandas as pd \n",
    "import scipy as stats \n",
    "from scipy.stats import chi2 \n",
    "\n",
    "df = data[data['Relations'] == '$L_\\mathrm{{X}}-T$']\n",
    "\n",
    "# calculateMahalanobis Function to calculate \n",
    "# the Mahalanobis distance \n",
    "def calculateMahalanobis(y=None, data=None, cov=None): \n",
    "\n",
    "\ty_mu = y - np.mean(data, axis=0) \n",
    "\tif not cov: \n",
    "\t\tcov = np.cov(data.values.T) \n",
    "\tinv_covmat = np.linalg.inv(cov) \n",
    "\tleft = np.dot(y_mu, inv_covmat) \n",
    "\tmahal = np.dot(left, y_mu.T) \n",
    "\treturn mahal \n",
    "\n",
    "# Creating a new column in the dataframe that holds \n",
    "# the Mahalanobis distance for each row \n",
    "distance2 = calculateMahalanobis(y=np.array([8.7, 2.4]).T, data=df[['$\\Delta H_0\\,(\\%)$', 'Significance $(\\sigma)$']])\n",
    "print(distance2**0.5)"
   ]
  },
  {
   "cell_type": "markdown",
   "metadata": {},
   "source": [
    "## Projection Persuit"
   ]
  },
  {
   "cell_type": "code",
   "execution_count": 4,
   "metadata": {},
   "outputs": [
    {
     "name": "stdout",
     "output_type": "stream",
     "text": [
      "Number of sigma standard deviations: 7.44589534947656\n",
      "Number of sigma 34th percentiles deviation: 6.717667710229379\n"
     ]
    }
   ],
   "source": [
    "import numpy as np\n",
    "\n",
    "df = data[data['Relations'] == '$Y_\\mathrm{{SZ}}-T$']\n",
    "\n",
    "# Calculate the mean or median of the dataset\n",
    "center = df[['$\\Delta H_0\\,(\\%)$', 'Significance $(\\sigma)$']].mean().values  # Use median if needed\n",
    "\n",
    "# Define the direction vector\n",
    "target_point = np.array([14, 2.6])\n",
    "direction_vector = target_point - center\n",
    "direction_vector /= np.linalg.norm(direction_vector)  # Normalize the direction vector\n",
    "\n",
    "# Project all points onto the direction vector\n",
    "data_points = df[['$\\Delta H_0\\,(\\%)$', 'Significance $(\\sigma)$']].values\n",
    "projections = np.dot(data_points - center, direction_vector)\n",
    "\n",
    "# Project the target point onto the direction vector\n",
    "target_projection = np.dot(target_point - center, direction_vector)\n",
    "\n",
    "# Calculate the mean and standard deviation of the projections\n",
    "mean_proj = np.mean(projections)\n",
    "std_proj = np.std(projections)\n",
    "\n",
    "# Compute the number of sigma deviations for the target point\n",
    "sigma_deviation = (target_projection - mean_proj) / std_proj\n",
    "print(f\"Number of sigma standard deviations: {sigma_deviation}\")\n",
    "\n",
    "\n",
    "# The deviation from +34 percentile?\n",
    "median_proj = np.median(projections)\n",
    "sigma_proj = np.percentile(projections, 84) - median_proj\n",
    "\n",
    "# Number of sigma deviation\n",
    "sigma_deviation = (target_projection - median_proj) / sigma_proj\n",
    "print(f'Number of sigma 34th percentiles deviation: {sigma_deviation}')"
   ]
  },
  {
   "cell_type": "code",
   "execution_count": 12,
   "metadata": {},
   "outputs": [
    {
     "data": {
      "image/png": "[encoded data removed]",
      "text/plain": [
       "<Figure size 640x480 with 1 Axes>"
      ]
     },
     "metadata": {},
     "output_type": "display_data"
    }
   ],
   "source": [
    "import seaborn as sns\n",
    "import matplotlib.pyplot as plt\n",
    "sns.kdeplot(projections)\n",
    "plt.axvline(median_proj)\n",
    "plt.axvline(median_proj + sigma_proj)\n",
    "plt.axvline(target_projection, color='r')\n",
    "plt.show()"
   ]
  },
  {
   "cell_type": "code",
   "execution_count": null,
   "metadata": {},
   "outputs": [
    {
     "name": "stdout",
     "output_type": "stream",
     "text": [
      "KDE peak (mode): [2.110063583689919, 1.4214719713024129]\n",
      "22.04861111111111\n",
      "Number of sigma deviations: 15.205814074711148\n"
     ]
    },
    {
     "data": {
      "image/png": "[encoded data removed]",
      "text/plain": [
       "<Figure size 800x600 with 1 Axes>"
      ]
     },
     "metadata": {},
     "output_type": "display_data"
    }
   ],
   "source": [
    "import numpy as np\n",
    "import pandas as pd\n",
    "from scipy.stats import gaussian_kde\n",
    "\n",
    "data = pd.read_csv('/cosma/home/do012/dc-he4/anisotropy-flamingo/data/analysis_all/h0_mc_all.csv')\n",
    "df = data[data['Relations'] == '$Y_\\mathrm{{SZ}}-T$']\n",
    "\n",
    "# Extract the data\n",
    "data_array = df[['$\\Delta H_0\\,(\\%)$', 'Significance $(\\sigma)$']].values.T\n",
    "\n",
    "# Fit the KDE\n",
    "kde = gaussian_kde(data_array)\n",
    "\n",
    "# Create a grid for evaluation\n",
    "x_min, x_max = data_array[0].min(), data_array[0].max()\n",
    "y_min, y_max = data_array[1].min(), data_array[1].max()\n",
    "x_grid, y_grid = np.linspace(x_min, x_max, 100), np.linspace(y_min, y_max, 100)\n",
    "x_mesh, y_mesh = np.meshgrid(x_grid, y_grid)\n",
    "\n",
    "# Evaluate the KDE on the grid\n",
    "positions = np.vstack([x_mesh.ravel(), y_mesh.ravel()])\n",
    "kde_values = kde(positions).reshape(x_mesh.shape)\n",
    "\n",
    "# Find the grid point with the maximum KDE value (KDE peak)\n",
    "max_idx = np.unravel_index(np.argmax(kde_values), kde_values.shape)\n",
    "kde_peak = [x_grid[max_idx[1]], y_grid[max_idx[0]]]\n",
    "print(f\"KDE peak (mode): {kde_peak}\")\n",
    "\n",
    "# Define the target point\n",
    "target_point = np.array([14, 2.6])\n",
    "\n",
    "# Compute the direction vector from the KDE peak to the target point\n",
    "direction_vector = target_point - kde_peak\n",
    "direction_vector /= np.linalg.norm(direction_vector)  # Normalize the direction vector\n",
    "\n",
    "# Project all data points onto the direction vector\n",
    "data_points = df[['$\\Delta H_0\\,(\\%)$', 'Significance $(\\sigma)$']].values\n",
    "projections = np.dot(data_points - kde_peak, direction_vector)\n",
    "\n",
    "# Center the projections so that the KDE peak corresponds to zero\n",
    "# (Already centered since we subtracted kde_peak)\n",
    "\n",
    "# Project the target point onto the direction vector\n",
    "target_projection = np.dot(target_point - kde_peak, direction_vector)\n",
    "\n",
    "# Compute the standard deviation using the +34th percentile from the KDE peak\n",
    "kde_peak_percentile = np.sum(projections <= 0) / len(projections) * 100\n",
    "std_proj = np.percentile(projections, kde_peak_percentile + 34)\n",
    "print(kde_peak_percentile)\n",
    "\n",
    "# Note: Since the KDE peak is at zero, the 50th percentile of the projections is approximately zero\n",
    "\n",
    "# Compute the number of sigma deviations for the target point\n",
    "sigma_deviation = (target_projection) / std_proj\n",
    "print(f\"Number of sigma deviations: {sigma_deviation}\")\n"
   ]
  },
  {
   "cell_type": "code",
   "execution_count": 31,
   "metadata": {},
   "outputs": [
    {
     "data": {
      "image/png": "[encoded data removed]",
      "text/plain": [
       "<Figure size 1000x600 with 1 Axes>"
      ]
     },
     "metadata": {},
     "output_type": "display_data"
    }
   ],
   "source": [
    "# Visualization of the projected distribution\n",
    "plt.figure(figsize=(10, 6))\n",
    "plt.style.use('./nice.mplstyle')\n",
    "\n",
    "# Plot the histogram of projections\n",
    "plt.hist(projections, bins=30, density=True, alpha=0.6, color='gray', label='Projected Distribution')\n",
    "\n",
    "# Mark the KDE peak projection\n",
    "plt.axvline(0, color='blue', linestyle='--', label='KDE Peak (0)')\n",
    "\n",
    "# Mark the ±34th percentiles\n",
    "plt.axvline(std_proj, color='green', linestyle='-', label='+34th Percentile')\n",
    "# plt.axvline(-std_proj, color='green', linestyle='-', label='-34th Percentile')\n",
    "\n",
    "# Mark the target projection\n",
    "plt.axvline(target_projection, color='red', linestyle='-', label=f'Target Point ({target_projection:.2f})')\n",
    "\n",
    "# Add labels and legend\n",
    "plt.xlabel('Projection Distance')\n",
    "plt.ylabel('Density')\n",
    "plt.title('Projected Distribution with KDE Peak and Percentiles')\n",
    "plt.legend()\n",
    "plt.show()"
   ]
  },
  {
   "cell_type": "code",
   "execution_count": 58,
   "metadata": {},
   "outputs": [
    {
     "name": "stdout",
     "output_type": "stream",
     "text": [
      "EVT-based p-value: 0.0005163613044514292\n"
     ]
    }
   ],
   "source": [
    "from scipy.stats import genpareto\n",
    "\n",
    "# Set threshold (e.g., 95th percentile)\n",
    "threshold = np.percentile(projections, 70)\n",
    "exceedances = projections[projections > threshold] - threshold\n",
    "\n",
    "# Fit GPD to exceedances\n",
    "params = genpareto.fit(exceedances)\n",
    "\n",
    "# Compute exceedance probability of the target projection\n",
    "if target_projection > threshold:\n",
    "    p_value_evt = 1 - genpareto.cdf(target_projection - threshold, *params)\n",
    "else:\n",
    "    p_value_evt = 1.0  # Target point not in tail\n",
    "print(f\"EVT-based p-value: {p_value_evt}\")\n"
   ]
  },
  {
   "cell_type": "code",
   "execution_count": 78,
   "metadata": {},
   "outputs": [
    {
     "name": "stdout",
     "output_type": "stream",
     "text": [
      "EVT-based p-value: 0.0002369448564852883\n"
     ]
    },
    {
     "data": {
      "image/png": "[encoded data removed]",
      "text/plain": [
       "<Figure size 1000x600 with 1 Axes>"
      ]
     },
     "metadata": {},
     "output_type": "display_data"
    }
   ],
   "source": [
    "# Set a high threshold (e.g., 95th percentile)\n",
    "percentile = 80\n",
    "threshold = np.percentile(projections, percentile)\n",
    "exceedances = projections[projections > threshold] - threshold  # Calculate excesses over the threshold\n",
    "\n",
    "# Fit the Generalized Pareto Distribution (GPD)\n",
    "params = genpareto.fit(exceedances)\n",
    "shape, loc, scale = params\n",
    "\n",
    "# Compute exceedance probability of the target projection\n",
    "if target_projection > threshold:\n",
    "    p_value_evt = 1 - genpareto.cdf(target_projection - threshold, *params)\n",
    "else:\n",
    "    p_value_evt = 1.0  # Target point not in tail\n",
    "print(f\"EVT-based p-value: {p_value_evt}\")\n",
    "\n",
    "# Visualization\n",
    "plt.figure(figsize=(10, 6))\n",
    "\n",
    "# Plot histogram of the entire projections\n",
    "plt.hist(projections, bins=30, density=True, alpha=0.6, color='gray', label='Original Data')\n",
    "\n",
    "# Plot fitted GPD for the tail\n",
    "x_vals = np.linspace(threshold, projections.max(), 100)\n",
    "gpd_pdf = genpareto.pdf(x_vals - threshold, shape, loc, scale) * (1 - percentile/100)\n",
    "plt.plot(x_vals[1:], gpd_pdf[1:], color='g', label='Fitted GPD (Tail)')\n",
    "\n",
    "# Mark threshold\n",
    "plt.axvline(threshold, color='blue', linestyle='--', label=f'Threshold ({percentile}th Percentile)')\n",
    "\n",
    "# Mark the target projection\n",
    "plt.axvline(target_projection, color='red', linestyle='-', label=f'M21')\n",
    "\n",
    "# Add labels and legend\n",
    "plt.xlabel('Projection')\n",
    "plt.ylabel('Density')\n",
    "plt.legend()\n",
    "plt.show()"
   ]
  },
  {
   "cell_type": "code",
   "execution_count": 69,
   "metadata": {},
   "outputs": [
    {
     "name": "stdout",
     "output_type": "stream",
     "text": [
      "K-S Statistic: 0.0293, p-value: 9.1992e-01\n"
     ]
    }
   ],
   "source": [
    "from scipy.stats import kstest\n",
    "\n",
    "# Perform the Kolmogorov-Smirnov test\n",
    "ks_stat, ks_p_value = kstest(exceedances, 'genpareto', args=params)\n",
    "print(f\"K-S Statistic: {ks_stat:.4f}, p-value: {ks_p_value:.4e}\")\n"
   ]
  }
 ],
 "metadata": {
  "kernelspec": {
   "display_name": "base",
   "language": "python",
   "name": "python3"
  },
  "language_info": {
   "codemirror_mode": {
    "name": "ipython",
    "version": 3
   },
   "file_extension": ".py",
   "mimetype": "text/x-python",
   "name": "python",
   "nbconvert_exporter": "python",
   "pygments_lexer": "ipython3",
   "version": "3.8.13"
  }
 },
 "nbformat": 4,
 "nbformat_minor": 2
}
